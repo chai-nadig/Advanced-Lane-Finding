{
 "cells": [
  {
   "cell_type": "markdown",
   "metadata": {},
   "source": [
    "# Advanced Lane Finding"
   ]
  },
  {
   "cell_type": "code",
   "execution_count": 1,
   "metadata": {},
   "outputs": [],
   "source": [
    "# Import all required libraries\n",
    "import numpy as np\n",
    "import cv2\n",
    "import matplotlib.pyplot as plt\n",
    "import matplotlib.image as mpimg\n",
    "import glob\n",
    "import os\n",
    "from moviepy.editor import VideoFileClip\n",
    "from IPython.display import HTML"
   ]
  },
  {
   "cell_type": "code",
   "execution_count": 2,
   "metadata": {},
   "outputs": [],
   "source": [
    "# prepare object points\n",
    "nx = 9 # the number of inside corners in x\n",
    "ny = 6 # the number of inside corners in y"
   ]
  },
  {
   "cell_type": "code",
   "execution_count": 3,
   "metadata": {},
   "outputs": [],
   "source": [
    "def find_corners(img):\n",
    "    # Convert to grayscale\n",
    "    gray = cv2.cvtColor(img, cv2.COLOR_BGR2GRAY)\n",
    "\n",
    "    # Find the chessboard corners\n",
    "    ret, corners = cv2.findChessboardCorners(gray, (nx, ny), None)\n",
    "\n",
    "    return ret, corners"
   ]
  },
  {
   "cell_type": "code",
   "execution_count": 4,
   "metadata": {},
   "outputs": [],
   "source": [
    "def calibrate_camera(calibration_images_path, filename_prefix='calibration'):\n",
    "    objpoints = [] # 3d points in real world space\n",
    "    imgpoints = [] # 2d points in image plane\n",
    "    \n",
    "    images = glob.glob('{}/{}*.jpg'.format(calibration_images_path, filename_prefix))\n",
    "    \n",
    "    # Prepare object points\n",
    "    objp = np.zeros((nx * ny, 3), np.float32)\n",
    "    objp[:,:2] = np.mgrid[0:nx, 0:ny].T.reshape(-1, 2) # x, y coordinates\n",
    "    \n",
    "    \n",
    "    for fname in images:\n",
    "        # Read the image\n",
    "        img = mpimg.imread(fname)\n",
    "        \n",
    "        ret, corners = find_corners(img)    \n",
    "\n",
    "        if ret == True:\n",
    "            imgpoints.append(corners)\n",
    "            objpoints.append(objp)\n",
    "\n",
    "            # draw and display the corners\n",
    "            # img = cv2.drawChessboardCorners(img, (nx, ny), corners, ret)\n",
    "            # plt.imshow(img)\n",
    "        \n",
    "    ret, mtx, dist, rvecs, tvecs = cv2.calibrateCamera(objpoints, imgpoints, img.shape[1::-1], None, None)\n",
    "    return ret, mtx, dist, rvecs, tvecs"
   ]
  },
  {
   "cell_type": "code",
   "execution_count": 5,
   "metadata": {},
   "outputs": [],
   "source": [
    "# Calibrate the camera\n",
    "ret, mtx, dist, rvecs, tvecs = calibrate_camera('camera_cal')"
   ]
  },
  {
   "cell_type": "code",
   "execution_count": 6,
   "metadata": {},
   "outputs": [],
   "source": [
    "def undistort_image(img, mtx, dist):\n",
    "    undistorted = cv2.undistort(img, mtx, dist, None, mtx)\n",
    "    return undistorted"
   ]
  },
  {
   "cell_type": "markdown",
   "metadata": {},
   "source": [
    "## `color_and_gradient_threshold`\n",
    "* Apply color and gradient thresholding to detect lines in an image"
   ]
  },
  {
   "cell_type": "code",
   "execution_count": 7,
   "metadata": {},
   "outputs": [],
   "source": [
    "# Color and gradient thresholding\n",
    "def color_and_gradient_threshold(img, s_thresh=(170, 255), sx_thresh=(20, 100)):\n",
    "    # Convert to HLS color space and separate the S channel\n",
    "    # Note: img is the undistorted image\n",
    "    hls = cv2.cvtColor(img, cv2.COLOR_RGB2HLS)\n",
    "    s_channel = hls[:,:,2]\n",
    "\n",
    "    # Grayscale image\n",
    "    # NOTE: we already saw that standard grayscaling lost color information for the lane lines\n",
    "    # Explore gradients in other colors spaces / color channels to see what might work better\n",
    "    gray = cv2.cvtColor(img, cv2.COLOR_RGB2GRAY)\n",
    "\n",
    "    # Sobel x\n",
    "    sobelx = cv2.Sobel(gray, cv2.CV_64F, 1, 0) # Take the derivative in x\n",
    "    abs_sobelx = np.absolute(sobelx) # Absolute x derivative to accentuate lines away from horizontal\n",
    "    scaled_sobel = np.uint8(255*abs_sobelx/np.max(abs_sobelx))\n",
    "\n",
    "    # Threshold x gradient\n",
    "    thresh_min = 20\n",
    "    thresh_max = 100\n",
    "    sxbinary = np.zeros_like(scaled_sobel)\n",
    "    sxbinary[(scaled_sobel >= thresh_min) & (scaled_sobel <= thresh_max)] = 1\n",
    "\n",
    "    # Threshold color channel\n",
    "    s_thresh_min = 170\n",
    "    s_thresh_max = 255\n",
    "    s_binary = np.zeros_like(s_channel)\n",
    "    s_binary[(s_channel >= s_thresh_min) & (s_channel <= s_thresh_max)] = 1\n",
    "\n",
    "    # Combine the two binary thresholds\n",
    "    combined_binary = np.zeros_like(sxbinary)\n",
    "    combined_binary[(s_binary == 1) | (sxbinary == 1)] = 1\n",
    "    \n",
    "    return combined_binary\n",
    "    "
   ]
  },
  {
   "cell_type": "markdown",
   "metadata": {},
   "source": [
    "## `perspective_warp`\n",
    "* Warp an image's perspective to a bird's eye view"
   ]
  },
  {
   "cell_type": "code",
   "execution_count": 8,
   "metadata": {},
   "outputs": [],
   "source": [
    "def perspective_warp(img):\n",
    "    # Define image size\n",
    "    img_size = (img.shape[1], img.shape[0])\n",
    "        \n",
    "    x_offset_bottom_left = 230\n",
    "    x_offset_bottom_right = 230\n",
    "    y_offset_bottom = 0\n",
    "        \n",
    "    x_offset_top_left = 580\n",
    "    x_offset_top_right = 580\n",
    "    y_offset_top = 450\n",
    "    \n",
    "    # Debugging purposes\n",
    "#     print(img_size)\n",
    "#     plt.imshow(img)\n",
    "#     plt.plot(x_offset_bottom_left, img_size[1]- y_offset_bottom, '.')\n",
    "#     plt.plot(img_size[0] - x_offset_bottom_right, img_size[1]- y_offset_bottom, '.')\n",
    "#     plt.plot(img_size[0] - x_offset_top_right, y_offset_top, '.')\n",
    "#     plt.plot(x_offset_top_left, y_offset_top, '.')\n",
    "    \n",
    "    # Four source coordinates\n",
    "    src = np.float32([\n",
    "        [x_offset_bottom_left, img_size[1] - y_offset_bottom],\n",
    "        [img_size[0] - x_offset_bottom_right, img_size[1] - y_offset_bottom],\n",
    "        [img_size[0] - x_offset_top_right, y_offset_top],\n",
    "        [x_offset_top_left, y_offset_top]\n",
    "    ])\n",
    "    \n",
    "    dst = np.float32([\n",
    "        [350, 720],\n",
    "        [940, 720],\n",
    "        [1100, 0],\n",
    "        [230, 0]\n",
    "    ])\n",
    "    \n",
    "    M = cv2.getPerspectiveTransform(src, dst)\n",
    "    Minv = cv2.getPerspectiveTransform(dst, src)\n",
    "    \n",
    "    warped = cv2.warpPerspective(img, M,img_size, flags=cv2.INTER_LINEAR)\n",
    "\n",
    "    # Debugging purpose\n",
    "#     plt.imshow(warped)\n",
    "    return warped, M, Minv"
   ]
  },
  {
   "cell_type": "markdown",
   "metadata": {},
   "source": [
    "## `fit_polynomial`\n",
    "* Given an array of pixels, find a best fit polynomial line"
   ]
  },
  {
   "cell_type": "code",
   "execution_count": 9,
   "metadata": {},
   "outputs": [],
   "source": [
    "def fit_polynomial(img_shape, leftx, lefty, rightx, righty):\n",
    "    # Fit a second order polynomial to each with np.polyfit() ###\n",
    "    left_fit = np.polyfit(lefty, leftx, 2)\n",
    "    right_fit = np.polyfit(righty, rightx, 2)\n",
    "    # Generate x and y values for plotting\n",
    "    ploty = np.linspace(0, img_shape[0]-1, img_shape[0])\n",
    "    # Calc both polynomials using ploty, left_fit and right_fit ###\n",
    "    left_fitx = left_fit[0]*ploty**2 + left_fit[1]*ploty + left_fit[2]\n",
    "    right_fitx = right_fit[0]*ploty**2 + right_fit[1]*ploty + right_fit[2]\n",
    "    \n",
    "    return left_fitx, right_fitx, ploty, left_fit, right_fit"
   ]
  },
  {
   "cell_type": "markdown",
   "metadata": {},
   "source": [
    "## `Line` class\n",
    "* This class is used hold all the relevant data for each of the lines"
   ]
  },
  {
   "cell_type": "code",
   "execution_count": 10,
   "metadata": {},
   "outputs": [],
   "source": [
    "# Define a class to receive the characteristics of each line detection\n",
    "class Line():\n",
    "    def __init__(self):\n",
    "        # was the line detected in the last iteration?\n",
    "        self.detected = False  \n",
    "        # x values of the last n fits of the line\n",
    "        self.recent_xfitted = [] \n",
    "        #average x values of the fitted line over the last n iterations\n",
    "        self.bestx = None     \n",
    "        #polynomial coefficients averaged over the last n iterations\n",
    "        self.best_fit = None  \n",
    "        #polynomial coefficients for the most recent fit\n",
    "        self.current_fit = None\n",
    "        #radius of curvature of the line in some units\n",
    "        self.radius_of_curvature = None \n",
    "        #distance in meters of vehicle center from the line\n",
    "        self.line_base_pos = None \n",
    "        #difference in fit coefficients between last and new fits\n",
    "        self.diffs = np.array([0,0,0], dtype='float') \n",
    "        #x values for detected line pixels\n",
    "        self.allx = None  \n",
    "        #y values for detected line pixels\n",
    "        self.ally = None  "
   ]
  },
  {
   "cell_type": "markdown",
   "metadata": {},
   "source": [
    "## `find_lane_pixels`\n",
    "* Finds lane pixels in a binary image of a road, using a histograms and moving window algorithm"
   ]
  },
  {
   "cell_type": "code",
   "execution_count": 11,
   "metadata": {},
   "outputs": [],
   "source": [
    "def find_lane_pixels(binary_warped):\n",
    "    # Take a histogram of the bottom half of the image\n",
    "    histogram = np.sum(binary_warped[binary_warped.shape[0]//2:,:], axis=0)\n",
    "\n",
    "    # Find the peak of the left and right halves of the histogram\n",
    "    # These will be the starting point for the left and right lines\n",
    "    midpoint = np.int(histogram.shape[0]//2)\n",
    "    leftx_base = np.argmax(histogram[:midpoint])\n",
    "    rightx_base = np.argmax(histogram[midpoint:]) + midpoint\n",
    "\n",
    "    # HYPERPARAMETERS\n",
    "    # Choose the number of sliding windows\n",
    "    nwindows = 9\n",
    "    # Set the width of the windows +/- margin\n",
    "    margin = 100\n",
    "    # Set minimum number of pixels found to recenter window\n",
    "    minpix = 50\n",
    "\n",
    "    # Set height of windows - based on nwindows above and image shape\n",
    "    window_height = np.int(binary_warped.shape[0]//nwindows)\n",
    "    # Identify the x and y positions of all nonzero pixels in the image\n",
    "    nonzero = binary_warped.nonzero()\n",
    "    nonzeroy = np.array(nonzero[0])\n",
    "    nonzerox = np.array(nonzero[1])\n",
    "    \n",
    "    # Current positions to be updated later for each window in nwindows\n",
    "    leftx_current = leftx_base\n",
    "    rightx_current = rightx_base\n",
    "\n",
    "    # Create empty lists to receive left and right lane pixel indices\n",
    "    left_lane_inds = []\n",
    "    right_lane_inds = []\n",
    "\n",
    "    # Step through the windows one by one\n",
    "    for window in range(nwindows):\n",
    "        # Identify window boundaries in x and y (and right and left)\n",
    "        win_y_low = binary_warped.shape[0] - (window+1)*window_height\n",
    "        win_y_high = binary_warped.shape[0] - window*window_height\n",
    "\n",
    "        ### Find the four below boundaries of the window ###\n",
    "        win_xleft_low = leftx_current - margin\n",
    "        win_xleft_high = leftx_current + margin\n",
    "        win_xright_low = rightx_current - margin\n",
    "        win_xright_high = rightx_current + margin\n",
    "        \n",
    "        ### Identify the nonzero pixels in x and y within the window ###\n",
    "        good_left_inds = ((nonzeroy >= win_y_low) & (nonzeroy < win_y_high) & \n",
    "        (nonzerox >= win_xleft_low) &  (nonzerox < win_xleft_high)).nonzero()[0]\n",
    "        good_right_inds = ((nonzeroy >= win_y_low) & (nonzeroy < win_y_high) & \n",
    "        (nonzerox >= win_xright_low) &  (nonzerox < win_xright_high)).nonzero()[0]\n",
    "\n",
    "        \n",
    "        # Append these indices to the lists\n",
    "        left_lane_inds.append(good_left_inds)\n",
    "        right_lane_inds.append(good_right_inds)\n",
    "        \n",
    "        ### If you found > minpix pixels, recenter next window ###\n",
    "        ### (`right` or `leftx_current`) on their mean position ###\n",
    "        if len(good_left_inds) > minpix:\n",
    "            leftx_current = np.int(np.mean(nonzerox[good_left_inds]))\n",
    "        if len(good_right_inds) > minpix:        \n",
    "            rightx_current = np.int(np.mean(nonzerox[good_right_inds]))\n",
    "\n",
    "\n",
    "    # Concatenate the arrays of indices (previously was a list of lists of pixels)\n",
    "    try:\n",
    "        left_lane_inds = np.concatenate(left_lane_inds)\n",
    "        right_lane_inds = np.concatenate(right_lane_inds)\n",
    "    except ValueError:\n",
    "        # Avoids an error if the above is not implemented fully\n",
    "        pass\n",
    "\n",
    "    # Extract left and right line pixel positions\n",
    "    leftx = nonzerox[left_lane_inds]\n",
    "    lefty = nonzeroy[left_lane_inds] \n",
    "    rightx = nonzerox[right_lane_inds]\n",
    "    righty = nonzeroy[right_lane_inds]\n",
    "\n",
    "    return leftx, lefty, rightx, righty"
   ]
  },
  {
   "cell_type": "markdown",
   "metadata": {},
   "source": [
    "## `find_lane_pixels_prior`\n",
    "* Find lane pixels in a road image using a previously fit line in a similar image."
   ]
  },
  {
   "cell_type": "code",
   "execution_count": 12,
   "metadata": {},
   "outputs": [],
   "source": [
    "def find_lane_pixels_prior(binary_warped, left_fit, right_fit):\n",
    "    # HYPERPARAMETER\n",
    "    # Choose the width of the margin around the previous polynomial to search\n",
    "    # The quiz grader expects 100 here, but feel free to tune on your own!\n",
    "    margin = 100\n",
    "\n",
    "    # Grab activated pixels\n",
    "    nonzero = binary_warped.nonzero()\n",
    "    nonzeroy = np.array(nonzero[0])\n",
    "    nonzerox = np.array(nonzero[1])\n",
    "\n",
    "    ### Set the area of search based on activated x-values ###\n",
    "    ### within the +/- margin of our polynomial function ###    \n",
    "    left_fitx_1 = left_fit[0]*nonzeroy**2 + left_fit[1]*nonzeroy + left_fit[2] - margin\n",
    "    left_fitx_2 = left_fit[0]*nonzeroy**2 + left_fit[1]*nonzeroy + left_fit[2] + margin\n",
    "    right_fitx_1 = right_fit[0]*nonzeroy**2 + right_fit[1]*nonzeroy + right_fit[2] - margin\n",
    "    right_fitx_2 = right_fit[0]*nonzeroy**2 + right_fit[1]*nonzeroy + right_fit[2] + margin\n",
    "    \n",
    "    left_lane_inds = ((nonzerox > left_fitx_1) & (nonzerox < left_fitx_2))\n",
    "    right_lane_inds = ((nonzerox > right_fitx_1) & (nonzerox < right_fitx_2))\n",
    "    \n",
    "    # Again, extract left and right line pixel positions\n",
    "    leftx = nonzerox[left_lane_inds]\n",
    "    lefty = nonzeroy[left_lane_inds] \n",
    "    rightx = nonzerox[right_lane_inds]\n",
    "    righty = nonzeroy[right_lane_inds]\n",
    "    \n",
    "    return leftx, lefty, rightx, righty"
   ]
  },
  {
   "cell_type": "markdown",
   "metadata": {},
   "source": [
    "## `draw_lane_lines`\n",
    "* Draw the left and right lane lines in red and blue colors in a binary image."
   ]
  },
  {
   "cell_type": "code",
   "execution_count": 13,
   "metadata": {},
   "outputs": [],
   "source": [
    "def draw_lane_lines(binary_warped, left_line=None, right_line=None):\n",
    "    # Find our lane pixels first\n",
    "    \n",
    "    # Create an output image to draw on and visualize the result\n",
    "    out_img = np.dstack((binary_warped, binary_warped, binary_warped))\n",
    "    \n",
    "    if left_line is not None and right_line is not None and left_line.current_fit is not None and right_line.current_fit is not None:\n",
    "        left_fit = left_line.current_fit\n",
    "        right_fit = right_line.current_fit\n",
    "        leftx, lefty, rightx, righty = find_lane_pixels_prior(binary_warped, left_fit, right_fit)    \n",
    "    else:\n",
    "        leftx, lefty, rightx, righty = find_lane_pixels(binary_warped)\n",
    "    \n",
    "    \n",
    "    left_fitx, right_fitx, ploty, left_fit, right_fit = fit_polynomial(binary_warped.shape, leftx, lefty, rightx, righty)\n",
    "    \n",
    "    ## Visualization ##\n",
    "    # Colors in the left and right lane regions\n",
    "    out_img[lefty, leftx] = [255, 0, 0]\n",
    "    out_img[righty, rightx] = [0, 0, 255]\n",
    "    \n",
    "\n",
    "    # Plots the left and right polynomials on the lane lines\n",
    "    # plt.plot(left_fitx, ploty, color='yellow')\n",
    "    # plt.plot(right_fitx, ploty, color='yellow')\n",
    "\n",
    "    return out_img, ploty, left_fitx, right_fitx, left_fit, right_fit"
   ]
  },
  {
   "cell_type": "markdown",
   "metadata": {},
   "source": [
    "## `measure_curvature_pixels`\n",
    "* Measure the radius of curvature of the lane lines in meters\n",
    "* This function converts from pixel to real world space"
   ]
  },
  {
   "cell_type": "code",
   "execution_count": 14,
   "metadata": {},
   "outputs": [],
   "source": [
    "def measure_curvature_pixels(ploty, left_fitx, right_fitx, img_width):\n",
    "    '''\n",
    "    Calculates the curvature of polynomial functions in pixels.\n",
    "    '''\n",
    "    \n",
    "    # Define y-value where we want radius of curvature\n",
    "    # We'll choose the maximum y-value, corresponding to the bottom of the image\n",
    "    y_eval = np.max(ploty)\n",
    "    y_index = np.where(ploty==y_eval)\n",
    "\n",
    "    \n",
    "    # Define conversions in x and y from pixels space to meters\n",
    "    ym_per_pix = 30/720 # meters per pixel in y dimension\n",
    "    \n",
    "    xm_per_pix = 3.7/(np.absolute(left_fitx[y_index] - right_fitx[y_index])) # meters per pixel in x dimension\n",
    "    \n",
    "    # Fit new polynomials to x,y in world space\n",
    "    # Utilize `ym_per_pix` & `xm_per_pix` here\n",
    "    left_fit_cr = np.polyfit(ploty*ym_per_pix, left_fitx*xm_per_pix, 2)\n",
    "    right_fit_cr = np.polyfit(ploty*ym_per_pix, right_fitx*xm_per_pix, 2)\n",
    "       \n",
    "    \n",
    "    # Calculation of R_curve (radius of curvature)\n",
    "    left_curverad = ((1 + (2*left_fit_cr[0]*y_eval*ym_per_pix + left_fit_cr[1])**2)**1.5) / np.absolute(2*left_fit_cr[0])\n",
    "    right_curverad = ((1 + (2*right_fit_cr[0]*y_eval*ym_per_pix + right_fit_cr[1])**2)**1.5) / np.absolute(2*right_fit_cr[0])\n",
    "\n",
    "    print(\"left line curvature:\", left_curverad)\n",
    "    print(\"right line curvature:\", right_curverad)\n",
    "    \n",
    "    lane_center = (left_fitx[y_index] + right_fitx[y_index]) / 2\n",
    "    image_center = img_width / 2\n",
    "    distance_from_center = np.absolute(lane_center - image_center) * xm_per_pix\n",
    "    print(\"distance from center\", distance_from_center)\n",
    "    return left_curverad, right_curverad, distance_from_center\n",
    "    "
   ]
  },
  {
   "cell_type": "markdown",
   "metadata": {},
   "source": [
    "## `unwarp_lane_lines_to_frame`\n",
    "* This function draws the lane detection map from a warped binary image onto an unwarped orignal image"
   ]
  },
  {
   "cell_type": "code",
   "execution_count": 15,
   "metadata": {},
   "outputs": [],
   "source": [
    "def unwarp_lane_lines_to_frame(warped, undist, ploty, left_fitx, right_fitx, Minv):\n",
    "    # Create an image to draw the lines on\n",
    "    warp_zero = np.zeros_like(warped).astype(np.uint8)\n",
    "    color_warp = np.dstack((warp_zero, warp_zero, warp_zero))\n",
    "\n",
    "    # Recast the x and y points into usable format for cv2.fillPoly()\n",
    "    pts_left = np.array([np.transpose(np.vstack([left_fitx, ploty]))])\n",
    "    pts_right = np.array([np.flipud(np.transpose(np.vstack([right_fitx, ploty])))])\n",
    "    pts = np.hstack((pts_left, pts_right))\n",
    "\n",
    "    # Draw the lane onto the warped blank image\n",
    "    # print(type(np.int_([pts])))\n",
    "    cv2.fillPoly(color_warp, np.int_([pts]), (0,255, 0))\n",
    "\n",
    "    # Warp the blank back to original image space using inverse perspective matrix (Minv)\n",
    "    newwarp = cv2.warpPerspective(color_warp, Minv, (undist.shape[1], undist.shape[0])) \n",
    "    # Combine the result with the original image\n",
    "    result = cv2.addWeighted(undist, 1, newwarp, 0.3, 0)\n",
    "    return result"
   ]
  },
  {
   "cell_type": "markdown",
   "metadata": {},
   "source": [
    "## `generate_output_image`\n",
    "This function generates images for each step of the lane detection pipeline\n",
    "It generates an image for the following steps:\n",
    "\n",
    "1. Undistortion\n",
    "2. Binary image from Color and Gradient Thresholding\n",
    "3. Prespective Transform of the binary image\n",
    "4. Perspective Transform of the original color image\n",
    "5. Left and Right line pixels detections\n",
    "6. Lane detection on original image"
   ]
  },
  {
   "cell_type": "code",
   "execution_count": 16,
   "metadata": {},
   "outputs": [],
   "source": [
    "def generate_output_image(img, fname, output_dir):    \n",
    "    undistorted = undistort_image(img, mtx, dist)\n",
    "    # plt.imshow(undistorted)\n",
    "    cv2.imwrite(output_dir + '/' + fname + '_undistorted.jpg', cv2.cvtColor(undistorted, cv2.COLOR_RGB2BGR) )\n",
    "\n",
    "    binary = color_and_gradient_threshold(undistorted)\n",
    "    cv2.imwrite(output_dir + '/' + fname + '_binary.jpg', binary.astype('uint8') * 255 )\n",
    "    plt.imshow(binary, cmap='gray')\n",
    "\n",
    "    warped, M, Minv = perspective_warp(binary)\n",
    "    cv2.imwrite(output_dir + '/' + fname + '_linepixels.jpg', warped.astype('uint8') * 255)\n",
    "\n",
    "    warped_2, _M, _Minv = perspective_warp(img)\n",
    "    cv2.imwrite(output_dir + '/' + fname + '_warped.jpg', cv2.cvtColor(warped_2, cv2.COLOR_RGB2BGR))\n",
    "    plt.imshow(warped_2)\n",
    "\n",
    "    lane_img, ploty, left_fitx, right_fitx, _, _ = draw_lane_lines(warped)\n",
    "    cv2.imwrite(output_dir + '/' + fname + '_linepixels_fit_overplotted.jpg', cv2.cvtColor(lane_img, cv2.COLOR_RGB2BGR) )\n",
    "\n",
    "    plt.imshow(lane_img)\n",
    "\n",
    "    out_img = unwarp_lane_lines_to_frame(warped, undistorted, ploty, left_fitx, right_fitx, Minv )\n",
    "    cv2.imwrite(output_dir + '/' + fname + '.jpg', cv2.cvtColor(out_img, cv2.COLOR_RGB2BGR))\n",
    "    plt.imshow(out_img)\n"
   ]
  },
  {
   "cell_type": "markdown",
   "metadata": {},
   "source": [
    "* Instantiate the `Line` objects"
   ]
  },
  {
   "cell_type": "code",
   "execution_count": 17,
   "metadata": {},
   "outputs": [],
   "source": [
    "left_line = Line()\n",
    "right_line = Line()"
   ]
  },
  {
   "cell_type": "markdown",
   "metadata": {},
   "source": [
    "## `process_image`\n",
    "* This function is used to execute the lane detection pipeline on frames of a video."
   ]
  },
  {
   "cell_type": "code",
   "execution_count": 18,
   "metadata": {},
   "outputs": [],
   "source": [
    "def process_image(img):    \n",
    "    undistorted = undistort_image(img, mtx, dist)\n",
    "    binary = color_and_gradient_threshold(undistorted)\n",
    "    warped, M, Minv = perspective_warp(binary)\n",
    "    lane_img, ploty, left_fitx, right_fitx, left_fit, right_fit = draw_lane_lines(warped, left_line=left_line, right_line=right_line)\n",
    "    \n",
    "    left_curverad, right_curverad, distance_from_center = measure_curvature_pixels(ploty, left_fitx, right_fitx, img.shape[1])\n",
    "    left_line.current_fit = left_fit\n",
    "    right_line.current_fit = right_fit\n",
    "    \n",
    "    out_img = unwarp_lane_lines_to_frame(warped, undistorted, ploty, left_fitx, right_fitx, Minv )\n",
    "    return out_img"
   ]
  },
  {
   "cell_type": "markdown",
   "metadata": {},
   "source": [
    "## Detect lanes on `test_images`\n",
    "Here we detect lanes in the test images and write them to `output_images` directory."
   ]
  },
  {
   "cell_type": "code",
   "execution_count": 19,
   "metadata": {},
   "outputs": [
    {
     "data": {
      "image/png": "[encoded data removed]",
      "text/plain": [
       "<Figure size 432x288 with 1 Axes>"
      ]
     },
     "metadata": {},
     "output_type": "display_data"
    }
   ],
   "source": [
    "for file in os.listdir(\"test_images/\"):\n",
    "    image = mpimg.imread('test_images/' + file)\n",
    "    fname = file.split('.')[0]\n",
    "    generate_output_image(image, fname, 'output_images')"
   ]
  },
  {
   "cell_type": "markdown",
   "metadata": {},
   "source": [
    "## Run the pipeline on the video\n",
    "* This section runs the pipeline on `project_video.mp4` and performs lane detection in each frame.\n",
    "* The output video is in `output_videos` directory."
   ]
  },
  {
   "cell_type": "code",
   "execution_count": 20,
   "metadata": {},
   "outputs": [
    {
     "name": "stdout",
     "output_type": "stream",
     "text": [
      "left line curvature: 396.126515850795\n",
      "right line curvature: 674.3183376036791\n",
      "distance from center [0.45961687]\n",
      "[MoviePy] >>>> Building video output_videos/project_video.mp4\n",
      "[MoviePy] Writing video output_videos/project_video.mp4\n"
     ]
    },
    {
     "name": "stderr",
     "output_type": "stream",
     "text": [
      "  0%|          | 1/1261 [00:00<02:26,  8.60it/s]"
     ]
    },
    {
     "name": "stdout",
     "output_type": "stream",
     "text": [
      "left line curvature: 404.1304135129078\n",
      "right line curvature: 674.805876832466\n",
      "distance from center [0.46100554]\n"
     ]
    },
    {
     "name": "stderr",
     "output_type": "stream",
     "text": [
      "\r",
      "  0%|          | 2/1261 [00:00<02:41,  7.79it/s]"
     ]
    },
    {
     "name": "stdout",
     "output_type": "stream",
     "text": [
      "left line curvature: 367.24836464993814\n",
      "right line curvature: 587.786449240304\n",
      "distance from center [0.44873301]\n"
     ]
    },
    {
     "name": "stderr",
     "output_type": "stream",
     "text": [
      "\r",
      "  0%|          | 3/1261 [00:00<02:40,  7.82it/s]"
     ]
    },
    {
     "name": "stdout",
     "output_type": "stream",
     "text": [
      "left line curvature: 369.4979601256536\n",
      "right line curvature: 603.8101859146251\n",
      "distance from center [0.45150935]\n"
     ]
    },
    {
     "name": "stderr",
     "output_type": "stream",
     "text": [
      "\r",
      "  0%|          | 4/1261 [00:00<02:39,  7.90it/s]"
     ]
    },
    {
     "name": "stdout",
     "output_type": "stream",
     "text": [
      "left line curvature: 364.0594775511089\n",
      "right line curvature: 540.7457994972438\n",
      "distance from center [0.44869273]\n"
     ]
    },
    {
     "name": "stderr",
     "output_type": "stream",
     "text": [
      "\r",
      "  0%|          | 5/1261 [00:00<02:37,  7.97it/s]"
     ]
    },
    {
     "name": "stdout",
     "output_type": "stream",
     "text": [
      "left line curvature: 380.14090886154736\n",
      "right line curvature: 416.95895667930637\n",
      "distance from center [0.45156498]\n"
     ]
    },
    {
     "name": "stderr",
     "output_type": "stream",
     "text": [
      "\r",
      "  0%|          | 6/1261 [00:00<02:37,  7.95it/s]"
     ]
    },
    {
     "name": "stdout",
     "output_type": "stream",
     "text": [
      "left line curvature: 397.96732925541806\n",
      "right line curvature: 361.22030218913426\n",
      "distance from center [0.45645338]\n"
     ]
    },
    {
     "name": "stderr",
     "output_type": "stream",
     "text": [
      "\r",
      "  1%|          | 7/1261 [00:00<02:37,  7.99it/s]"
     ]
    },
    {
     "name": "stdout",
     "output_type": "stream",
     "text": [
      "left line curvature: 405.44915661563465\n",
      "right line curvature: 354.61372879198234\n",
      "distance from center [0.45796073]\n"
     ]
    },
    {
     "name": "stderr",
     "output_type": "stream",
     "text": [
      "\r",
      "  1%|          | 8/1261 [00:01<02:41,  7.76it/s]"
     ]
    },
    {
     "name": "stdout",
     "output_type": "stream",
     "text": [
      "left line curvature: 410.70783116648903\n",
      "right line curvature: 449.15639925701686\n",
      "distance from center [0.4823674]\n"
     ]
    },
    {
     "name": "stderr",
     "output_type": "stream",
     "text": [
      "\r",
      "  1%|          | 9/1261 [00:01<02:40,  7.79it/s]"
     ]
    },
    {
     "name": "stdout",
     "output_type": "stream",
     "text": [
      "left line curvature: 440.53815197347683\n",
      "right line curvature: 567.3776691571123\n",
      "distance from center [0.49259104]\n"
     ]
    },
    {
     "name": "stderr",
     "output_type": "stream",
     "text": [
      "\r",
      "  1%|          | 10/1261 [00:01<02:40,  7.79it/s]"
     ]
    },
    {
     "name": "stdout",
     "output_type": "stream",
     "text": [
      "left line curvature: 431.7545860572265\n",
      "right line curvature: 625.8682752700302\n",
      "distance from center [0.49712759]\n"
     ]
    },
    {
     "name": "stderr",
     "output_type": "stream",
     "text": [
      "\r",
      "  1%|          | 11/1261 [00:01<02:39,  7.84it/s]"
     ]
    },
    {
     "name": "stdout",
     "output_type": "stream",
     "text": [
      "left line curvature: 454.3220798200933\n",
      "right line curvature: 845.3659655267256\n",
      "distance from center [0.50707177]\n"
     ]
    },
    {
     "name": "stderr",
     "output_type": "stream",
     "text": [
      "\r",
      "  1%|          | 12/1261 [00:01<02:39,  7.85it/s]"
     ]
    },
    {
     "name": "stdout",
     "output_type": "stream",
     "text": [
      "left line curvature: 524.3711778191307\n",
      "right line curvature: 798.1368406206966\n",
      "distance from center [0.50074341]\n"
     ]
    },
    {
     "name": "stderr",
     "output_type": "stream",
     "text": [
      "\r",
      "  1%|          | 13/1261 [00:01<02:38,  7.87it/s]"
     ]
    },
    {
     "name": "stdout",
     "output_type": "stream",
     "text": [
      "left line curvature: 544.2676998552508\n",
      "right line curvature: 996.3990417470106\n",
      "distance from center [0.50650099]\n"
     ]
    },
    {
     "name": "stderr",
     "output_type": "stream",
     "text": [
      "\r",
      "  1%|          | 14/1261 [00:01<02:37,  7.90it/s]"
     ]
    },
    {
     "name": "stdout",
     "output_type": "stream",
     "text": [
      "left line curvature: 491.7700430891759\n",
      "right line curvature: 532.4869496650774\n",
      "distance from center [0.47508165]\n"
     ]
    },
    {
     "name": "stderr",
     "output_type": "stream",
     "text": [
      "\r",
      "  1%|          | 15/1261 [00:01<02:36,  7.95it/s]"
     ]
    },
    {
     "name": "stdout",
     "output_type": "stream",
     "text": [
      "left line curvature: 475.3464378220639\n",
      "right line curvature: 529.7092721403012\n",
      "distance from center [0.4714855]\n"
     ]
    },
    {
     "name": "stderr",
     "output_type": "stream",
     "text": [
      "\r",
      "  1%|▏         | 16/1261 [00:02<02:36,  7.95it/s]"
     ]
    },
    {
     "name": "stdout",
     "output_type": "stream",
     "text": [
      "left line curvature: 450.0582191260192\n",
      "right line curvature: 331.30942951064134\n",
      "distance from center [0.43945436]\n"
     ]
    },
    {
     "name": "stderr",
     "output_type": "stream",
     "text": [
      "\r",
      "  1%|▏         | 17/1261 [00:02<02:36,  7.93it/s]"
     ]
    },
    {
     "name": "stdout",
     "output_type": "stream",
     "text": [
      "left line curvature: 431.6387182224086\n",
      "right line curvature: 292.3425345614333\n",
      "distance from center [0.42847085]\n"
     ]
    },
    {
     "name": "stderr",
     "output_type": "stream",
     "text": [
      "\r",
      "  1%|▏         | 18/1261 [00:02<02:36,  7.95it/s]"
     ]
    },
    {
     "name": "stdout",
     "output_type": "stream",
     "text": [
      "left line curvature: 500.12005083903193\n",
      "right line curvature: 332.31554959417497\n",
      "distance from center [0.44217529]\n"
     ]
    },
    {
     "name": "stderr",
     "output_type": "stream",
     "text": [
      "\r",
      "  2%|▏         | 19/1261 [00:02<02:35,  7.97it/s]"
     ]
    },
    {
     "name": "stdout",
     "output_type": "stream",
     "text": [
      "left line curvature: 452.8310436426907\n",
      "right line curvature: 326.06147698285554\n",
      "distance from center [0.42250004]\n"
     ]
    },
    {
     "name": "stderr",
     "output_type": "stream",
     "text": [
      "\r",
      "  2%|▏         | 20/1261 [00:02<02:37,  7.89it/s]"
     ]
    },
    {
     "name": "stdout",
     "output_type": "stream",
     "text": [
      "left line curvature: 453.22519974334614\n",
      "right line curvature: 320.5047927568127\n",
      "distance from center [0.40776377]\n"
     ]
    },
    {
     "name": "stderr",
     "output_type": "stream",
     "text": [
      "\r",
      "  2%|▏         | 21/1261 [00:02<02:36,  7.92it/s]"
     ]
    },
    {
     "name": "stdout",
     "output_type": "stream",
     "text": [
      "left line curvature: 490.422843667576\n",
      "right line curvature: 357.3953754075623\n",
      "distance from center [0.41143834]\n"
     ]
    },
    {
     "name": "stderr",
     "output_type": "stream",
     "text": [
      "\r",
      "  2%|▏         | 22/1261 [00:02<02:36,  7.94it/s]"
     ]
    },
    {
     "name": "stdout",
     "output_type": "stream",
     "text": [
      "left line curvature: 517.5284448977253\n",
      "right line curvature: 339.28632311987417\n",
      "distance from center [0.3983249]\n"
     ]
    },
    {
     "name": "stderr",
     "output_type": "stream",
     "text": [
      "\r",
      "  2%|▏         | 23/1261 [00:02<02:35,  7.94it/s]"
     ]
    },
    {
     "name": "stdout",
     "output_type": "stream",
     "text": [
      "left line curvature: 540.0918170547682\n",
      "right line curvature: 387.79753290899555\n",
      "distance from center [0.40188501]\n"
     ]
    },
    {
     "name": "stderr",
     "output_type": "stream",
     "text": [
      "\r",
      "  2%|▏         | 24/1261 [00:03<02:37,  7.87it/s]"
     ]
    },
    {
     "name": "stdout",
     "output_type": "stream",
     "text": [
      "left line curvature: 477.9772797581335\n",
      "right line curvature: 459.2651947974183\n",
      "distance from center [0.40553816]\n"
     ]
    },
    {
     "name": "stderr",
     "output_type": "stream",
     "text": [
      "\r",
      "  2%|▏         | 25/1261 [00:03<02:36,  7.89it/s]"
     ]
    },
    {
     "name": "stdout",
     "output_type": "stream",
     "text": [
      "left line curvature: 454.8121689518905\n",
      "right line curvature: 697.5850101203725\n",
      "distance from center [0.41782202]\n"
     ]
    },
    {
     "name": "stderr",
     "output_type": "stream",
     "text": [
      "\r",
      "  2%|▏         | 26/1261 [00:03<02:36,  7.91it/s]"
     ]
    },
    {
     "name": "stdout",
     "output_type": "stream",
     "text": [
      "left line curvature: 486.70478698663163\n",
      "right line curvature: 862.3624854762832\n",
      "distance from center [0.42140986]\n"
     ]
    },
    {
     "name": "stderr",
     "output_type": "stream",
     "text": [
      "\r",
      "  2%|▏         | 27/1261 [00:03<02:35,  7.92it/s]"
     ]
    },
    {
     "name": "stdout",
     "output_type": "stream",
     "text": [
      "left line curvature: 429.807065353782\n",
      "right line curvature: 681.2723413146747\n",
      "distance from center [0.39890145]\n"
     ]
    },
    {
     "name": "stderr",
     "output_type": "stream",
     "text": [
      "\r",
      "  2%|▏         | 28/1261 [00:03<02:35,  7.93it/s]"
     ]
    },
    {
     "name": "stdout",
     "output_type": "stream",
     "text": [
      "left line curvature: 457.78027366496025\n",
      "right line curvature: 643.6844453193085\n",
      "distance from center [0.39221598]\n"
     ]
    },
    {
     "name": "stderr",
     "output_type": "stream",
     "text": [
      "\r",
      "  2%|▏         | 29/1261 [00:03<02:35,  7.95it/s]"
     ]
    },
    {
     "name": "stdout",
     "output_type": "stream",
     "text": [
      "left line curvature: 426.221723171758\n",
      "right line curvature: 497.22766013509704\n",
      "distance from center [0.3800634]\n"
     ]
    },
    {
     "name": "stderr",
     "output_type": "stream",
     "text": [
      "\r",
      "  2%|▏         | 30/1261 [00:03<02:34,  7.97it/s]"
     ]
    },
    {
     "name": "stdout",
     "output_type": "stream",
     "text": [
      "left line curvature: 396.61877877591826\n",
      "right line curvature: 535.9962648933533\n",
      "distance from center [0.37997909]\n"
     ]
    },
    {
     "name": "stderr",
     "output_type": "stream",
     "text": [
      "\r",
      "  2%|▏         | 31/1261 [00:03<02:33,  7.99it/s]"
     ]
    },
    {
     "name": "stdout",
     "output_type": "stream",
     "text": [
      "left line curvature: 358.3426032425436\n",
      "right line curvature: 297.1430613516064\n",
      "distance from center [0.35342158]\n"
     ]
    },
    {
     "name": "stderr",
     "output_type": "stream",
     "text": [
      "\r",
      "  3%|▎         | 32/1261 [00:03<02:33,  8.00it/s]"
     ]
    },
    {
     "name": "stdout",
     "output_type": "stream",
     "text": [
      "left line curvature: 337.1193884985594\n",
      "right line curvature: 292.4501027715524\n",
      "distance from center [0.35392304]\n"
     ]
    },
    {
     "name": "stderr",
     "output_type": "stream",
     "text": [
      "\r",
      "  3%|▎         | 33/1261 [00:04<02:33,  8.02it/s]"
     ]
    },
    {
     "name": "stdout",
     "output_type": "stream",
     "text": [
      "left line curvature: 307.42961151984497\n",
      "right line curvature: 271.58924660782765\n",
      "distance from center [0.32418142]\n"
     ]
    },
    {
     "name": "stderr",
     "output_type": "stream",
     "text": [
      "\r",
      "  3%|▎         | 34/1261 [00:04<02:32,  8.04it/s]"
     ]
    },
    {
     "name": "stdout",
     "output_type": "stream",
     "text": [
      "left line curvature: 322.57795041808225\n",
      "right line curvature: 363.62014312890386\n",
      "distance from center [0.37828098]\n"
     ]
    },
    {
     "name": "stderr",
     "output_type": "stream",
     "text": [
      "\r",
      "  3%|▎         | 35/1261 [00:04<02:32,  8.05it/s]"
     ]
    },
    {
     "name": "stdout",
     "output_type": "stream",
     "text": [
      "left line curvature: 311.4392807017421\n",
      "right line curvature: 447.71865193933775\n",
      "distance from center [0.39683206]\n"
     ]
    },
    {
     "name": "stderr",
     "output_type": "stream",
     "text": [
      "\r",
      "  3%|▎         | 36/1261 [00:04<02:32,  8.05it/s]"
     ]
    },
    {
     "name": "stdout",
     "output_type": "stream",
     "text": [
      "left line curvature: 296.59058083323333\n",
      "right line curvature: 484.46508653998166\n",
      "distance from center [0.40644322]\n"
     ]
    },
    {
     "name": "stderr",
     "output_type": "stream",
     "text": [
      "\r",
      "  3%|▎         | 37/1261 [00:04<02:31,  8.06it/s]"
     ]
    },
    {
     "name": "stdout",
     "output_type": "stream",
     "text": [
      "left line curvature: 280.65561058084273\n",
      "right line curvature: 368.1990497455002\n",
      "distance from center [0.38130218]\n"
     ]
    },
    {
     "name": "stderr",
     "output_type": "stream",
     "text": [
      "\r",
      "  3%|▎         | 38/1261 [00:04<02:31,  8.07it/s]"
     ]
    },
    {
     "name": "stdout",
     "output_type": "stream",
     "text": [
      "left line curvature: 277.6461311346595\n",
      "right line curvature: 325.4368035818603\n",
      "distance from center [0.38006163]\n"
     ]
    },
    {
     "name": "stderr",
     "output_type": "stream",
     "text": [
      "\r",
      "  3%|▎         | 39/1261 [00:04<02:31,  8.08it/s]"
     ]
    },
    {
     "name": "stdout",
     "output_type": "stream",
     "text": [
      "left line curvature: 278.4306232775793\n",
      "right line curvature: 285.65536099782105\n",
      "distance from center [0.37602714]\n"
     ]
    },
    {
     "name": "stderr",
     "output_type": "stream",
     "text": [
      "\r",
      "  3%|▎         | 40/1261 [00:04<02:30,  8.09it/s]"
     ]
    },
    {
     "name": "stdout",
     "output_type": "stream",
     "text": [
      "left line curvature: 281.5940943073592\n",
      "right line curvature: 253.5109680910564\n",
      "distance from center [0.37313852]\n"
     ]
    },
    {
     "name": "stderr",
     "output_type": "stream",
     "text": [
      "\r",
      "  3%|▎         | 41/1261 [00:05<02:30,  8.09it/s]"
     ]
    },
    {
     "name": "stdout",
     "output_type": "stream",
     "text": [
      "left line curvature: 297.21809679608185\n",
      "right line curvature: 250.95312986712972\n",
      "distance from center [0.38121903]\n"
     ]
    },
    {
     "name": "stderr",
     "output_type": "stream",
     "text": [
      "\r",
      "  3%|▎         | 42/1261 [00:05<02:30,  8.09it/s]"
     ]
    },
    {
     "name": "stdout",
     "output_type": "stream",
     "text": [
      "left line curvature: 302.22489796484774\n",
      "right line curvature: 265.19037723464737\n",
      "distance from center [0.39386761]\n"
     ]
    },
    {
     "name": "stderr",
     "output_type": "stream",
     "text": [
      "\r",
      "  3%|▎         | 43/1261 [00:05<02:30,  8.07it/s]"
     ]
    },
    {
     "name": "stdout",
     "output_type": "stream",
     "text": [
      "left line curvature: 321.49997124973817\n",
      "right line curvature: 270.32839976999384\n",
      "distance from center [0.40684442]\n"
     ]
    },
    {
     "name": "stderr",
     "output_type": "stream",
     "text": [
      "\r",
      "  3%|▎         | 44/1261 [00:05<02:30,  8.06it/s]"
     ]
    },
    {
     "name": "stdout",
     "output_type": "stream",
     "text": [
      "left line curvature: 330.46762299384284\n",
      "right line curvature: 270.58492979067415\n",
      "distance from center [0.40523527]\n"
     ]
    },
    {
     "name": "stderr",
     "output_type": "stream",
     "text": [
      "\r",
      "  4%|▎         | 45/1261 [00:05<02:31,  8.05it/s]"
     ]
    },
    {
     "name": "stdout",
     "output_type": "stream",
     "text": [
      "left line curvature: 343.84901891820874\n",
      "right line curvature: 277.1094289308098\n",
      "distance from center [0.40611038]\n"
     ]
    },
    {
     "name": "stderr",
     "output_type": "stream",
     "text": [
      "\r",
      "  4%|▎         | 46/1261 [00:05<02:30,  8.06it/s]"
     ]
    },
    {
     "name": "stdout",
     "output_type": "stream",
     "text": [
      "left line curvature: 363.47358878428054\n",
      "right line curvature: 285.94872056776876\n",
      "distance from center [0.40633441]\n"
     ]
    },
    {
     "name": "stderr",
     "output_type": "stream",
     "text": [
      "\r",
      "  4%|▎         | 47/1261 [00:05<02:30,  8.06it/s]"
     ]
    },
    {
     "name": "stdout",
     "output_type": "stream",
     "text": [
      "left line curvature: 378.10130756326384\n",
      "right line curvature: 367.89269647747034\n",
      "distance from center [0.43064654]\n"
     ]
    },
    {
     "name": "stderr",
     "output_type": "stream",
     "text": [
      "\r",
      "  4%|▍         | 48/1261 [00:05<02:30,  8.05it/s]"
     ]
    },
    {
     "name": "stdout",
     "output_type": "stream",
     "text": [
      "left line curvature: 383.3283426880893\n",
      "right line curvature: 456.45771795258645\n",
      "distance from center [0.45168856]\n"
     ]
    },
    {
     "name": "stderr",
     "output_type": "stream",
     "text": [
      "\r",
      "  4%|▍         | 49/1261 [00:06<02:30,  8.03it/s]"
     ]
    },
    {
     "name": "stdout",
     "output_type": "stream",
     "text": [
      "left line curvature: 422.85200235942375\n",
      "right line curvature: 464.03008739331995\n",
      "distance from center [0.45134706]\n"
     ]
    },
    {
     "name": "stderr",
     "output_type": "stream",
     "text": [
      "\r",
      "  4%|▍         | 50/1261 [00:06<02:31,  8.02it/s]"
     ]
    },
    {
     "name": "stdout",
     "output_type": "stream",
     "text": [
      "left line curvature: 408.6090198150071\n",
      "right line curvature: 429.51863854299376\n",
      "distance from center [0.44368226]\n"
     ]
    },
    {
     "name": "stderr",
     "output_type": "stream",
     "text": [
      "\r",
      "  4%|▍         | 51/1261 [00:06<02:31,  8.01it/s]"
     ]
    },
    {
     "name": "stdout",
     "output_type": "stream",
     "text": [
      "left line curvature: 437.27152329426184\n",
      "right line curvature: 459.89612536252764\n",
      "distance from center [0.44605482]\n"
     ]
    },
    {
     "name": "stderr",
     "output_type": "stream",
     "text": [
      "\r",
      "  4%|▍         | 52/1261 [00:06<02:31,  7.99it/s]"
     ]
    },
    {
     "name": "stdout",
     "output_type": "stream",
     "text": [
      "left line curvature: 424.45952032137586\n",
      "right line curvature: 435.60114090859776\n",
      "distance from center [0.44056156]\n"
     ]
    },
    {
     "name": "stderr",
     "output_type": "stream",
     "text": [
      "\r",
      "  4%|▍         | 53/1261 [00:06<02:31,  7.98it/s]"
     ]
    },
    {
     "name": "stdout",
     "output_type": "stream",
     "text": [
      "left line curvature: 416.68977637376133\n",
      "right line curvature: 387.8663268759487\n",
      "distance from center [0.42629022]\n"
     ]
    },
    {
     "name": "stderr",
     "output_type": "stream",
     "text": [
      "\r",
      "  4%|▍         | 54/1261 [00:06<02:31,  7.96it/s]"
     ]
    },
    {
     "name": "stdout",
     "output_type": "stream",
     "text": [
      "left line curvature: 420.86758152707426\n",
      "right line curvature: 326.2877101600056\n",
      "distance from center [0.41164865]\n"
     ]
    },
    {
     "name": "stderr",
     "output_type": "stream",
     "text": [
      "\r",
      "  4%|▍         | 55/1261 [00:06<02:31,  7.95it/s]"
     ]
    },
    {
     "name": "stdout",
     "output_type": "stream",
     "text": [
      "left line curvature: 419.7439369234126\n",
      "right line curvature: 328.5713200441541\n",
      "distance from center [0.40750651]\n"
     ]
    },
    {
     "name": "stderr",
     "output_type": "stream",
     "text": [
      "\r",
      "  4%|▍         | 56/1261 [00:07<02:31,  7.94it/s]"
     ]
    },
    {
     "name": "stdout",
     "output_type": "stream",
     "text": [
      "left line curvature: 464.951812732186\n",
      "right line curvature: 331.93911169546664\n",
      "distance from center [0.4081235]\n"
     ]
    },
    {
     "name": "stderr",
     "output_type": "stream",
     "text": [
      "\r",
      "  5%|▍         | 57/1261 [00:07<02:31,  7.93it/s]"
     ]
    },
    {
     "name": "stdout",
     "output_type": "stream",
     "text": [
      "left line curvature: 439.39621836918957\n",
      "right line curvature: 345.9705027150502\n",
      "distance from center [0.40168646]\n"
     ]
    },
    {
     "name": "stderr",
     "output_type": "stream",
     "text": [
      "\r",
      "  5%|▍         | 58/1261 [00:07<02:31,  7.92it/s]"
     ]
    },
    {
     "name": "stdout",
     "output_type": "stream",
     "text": [
      "left line curvature: 448.86249753024475\n",
      "right line curvature: 398.72096956437287\n",
      "distance from center [0.40402565]\n"
     ]
    },
    {
     "name": "stderr",
     "output_type": "stream",
     "text": [
      "\r",
      "  5%|▍         | 59/1261 [00:07<02:31,  7.92it/s]"
     ]
    },
    {
     "name": "stdout",
     "output_type": "stream",
     "text": [
      "left line curvature: 435.6435532601156\n",
      "right line curvature: 620.9534863363662\n",
      "distance from center [0.43352487]\n"
     ]
    },
    {
     "name": "stderr",
     "output_type": "stream",
     "text": [
      "\r",
      "  5%|▍         | 60/1261 [00:07<02:31,  7.91it/s]"
     ]
    },
    {
     "name": "stdout",
     "output_type": "stream",
     "text": [
      "left line curvature: 422.6577068166668\n",
      "right line curvature: 395.27572060219495\n",
      "distance from center [0.38853376]\n"
     ]
    },
    {
     "name": "stderr",
     "output_type": "stream",
     "text": [
      "\r",
      "  5%|▍         | 61/1261 [00:07<02:31,  7.90it/s]"
     ]
    },
    {
     "name": "stdout",
     "output_type": "stream",
     "text": [
      "left line curvature: 446.5615236935732\n",
      "right line curvature: 316.6426818926927\n",
      "distance from center [0.36760775]\n"
     ]
    },
    {
     "name": "stderr",
     "output_type": "stream",
     "text": [
      "\r",
      "  5%|▍         | 62/1261 [00:07<02:32,  7.89it/s]"
     ]
    },
    {
     "name": "stdout",
     "output_type": "stream",
     "text": [
      "left line curvature: 416.4437749641347\n",
      "right line curvature: 267.0216654239637\n",
      "distance from center [0.34925951]\n"
     ]
    },
    {
     "name": "stderr",
     "output_type": "stream",
     "text": [
      "\r",
      "  5%|▍         | 63/1261 [00:07<02:32,  7.88it/s]"
     ]
    },
    {
     "name": "stdout",
     "output_type": "stream",
     "text": [
      "left line curvature: 445.3163340587727\n",
      "right line curvature: 266.96926666405614\n",
      "distance from center [0.34021033]\n"
     ]
    },
    {
     "name": "stderr",
     "output_type": "stream",
     "text": [
      "\r",
      "  5%|▌         | 64/1261 [00:08<02:32,  7.86it/s]"
     ]
    },
    {
     "name": "stdout",
     "output_type": "stream",
     "text": [
      "left line curvature: 428.7902695931389\n",
      "right line curvature: 267.5462236887547\n",
      "distance from center [0.33864316]\n"
     ]
    },
    {
     "name": "stderr",
     "output_type": "stream",
     "text": [
      "\r",
      "  5%|▌         | 65/1261 [00:08<02:32,  7.85it/s]"
     ]
    },
    {
     "name": "stdout",
     "output_type": "stream",
     "text": [
      "left line curvature: 469.67020270590945\n",
      "right line curvature: 275.26295033987805\n",
      "distance from center [0.33508036]\n"
     ]
    },
    {
     "name": "stderr",
     "output_type": "stream",
     "text": [
      "\r",
      "  5%|▌         | 66/1261 [00:08<02:32,  7.85it/s]"
     ]
    },
    {
     "name": "stdout",
     "output_type": "stream",
     "text": [
      "left line curvature: 473.7577773952539\n",
      "right line curvature: 319.9777369863247\n",
      "distance from center [0.34244216]\n"
     ]
    },
    {
     "name": "stderr",
     "output_type": "stream",
     "text": [
      "\r",
      "  5%|▌         | 67/1261 [00:08<02:32,  7.84it/s]"
     ]
    },
    {
     "name": "stdout",
     "output_type": "stream",
     "text": [
      "left line curvature: 478.58626128728014\n",
      "right line curvature: 358.94844714248023\n",
      "distance from center [0.3446956]\n"
     ]
    },
    {
     "name": "stderr",
     "output_type": "stream",
     "text": [
      "\r",
      "  5%|▌         | 68/1261 [00:08<02:32,  7.83it/s]"
     ]
    },
    {
     "name": "stdout",
     "output_type": "stream",
     "text": [
      "left line curvature: 489.755011229885\n",
      "right line curvature: 373.007687312093\n",
      "distance from center [0.3405441]\n"
     ]
    },
    {
     "name": "stderr",
     "output_type": "stream",
     "text": [
      "\r",
      "  5%|▌         | 69/1261 [00:08<02:32,  7.82it/s]"
     ]
    },
    {
     "name": "stdout",
     "output_type": "stream",
     "text": [
      "left line curvature: 456.8013708772825\n",
      "right line curvature: 369.72090393720663\n",
      "distance from center [0.33085897]\n"
     ]
    },
    {
     "name": "stderr",
     "output_type": "stream",
     "text": [
      "\r",
      "  6%|▌         | 70/1261 [00:08<02:32,  7.81it/s]"
     ]
    },
    {
     "name": "stdout",
     "output_type": "stream",
     "text": [
      "left line curvature: 485.82471678932825\n",
      "right line curvature: 418.37774022263625\n",
      "distance from center [0.33117252]\n"
     ]
    },
    {
     "name": "stderr",
     "output_type": "stream",
     "text": [
      "\r",
      "  6%|▌         | 71/1261 [00:09<02:32,  7.80it/s]"
     ]
    },
    {
     "name": "stdout",
     "output_type": "stream",
     "text": [
      "left line curvature: 501.6721735631207\n",
      "right line curvature: 396.2023726110027\n",
      "distance from center [0.32654281]\n"
     ]
    },
    {
     "name": "stderr",
     "output_type": "stream",
     "text": [
      "\r",
      "  6%|▌         | 72/1261 [00:09<02:32,  7.79it/s]"
     ]
    },
    {
     "name": "stdout",
     "output_type": "stream",
     "text": [
      "left line curvature: 514.7989904155764\n",
      "right line curvature: 400.21692848057177\n",
      "distance from center [0.32030293]\n"
     ]
    },
    {
     "name": "stderr",
     "output_type": "stream",
     "text": [
      "\r",
      "  6%|▌         | 73/1261 [00:09<02:32,  7.78it/s]"
     ]
    },
    {
     "name": "stdout",
     "output_type": "stream",
     "text": [
      "left line curvature: 497.84154140228003\n",
      "right line curvature: 379.14407192884977\n",
      "distance from center [0.30644945]\n"
     ]
    },
    {
     "name": "stderr",
     "output_type": "stream",
     "text": [
      "\r",
      "  6%|▌         | 74/1261 [00:09<02:32,  7.77it/s]"
     ]
    },
    {
     "name": "stdout",
     "output_type": "stream",
     "text": [
      "left line curvature: 515.5793162885335\n",
      "right line curvature: 372.1481046484847\n",
      "distance from center [0.30073782]\n"
     ]
    },
    {
     "name": "stderr",
     "output_type": "stream",
     "text": [
      "\r",
      "  6%|▌         | 75/1261 [00:09<02:32,  7.76it/s]"
     ]
    },
    {
     "name": "stdout",
     "output_type": "stream",
     "text": [
      "left line curvature: 538.4460443314351\n",
      "right line curvature: 369.858958045708\n",
      "distance from center [0.29366384]\n"
     ]
    },
    {
     "name": "stderr",
     "output_type": "stream",
     "text": [
      "\r",
      "  6%|▌         | 76/1261 [00:09<02:32,  7.76it/s]"
     ]
    },
    {
     "name": "stdout",
     "output_type": "stream",
     "text": [
      "left line curvature: 528.053132448191\n",
      "right line curvature: 350.8120394619693\n",
      "distance from center [0.28917051]\n"
     ]
    },
    {
     "name": "stderr",
     "output_type": "stream",
     "text": [
      "\r",
      "  6%|▌         | 77/1261 [00:09<02:33,  7.73it/s]"
     ]
    },
    {
     "name": "stdout",
     "output_type": "stream",
     "text": [
      "left line curvature: 583.3406079880556\n",
      "right line curvature: 416.67530196180365\n",
      "distance from center [0.29543118]\n"
     ]
    },
    {
     "name": "stderr",
     "output_type": "stream",
     "text": [
      "\r",
      "  6%|▌         | 78/1261 [00:10<02:33,  7.72it/s]"
     ]
    },
    {
     "name": "stdout",
     "output_type": "stream",
     "text": [
      "left line curvature: 569.6977925505512\n",
      "right line curvature: 448.2322833791219\n",
      "distance from center [0.29059473]\n"
     ]
    },
    {
     "name": "stderr",
     "output_type": "stream",
     "text": [
      "\r",
      "  6%|▋         | 79/1261 [00:10<02:33,  7.71it/s]"
     ]
    },
    {
     "name": "stdout",
     "output_type": "stream",
     "text": [
      "left line curvature: 610.925223682953\n",
      "right line curvature: 403.2546929171382\n",
      "distance from center [0.28051965]\n"
     ]
    },
    {
     "name": "stderr",
     "output_type": "stream",
     "text": [
      "\r",
      "  6%|▋         | 80/1261 [00:10<02:33,  7.70it/s]"
     ]
    },
    {
     "name": "stdout",
     "output_type": "stream",
     "text": [
      "left line curvature: 620.386230182756\n",
      "right line curvature: 349.2502255304238\n",
      "distance from center [0.2637144]\n"
     ]
    },
    {
     "name": "stderr",
     "output_type": "stream",
     "text": [
      "\r",
      "  6%|▋         | 81/1261 [00:10<02:33,  7.70it/s]"
     ]
    },
    {
     "name": "stdout",
     "output_type": "stream",
     "text": [
      "left line curvature: 571.4965532824036\n",
      "right line curvature: 314.7432382350288\n",
      "distance from center [0.24941291]\n"
     ]
    },
    {
     "name": "stderr",
     "output_type": "stream",
     "text": [
      "\r",
      "  7%|▋         | 82/1261 [00:10<02:33,  7.69it/s]"
     ]
    },
    {
     "name": "stdout",
     "output_type": "stream",
     "text": [
      "left line curvature: 551.5115460697931\n",
      "right line curvature: 329.2526895108105\n",
      "distance from center [0.23772894]\n"
     ]
    },
    {
     "name": "stderr",
     "output_type": "stream",
     "text": [
      "\r",
      "  7%|▋         | 83/1261 [00:10<02:33,  7.68it/s]"
     ]
    },
    {
     "name": "stdout",
     "output_type": "stream",
     "text": [
      "left line curvature: 524.8858856205509\n",
      "right line curvature: 328.59304188375836\n",
      "distance from center [0.22524365]\n"
     ]
    },
    {
     "name": "stderr",
     "output_type": "stream",
     "text": [
      "\r",
      "  7%|▋         | 84/1261 [00:10<02:33,  7.68it/s]"
     ]
    },
    {
     "name": "stdout",
     "output_type": "stream",
     "text": [
      "left line curvature: 529.8676495360422\n",
      "right line curvature: 320.4782300949356\n",
      "distance from center [0.20497776]\n"
     ]
    },
    {
     "name": "stderr",
     "output_type": "stream",
     "text": [
      "\r",
      "  7%|▋         | 85/1261 [00:11<02:33,  7.66it/s]"
     ]
    },
    {
     "name": "stdout",
     "output_type": "stream",
     "text": [
      "left line curvature: 499.47797627402093\n",
      "right line curvature: 382.37532776904885\n",
      "distance from center [0.22177492]\n"
     ]
    },
    {
     "name": "stderr",
     "output_type": "stream",
     "text": [
      "\r",
      "  7%|▋         | 86/1261 [00:11<02:33,  7.66it/s]"
     ]
    },
    {
     "name": "stdout",
     "output_type": "stream",
     "text": [
      "left line curvature: 469.7549074427166\n",
      "right line curvature: 448.8869553110319\n",
      "distance from center [0.23404491]\n"
     ]
    },
    {
     "name": "stderr",
     "output_type": "stream",
     "text": [
      "\r",
      "  7%|▋         | 87/1261 [00:11<02:33,  7.65it/s]"
     ]
    },
    {
     "name": "stdout",
     "output_type": "stream",
     "text": [
      "left line curvature: 419.2365625821038\n",
      "right line curvature: 494.89557680052036\n",
      "distance from center [0.24177449]\n"
     ]
    },
    {
     "name": "stderr",
     "output_type": "stream",
     "text": [
      "\r",
      "  7%|▋         | 88/1261 [00:11<02:33,  7.65it/s]"
     ]
    },
    {
     "name": "stdout",
     "output_type": "stream",
     "text": [
      "left line curvature: 383.69726590627\n",
      "right line curvature: 430.0365672857827\n",
      "distance from center [0.22833529]\n"
     ]
    },
    {
     "name": "stderr",
     "output_type": "stream",
     "text": [
      "\r",
      "  7%|▋         | 89/1261 [00:11<02:33,  7.65it/s]"
     ]
    },
    {
     "name": "stdout",
     "output_type": "stream",
     "text": [
      "left line curvature: 370.9756987717766\n",
      "right line curvature: 358.25306682918625\n",
      "distance from center [0.21915205]\n"
     ]
    },
    {
     "name": "stderr",
     "output_type": "stream",
     "text": [
      "\r",
      "  7%|▋         | 90/1261 [00:11<02:33,  7.64it/s]"
     ]
    },
    {
     "name": "stdout",
     "output_type": "stream",
     "text": [
      "left line curvature: 344.0005356500746\n",
      "right line curvature: 285.1583835008685\n",
      "distance from center [0.2136287]\n"
     ]
    },
    {
     "name": "stderr",
     "output_type": "stream",
     "text": [
      "\r",
      "  7%|▋         | 91/1261 [00:11<02:33,  7.64it/s]"
     ]
    },
    {
     "name": "stdout",
     "output_type": "stream",
     "text": [
      "left line curvature: 352.5177851788362\n",
      "right line curvature: 315.6279045920865\n",
      "distance from center [0.21924353]\n"
     ]
    },
    {
     "name": "stderr",
     "output_type": "stream",
     "text": [
      "\r",
      "  7%|▋         | 92/1261 [00:12<02:33,  7.63it/s]"
     ]
    },
    {
     "name": "stdout",
     "output_type": "stream",
     "text": [
      "left line curvature: 362.44066830274346\n",
      "right line curvature: 316.72081293622415\n",
      "distance from center [0.22645082]\n"
     ]
    },
    {
     "name": "stderr",
     "output_type": "stream",
     "text": [
      "\r",
      "  7%|▋         | 93/1261 [00:12<02:33,  7.62it/s]"
     ]
    },
    {
     "name": "stdout",
     "output_type": "stream",
     "text": [
      "left line curvature: 372.28210211941047\n",
      "right line curvature: 335.0429359690441\n",
      "distance from center [0.24192117]\n"
     ]
    },
    {
     "name": "stderr",
     "output_type": "stream",
     "text": [
      "\r",
      "  7%|▋         | 94/1261 [00:12<02:33,  7.61it/s]"
     ]
    },
    {
     "name": "stdout",
     "output_type": "stream",
     "text": [
      "left line curvature: 361.5436290362175\n",
      "right line curvature: 368.6546427527553\n",
      "distance from center [0.24936642]\n"
     ]
    },
    {
     "name": "stderr",
     "output_type": "stream",
     "text": [
      "\r",
      "  8%|▊         | 95/1261 [00:12<02:33,  7.61it/s]"
     ]
    },
    {
     "name": "stdout",
     "output_type": "stream",
     "text": [
      "left line curvature: 385.9645953831089\n",
      "right line curvature: 371.83393864745267\n",
      "distance from center [0.24916268]\n"
     ]
    },
    {
     "name": "stderr",
     "output_type": "stream",
     "text": [
      "\r",
      "  8%|▊         | 96/1261 [00:12<02:33,  7.60it/s]"
     ]
    },
    {
     "name": "stdout",
     "output_type": "stream",
     "text": [
      "left line curvature: 361.58638472536063\n",
      "right line curvature: 386.87775823299745\n",
      "distance from center [0.24666739]\n"
     ]
    },
    {
     "name": "stderr",
     "output_type": "stream",
     "text": [
      "\r",
      "  8%|▊         | 97/1261 [00:12<02:33,  7.59it/s]"
     ]
    },
    {
     "name": "stdout",
     "output_type": "stream",
     "text": [
      "left line curvature: 349.1309228662269\n",
      "right line curvature: 410.1113386630983\n",
      "distance from center [0.25070185]\n"
     ]
    },
    {
     "name": "stderr",
     "output_type": "stream",
     "text": [
      "\r",
      "  8%|▊         | 98/1261 [00:12<02:33,  7.58it/s]"
     ]
    },
    {
     "name": "stdout",
     "output_type": "stream",
     "text": [
      "left line curvature: 372.37300512120737\n",
      "right line curvature: 458.54483201543877\n",
      "distance from center [0.26161881]\n"
     ]
    },
    {
     "name": "stderr",
     "output_type": "stream",
     "text": [
      "\r",
      "  8%|▊         | 99/1261 [00:13<02:33,  7.58it/s]"
     ]
    },
    {
     "name": "stdout",
     "output_type": "stream",
     "text": [
      "left line curvature: 353.56024441757717\n",
      "right line curvature: 336.9288824818819\n",
      "distance from center [0.23778048]\n"
     ]
    },
    {
     "name": "stderr",
     "output_type": "stream",
     "text": [
      "\r",
      "  8%|▊         | 100/1261 [00:13<02:33,  7.57it/s]"
     ]
    },
    {
     "name": "stdout",
     "output_type": "stream",
     "text": [
      "left line curvature: 356.48634787745374\n",
      "right line curvature: 388.7243349019137\n",
      "distance from center [0.24834705]\n"
     ]
    },
    {
     "name": "stderr",
     "output_type": "stream",
     "text": [
      "\r",
      "  8%|▊         | 101/1261 [00:13<02:33,  7.56it/s]"
     ]
    },
    {
     "name": "stdout",
     "output_type": "stream",
     "text": [
      "left line curvature: 354.3233159547697\n",
      "right line curvature: 355.86494908073877\n",
      "distance from center [0.25018585]\n"
     ]
    },
    {
     "name": "stderr",
     "output_type": "stream",
     "text": [
      "\r",
      "  8%|▊         | 102/1261 [00:13<02:33,  7.56it/s]"
     ]
    },
    {
     "name": "stdout",
     "output_type": "stream",
     "text": [
      "left line curvature: 342.6411067108504\n",
      "right line curvature: 289.8721075231539\n",
      "distance from center [0.23479369]\n"
     ]
    },
    {
     "name": "stderr",
     "output_type": "stream",
     "text": [
      "\r",
      "  8%|▊         | 103/1261 [00:13<02:33,  7.55it/s]"
     ]
    },
    {
     "name": "stdout",
     "output_type": "stream",
     "text": [
      "left line curvature: 337.0576344156527\n",
      "right line curvature: 278.2236324207208\n",
      "distance from center [0.23765992]\n"
     ]
    },
    {
     "name": "stderr",
     "output_type": "stream",
     "text": [
      "\r",
      "  8%|▊         | 104/1261 [00:13<02:33,  7.54it/s]"
     ]
    },
    {
     "name": "stdout",
     "output_type": "stream",
     "text": [
      "left line curvature: 342.84780582736624\n",
      "right line curvature: 264.65483119448123\n",
      "distance from center [0.24263107]\n"
     ]
    },
    {
     "name": "stderr",
     "output_type": "stream",
     "text": [
      "\r",
      "  8%|▊         | 105/1261 [00:13<02:33,  7.54it/s]"
     ]
    },
    {
     "name": "stdout",
     "output_type": "stream",
     "text": [
      "left line curvature: 365.761210808007\n",
      "right line curvature: 274.75640311503804\n",
      "distance from center [0.25055121]\n"
     ]
    },
    {
     "name": "stderr",
     "output_type": "stream",
     "text": [
      "\r",
      "  8%|▊         | 106/1261 [00:14<02:33,  7.53it/s]"
     ]
    },
    {
     "name": "stdout",
     "output_type": "stream",
     "text": [
      "left line curvature: 361.77540637576163\n",
      "right line curvature: 276.34396079960686\n",
      "distance from center [0.25458165]\n"
     ]
    },
    {
     "name": "stderr",
     "output_type": "stream",
     "text": [
      "\r",
      "  8%|▊         | 107/1261 [00:14<02:33,  7.52it/s]"
     ]
    },
    {
     "name": "stdout",
     "output_type": "stream",
     "text": [
      "left line curvature: 365.93641193054316\n",
      "right line curvature: 279.5613838294675\n",
      "distance from center [0.25502738]\n"
     ]
    },
    {
     "name": "stderr",
     "output_type": "stream",
     "text": [
      "\r",
      "  9%|▊         | 108/1261 [00:14<02:33,  7.51it/s]"
     ]
    },
    {
     "name": "stdout",
     "output_type": "stream",
     "text": [
      "left line curvature: 330.56997398641585\n",
      "right line curvature: 250.0648097790351\n",
      "distance from center [0.24452224]\n"
     ]
    },
    {
     "name": "stderr",
     "output_type": "stream",
     "text": [
      "\r",
      "  9%|▊         | 109/1261 [00:14<02:33,  7.50it/s]"
     ]
    },
    {
     "name": "stdout",
     "output_type": "stream",
     "text": [
      "left line curvature: 329.97912114117685\n",
      "right line curvature: 269.2449707564503\n",
      "distance from center [0.25267309]\n"
     ]
    },
    {
     "name": "stderr",
     "output_type": "stream",
     "text": [
      "\r",
      "  9%|▊         | 110/1261 [00:14<02:33,  7.50it/s]"
     ]
    },
    {
     "name": "stdout",
     "output_type": "stream",
     "text": [
      "left line curvature: 347.21828585115526\n",
      "right line curvature: 324.5142285524273\n",
      "distance from center [0.28741936]\n"
     ]
    },
    {
     "name": "stderr",
     "output_type": "stream",
     "text": [
      "\r",
      "  9%|▉         | 111/1261 [00:14<02:33,  7.49it/s]"
     ]
    },
    {
     "name": "stdout",
     "output_type": "stream",
     "text": [
      "left line curvature: 345.397656071449\n",
      "right line curvature: 399.4736399019401\n",
      "distance from center [0.31304699]\n"
     ]
    },
    {
     "name": "stderr",
     "output_type": "stream",
     "text": [
      "\r",
      "  9%|▉         | 112/1261 [00:14<02:33,  7.48it/s]"
     ]
    },
    {
     "name": "stdout",
     "output_type": "stream",
     "text": [
      "left line curvature: 372.6561198702282\n",
      "right line curvature: 396.63627768251615\n",
      "distance from center [0.31381334]\n"
     ]
    },
    {
     "name": "stderr",
     "output_type": "stream",
     "text": [
      "\r",
      "  9%|▉         | 113/1261 [00:15<02:33,  7.48it/s]"
     ]
    },
    {
     "name": "stdout",
     "output_type": "stream",
     "text": [
      "left line curvature: 342.9249588832642\n",
      "right line curvature: 314.6413062549903\n",
      "distance from center [0.30192138]\n"
     ]
    },
    {
     "name": "stderr",
     "output_type": "stream",
     "text": [
      "\r",
      "  9%|▉         | 114/1261 [00:15<02:33,  7.48it/s]"
     ]
    },
    {
     "name": "stdout",
     "output_type": "stream",
     "text": [
      "left line curvature: 338.44624030680603\n",
      "right line curvature: 341.57760882016555\n",
      "distance from center [0.31507661]\n"
     ]
    },
    {
     "name": "stderr",
     "output_type": "stream",
     "text": [
      "\r",
      "  9%|▉         | 115/1261 [00:15<02:33,  7.47it/s]"
     ]
    },
    {
     "name": "stdout",
     "output_type": "stream",
     "text": [
      "left line curvature: 317.5389020748536\n",
      "right line curvature: 301.8741619182601\n",
      "distance from center [0.31108132]\n"
     ]
    },
    {
     "name": "stderr",
     "output_type": "stream",
     "text": [
      "\r",
      "  9%|▉         | 116/1261 [00:15<02:33,  7.47it/s]"
     ]
    },
    {
     "name": "stdout",
     "output_type": "stream",
     "text": [
      "left line curvature: 316.3084686231496\n",
      "right line curvature: 247.14332730312998\n",
      "distance from center [0.30267467]\n"
     ]
    },
    {
     "name": "stderr",
     "output_type": "stream",
     "text": [
      "\r",
      "  9%|▉         | 117/1261 [00:15<02:33,  7.45it/s]"
     ]
    },
    {
     "name": "stdout",
     "output_type": "stream",
     "text": [
      "left line curvature: 329.6394413195788\n",
      "right line curvature: 253.4737871405265\n",
      "distance from center [0.31353793]\n"
     ]
    },
    {
     "name": "stderr",
     "output_type": "stream",
     "text": [
      "\r",
      "  9%|▉         | 118/1261 [00:15<02:33,  7.45it/s]"
     ]
    },
    {
     "name": "stdout",
     "output_type": "stream",
     "text": [
      "left line curvature: 319.90599028336544\n",
      "right line curvature: 249.64057082664996\n",
      "distance from center [0.31551775]\n"
     ]
    },
    {
     "name": "stderr",
     "output_type": "stream",
     "text": [
      "\r",
      "  9%|▉         | 119/1261 [00:15<02:33,  7.44it/s]"
     ]
    },
    {
     "name": "stdout",
     "output_type": "stream",
     "text": [
      "left line curvature: 322.402533706991\n",
      "right line curvature: 272.3656119607649\n",
      "distance from center [0.33339282]\n"
     ]
    },
    {
     "name": "stderr",
     "output_type": "stream",
     "text": [
      "\r",
      " 10%|▉         | 120/1261 [00:16<02:33,  7.44it/s]"
     ]
    },
    {
     "name": "stdout",
     "output_type": "stream",
     "text": [
      "left line curvature: 303.2910597353038\n",
      "right line curvature: 316.2572976956107\n",
      "distance from center [0.35188385]\n"
     ]
    },
    {
     "name": "stderr",
     "output_type": "stream",
     "text": [
      "\r",
      " 10%|▉         | 121/1261 [00:16<02:33,  7.43it/s]"
     ]
    },
    {
     "name": "stdout",
     "output_type": "stream",
     "text": [
      "left line curvature: 321.3070512056857\n",
      "right line curvature: 385.2567245300977\n",
      "distance from center [0.38204794]\n"
     ]
    },
    {
     "name": "stderr",
     "output_type": "stream",
     "text": [
      "\r",
      " 10%|▉         | 122/1261 [00:16<02:33,  7.43it/s]"
     ]
    },
    {
     "name": "stdout",
     "output_type": "stream",
     "text": [
      "left line curvature: 318.5876296544605\n",
      "right line curvature: 370.81296523617175\n",
      "distance from center [0.38669276]\n"
     ]
    },
    {
     "name": "stderr",
     "output_type": "stream",
     "text": [
      "\r",
      " 10%|▉         | 123/1261 [00:16<02:33,  7.42it/s]"
     ]
    },
    {
     "name": "stdout",
     "output_type": "stream",
     "text": [
      "left line curvature: 307.7425799072816\n",
      "right line curvature: 333.7315127432847\n",
      "distance from center [0.37715155]\n"
     ]
    },
    {
     "name": "stderr",
     "output_type": "stream",
     "text": [
      "\r",
      " 10%|▉         | 124/1261 [00:16<02:33,  7.42it/s]"
     ]
    },
    {
     "name": "stdout",
     "output_type": "stream",
     "text": [
      "left line curvature: 302.3108752314515\n",
      "right line curvature: 273.34197883138967\n",
      "distance from center [0.35910326]\n"
     ]
    },
    {
     "name": "stderr",
     "output_type": "stream",
     "text": [
      "\r",
      " 10%|▉         | 125/1261 [00:16<02:33,  7.41it/s]"
     ]
    },
    {
     "name": "stdout",
     "output_type": "stream",
     "text": [
      "left line curvature: 302.18328498986705\n",
      "right line curvature: 248.4013466118373\n",
      "distance from center [0.35827638]\n"
     ]
    },
    {
     "name": "stderr",
     "output_type": "stream",
     "text": [
      "\r",
      " 10%|▉         | 126/1261 [00:17<02:33,  7.41it/s]"
     ]
    },
    {
     "name": "stdout",
     "output_type": "stream",
     "text": [
      "left line curvature: 330.68336852003506\n",
      "right line curvature: 320.20025337499874\n",
      "distance from center [0.38617214]\n"
     ]
    },
    {
     "name": "stderr",
     "output_type": "stream",
     "text": [
      "\r",
      " 10%|█         | 127/1261 [00:17<02:33,  7.40it/s]"
     ]
    },
    {
     "name": "stdout",
     "output_type": "stream",
     "text": [
      "left line curvature: 329.45438196709415\n",
      "right line curvature: 265.29483756992255\n",
      "distance from center [0.37893408]\n"
     ]
    },
    {
     "name": "stderr",
     "output_type": "stream",
     "text": [
      "\r",
      " 10%|█         | 128/1261 [00:17<02:33,  7.40it/s]"
     ]
    },
    {
     "name": "stdout",
     "output_type": "stream",
     "text": [
      "left line curvature: 330.46346555405194\n",
      "right line curvature: 277.56466719705344\n",
      "distance from center [0.38205856]\n"
     ]
    },
    {
     "name": "stderr",
     "output_type": "stream",
     "text": [
      "\r",
      " 10%|█         | 129/1261 [00:17<02:33,  7.39it/s]"
     ]
    },
    {
     "name": "stdout",
     "output_type": "stream",
     "text": [
      "left line curvature: 330.2268126212308\n",
      "right line curvature: 304.620676355561\n",
      "distance from center [0.40395112]\n"
     ]
    },
    {
     "name": "stderr",
     "output_type": "stream",
     "text": [
      "\r",
      " 10%|█         | 130/1261 [00:17<02:33,  7.38it/s]"
     ]
    },
    {
     "name": "stdout",
     "output_type": "stream",
     "text": [
      "left line curvature: 348.9903786343068\n",
      "right line curvature: 318.19858358632956\n",
      "distance from center [0.4044208]\n"
     ]
    },
    {
     "name": "stderr",
     "output_type": "stream",
     "text": [
      "\r",
      " 10%|█         | 131/1261 [00:17<02:33,  7.38it/s]"
     ]
    },
    {
     "name": "stdout",
     "output_type": "stream",
     "text": [
      "left line curvature: 353.5353129289372\n",
      "right line curvature: 340.903866913459\n",
      "distance from center [0.41599725]\n"
     ]
    },
    {
     "name": "stderr",
     "output_type": "stream",
     "text": [
      "\r",
      " 10%|█         | 132/1261 [00:17<02:33,  7.38it/s]"
     ]
    },
    {
     "name": "stdout",
     "output_type": "stream",
     "text": [
      "left line curvature: 351.540392926919\n",
      "right line curvature: 361.6474002222687\n",
      "distance from center [0.42404287]\n"
     ]
    },
    {
     "name": "stderr",
     "output_type": "stream",
     "text": [
      "\r",
      " 11%|█         | 133/1261 [00:18<02:33,  7.37it/s]"
     ]
    },
    {
     "name": "stdout",
     "output_type": "stream",
     "text": [
      "left line curvature: 363.4780011190981\n",
      "right line curvature: 409.39268511675937\n",
      "distance from center [0.43660033]\n"
     ]
    },
    {
     "name": "stderr",
     "output_type": "stream",
     "text": [
      "\r",
      " 11%|█         | 134/1261 [00:18<02:33,  7.36it/s]"
     ]
    },
    {
     "name": "stdout",
     "output_type": "stream",
     "text": [
      "left line curvature: 375.91605035276075\n",
      "right line curvature: 376.9489633157569\n",
      "distance from center [0.44182407]\n"
     ]
    },
    {
     "name": "stderr",
     "output_type": "stream",
     "text": [
      "\r",
      " 11%|█         | 135/1261 [00:18<02:33,  7.36it/s]"
     ]
    },
    {
     "name": "stdout",
     "output_type": "stream",
     "text": [
      "left line curvature: 396.85097698417525\n",
      "right line curvature: 423.1821191082888\n",
      "distance from center [0.45787988]\n"
     ]
    },
    {
     "name": "stderr",
     "output_type": "stream",
     "text": [
      "\r",
      " 11%|█         | 136/1261 [00:18<02:32,  7.36it/s]"
     ]
    },
    {
     "name": "stdout",
     "output_type": "stream",
     "text": [
      "left line curvature: 409.0524364578696\n",
      "right line curvature: 413.1163142731533\n",
      "distance from center [0.45449031]\n"
     ]
    },
    {
     "name": "stderr",
     "output_type": "stream",
     "text": [
      "\r",
      " 11%|█         | 137/1261 [00:18<02:32,  7.35it/s]"
     ]
    },
    {
     "name": "stdout",
     "output_type": "stream",
     "text": [
      "left line curvature: 409.9005028554373\n",
      "right line curvature: 478.6568272613473\n",
      "distance from center [0.45746986]\n"
     ]
    },
    {
     "name": "stderr",
     "output_type": "stream",
     "text": [
      "\r",
      " 11%|█         | 138/1261 [00:18<02:32,  7.35it/s]"
     ]
    },
    {
     "name": "stdout",
     "output_type": "stream",
     "text": [
      "left line curvature: 434.2914606517693\n",
      "right line curvature: 458.55706334957534\n",
      "distance from center [0.44840448]\n"
     ]
    },
    {
     "name": "stderr",
     "output_type": "stream",
     "text": [
      " 11%|█         | 140/1261 [00:19<02:33,  7.30it/s]"
     ]
    },
    {
     "name": "stdout",
     "output_type": "stream",
     "text": [
      "left line curvature: 438.1645999230821\n",
      "right line curvature: 480.0221693999458\n",
      "distance from center [0.44592511]\n",
      "left line curvature: 484.57200929272864\n",
      "right line curvature: 557.1876446235103\n",
      "distance from center [0.44720101]\n"
     ]
    },
    {
     "name": "stderr",
     "output_type": "stream",
     "text": [
      " 11%|█▏        | 142/1261 [00:19<02:33,  7.31it/s]"
     ]
    },
    {
     "name": "stdout",
     "output_type": "stream",
     "text": [
      "left line curvature: 510.84277881793696\n",
      "right line curvature: 417.19664372273627\n",
      "distance from center [0.43689205]\n",
      "left line curvature: 479.64269973079126\n",
      "right line curvature: 390.4960128297836\n",
      "distance from center [0.4232158]\n"
     ]
    },
    {
     "name": "stderr",
     "output_type": "stream",
     "text": [
      " 11%|█▏        | 144/1261 [00:19<02:32,  7.31it/s]"
     ]
    },
    {
     "name": "stdout",
     "output_type": "stream",
     "text": [
      "left line curvature: 454.4037554576531\n",
      "right line curvature: 336.24078060058025\n",
      "distance from center [0.41718821]\n",
      "left line curvature: 455.94495102576377\n",
      "right line curvature: 372.50533002053174\n",
      "distance from center [0.41515926]\n"
     ]
    },
    {
     "name": "stderr",
     "output_type": "stream",
     "text": [
      " 12%|█▏        | 146/1261 [00:19<02:32,  7.31it/s]"
     ]
    },
    {
     "name": "stdout",
     "output_type": "stream",
     "text": [
      "left line curvature: 488.1609997753829\n",
      "right line curvature: 389.1957388895202\n",
      "distance from center [0.41536289]\n",
      "left line curvature: 437.1818717444084\n",
      "right line curvature: 485.6640545910383\n",
      "distance from center [0.42301265]\n"
     ]
    },
    {
     "name": "stderr",
     "output_type": "stream",
     "text": [
      " 12%|█▏        | 148/1261 [00:20<02:32,  7.31it/s]"
     ]
    },
    {
     "name": "stdout",
     "output_type": "stream",
     "text": [
      "left line curvature: 477.20449086470614\n",
      "right line curvature: 486.59073545441663\n",
      "distance from center [0.42681458]\n",
      "left line curvature: 424.64951559962265\n",
      "right line curvature: 378.5241044917794\n",
      "distance from center [0.41319182]\n"
     ]
    },
    {
     "name": "stderr",
     "output_type": "stream",
     "text": [
      " 12%|█▏        | 150/1261 [00:20<02:31,  7.32it/s]"
     ]
    },
    {
     "name": "stdout",
     "output_type": "stream",
     "text": [
      "left line curvature: 410.7614055200702\n",
      "right line curvature: 319.18709237915067\n",
      "distance from center [0.39560887]\n",
      "left line curvature: 419.7039164056878\n",
      "right line curvature: 360.9069798327699\n",
      "distance from center [0.40168203]\n"
     ]
    },
    {
     "name": "stderr",
     "output_type": "stream",
     "text": [
      " 12%|█▏        | 152/1261 [00:20<02:31,  7.32it/s]"
     ]
    },
    {
     "name": "stdout",
     "output_type": "stream",
     "text": [
      "left line curvature: 437.87762009175265\n",
      "right line curvature: 413.2468299608586\n",
      "distance from center [0.40923917]\n",
      "left line curvature: 444.14664118642634\n",
      "right line curvature: 355.2050928455558\n",
      "distance from center [0.38961505]\n"
     ]
    },
    {
     "name": "stderr",
     "output_type": "stream",
     "text": [
      " 12%|█▏        | 154/1261 [00:21<02:31,  7.32it/s]"
     ]
    },
    {
     "name": "stdout",
     "output_type": "stream",
     "text": [
      "left line curvature: 403.24595228792987\n",
      "right line curvature: 291.5968010627068\n",
      "distance from center [0.37226699]\n",
      "left line curvature: 430.8004615557537\n",
      "right line curvature: 324.24825677436263\n",
      "distance from center [0.38222995]\n"
     ]
    },
    {
     "name": "stderr",
     "output_type": "stream",
     "text": [
      " 12%|█▏        | 156/1261 [00:21<02:30,  7.32it/s]"
     ]
    },
    {
     "name": "stdout",
     "output_type": "stream",
     "text": [
      "left line curvature: 425.0117345276367\n",
      "right line curvature: 331.66477671913606\n",
      "distance from center [0.38009602]\n",
      "left line curvature: 415.11332187361853\n",
      "right line curvature: 331.0371943810647\n",
      "distance from center [0.37570043]\n"
     ]
    },
    {
     "name": "stderr",
     "output_type": "stream",
     "text": [
      " 13%|█▎        | 158/1261 [00:21<02:30,  7.32it/s]"
     ]
    },
    {
     "name": "stdout",
     "output_type": "stream",
     "text": [
      "left line curvature: 416.3870549645466\n",
      "right line curvature: 352.559230705107\n",
      "distance from center [0.37679175]\n",
      "left line curvature: 384.13856270501486\n",
      "right line curvature: 413.8578737368486\n",
      "distance from center [0.37792903]\n"
     ]
    },
    {
     "name": "stderr",
     "output_type": "stream",
     "text": [
      " 13%|█▎        | 160/1261 [00:21<02:30,  7.33it/s]"
     ]
    },
    {
     "name": "stdout",
     "output_type": "stream",
     "text": [
      "left line curvature: 388.8368271188727\n",
      "right line curvature: 406.6579714528693\n",
      "distance from center [0.37166163]\n",
      "left line curvature: 361.6401837264552\n",
      "right line curvature: 329.53421409704646\n",
      "distance from center [0.34088285]\n"
     ]
    },
    {
     "name": "stderr",
     "output_type": "stream",
     "text": [
      " 13%|█▎        | 162/1261 [00:22<02:30,  7.33it/s]"
     ]
    },
    {
     "name": "stdout",
     "output_type": "stream",
     "text": [
      "left line curvature: 390.17111088388776\n",
      "right line curvature: 416.85023304276694\n",
      "distance from center [0.36515659]\n",
      "left line curvature: 378.3298296428232\n",
      "right line curvature: 374.8428159284343\n",
      "distance from center [0.3498427]\n"
     ]
    },
    {
     "name": "stderr",
     "output_type": "stream",
     "text": [
      " 13%|█▎        | 164/1261 [00:22<02:29,  7.33it/s]"
     ]
    },
    {
     "name": "stdout",
     "output_type": "stream",
     "text": [
      "left line curvature: 390.1809311549143\n",
      "right line curvature: 406.7375513570266\n",
      "distance from center [0.35248092]\n",
      "left line curvature: 404.98123324946897\n",
      "right line curvature: 310.0627886211374\n",
      "distance from center [0.33837806]\n"
     ]
    },
    {
     "name": "stderr",
     "output_type": "stream",
     "text": [
      " 13%|█▎        | 166/1261 [00:22<02:29,  7.33it/s]"
     ]
    },
    {
     "name": "stdout",
     "output_type": "stream",
     "text": [
      "left line curvature: 355.55714388145435\n",
      "right line curvature: 215.99569503178353\n",
      "distance from center [0.30616346]\n",
      "left line curvature: 367.4135042070452\n",
      "right line curvature: 227.3956076826511\n",
      "distance from center [0.31153871]\n"
     ]
    },
    {
     "name": "stderr",
     "output_type": "stream",
     "text": [
      " 13%|█▎        | 168/1261 [00:22<02:29,  7.33it/s]"
     ]
    },
    {
     "name": "stdout",
     "output_type": "stream",
     "text": [
      "left line curvature: 348.36777790519784\n",
      "right line curvature: 242.72785508124971\n",
      "distance from center [0.32462685]\n",
      "left line curvature: 370.92005476428915\n",
      "right line curvature: 249.25153657747953\n",
      "distance from center [0.32457674]\n"
     ]
    },
    {
     "name": "stderr",
     "output_type": "stream",
     "text": [
      " 13%|█▎        | 170/1261 [00:23<02:28,  7.33it/s]"
     ]
    },
    {
     "name": "stdout",
     "output_type": "stream",
     "text": [
      "left line curvature: 379.7857567027155\n",
      "right line curvature: 247.00870519385123\n",
      "distance from center [0.32059879]\n",
      "left line curvature: 410.4472637922346\n",
      "right line curvature: 243.93719956553113\n",
      "distance from center [0.30548505]\n"
     ]
    },
    {
     "name": "stderr",
     "output_type": "stream",
     "text": [
      " 14%|█▎        | 172/1261 [00:23<02:28,  7.33it/s]"
     ]
    },
    {
     "name": "stdout",
     "output_type": "stream",
     "text": [
      "left line curvature: 401.4323093893807\n",
      "right line curvature: 235.95308516626898\n",
      "distance from center [0.28345454]\n",
      "left line curvature: 375.37468676845293\n",
      "right line curvature: 231.95762667891924\n",
      "distance from center [0.27256289]\n"
     ]
    },
    {
     "name": "stderr",
     "output_type": "stream",
     "text": [
      " 14%|█▍        | 174/1261 [00:23<02:28,  7.34it/s]"
     ]
    },
    {
     "name": "stdout",
     "output_type": "stream",
     "text": [
      "left line curvature: 363.6266236834871\n",
      "right line curvature: 229.00614666587975\n",
      "distance from center [0.27493387]\n",
      "left line curvature: 330.9377704501584\n",
      "right line curvature: 210.53554934812192\n",
      "distance from center [0.26206078]\n"
     ]
    },
    {
     "name": "stderr",
     "output_type": "stream",
     "text": [
      " 14%|█▍        | 176/1261 [00:23<02:27,  7.34it/s]"
     ]
    },
    {
     "name": "stdout",
     "output_type": "stream",
     "text": [
      "left line curvature: 306.84359947426907\n",
      "right line curvature: 186.77122627409616\n",
      "distance from center [0.24362883]\n",
      "left line curvature: 295.34907519297843\n",
      "right line curvature: 182.71610241077198\n",
      "distance from center [0.24195337]\n"
     ]
    },
    {
     "name": "stderr",
     "output_type": "stream",
     "text": [
      " 14%|█▍        | 178/1261 [00:24<02:27,  7.34it/s]"
     ]
    },
    {
     "name": "stdout",
     "output_type": "stream",
     "text": [
      "left line curvature: 327.47410268807056\n",
      "right line curvature: 203.41835404281812\n",
      "distance from center [0.25395389]\n",
      "left line curvature: 324.05907905231055\n",
      "right line curvature: 210.39325286082652\n",
      "distance from center [0.26279409]\n"
     ]
    },
    {
     "name": "stderr",
     "output_type": "stream",
     "text": [
      " 14%|█▍        | 180/1261 [00:24<02:27,  7.34it/s]"
     ]
    },
    {
     "name": "stdout",
     "output_type": "stream",
     "text": [
      "left line curvature: 331.12276354936057\n",
      "right line curvature: 220.1997214547627\n",
      "distance from center [0.27570365]\n",
      "left line curvature: 350.0298306689385\n",
      "right line curvature: 231.2200106702673\n",
      "distance from center [0.28726839]\n"
     ]
    },
    {
     "name": "stderr",
     "output_type": "stream",
     "text": [
      " 14%|█▍        | 182/1261 [00:24<02:26,  7.34it/s]"
     ]
    },
    {
     "name": "stdout",
     "output_type": "stream",
     "text": [
      "left line curvature: 315.1243190938351\n",
      "right line curvature: 268.689473857384\n",
      "distance from center [0.2991518]\n",
      "left line curvature: 327.2386177381351\n",
      "right line curvature: 281.9932907668794\n",
      "distance from center [0.3030615]\n"
     ]
    },
    {
     "name": "stderr",
     "output_type": "stream",
     "text": [
      " 15%|█▍        | 184/1261 [00:25<02:26,  7.34it/s]"
     ]
    },
    {
     "name": "stdout",
     "output_type": "stream",
     "text": [
      "left line curvature: 310.5519075164734\n",
      "right line curvature: 323.116556485787\n",
      "distance from center [0.32397563]\n",
      "left line curvature: 291.44904021617634\n",
      "right line curvature: 318.2297539154805\n",
      "distance from center [0.32390178]\n"
     ]
    },
    {
     "name": "stderr",
     "output_type": "stream",
     "text": [
      " 15%|█▍        | 186/1261 [00:25<02:27,  7.30it/s]"
     ]
    },
    {
     "name": "stdout",
     "output_type": "stream",
     "text": [
      "left line curvature: 274.3488577598219\n",
      "right line curvature: 262.674972335795\n",
      "distance from center [0.29731392]\n",
      "left line curvature: 240.22348330799866\n",
      "right line curvature: 215.02947101207707\n",
      "distance from center [0.28002292]\n"
     ]
    },
    {
     "name": "stderr",
     "output_type": "stream",
     "text": [
      " 15%|█▍        | 188/1261 [00:25<02:26,  7.30it/s]"
     ]
    },
    {
     "name": "stdout",
     "output_type": "stream",
     "text": [
      "left line curvature: 240.95194242929946\n",
      "right line curvature: 225.28492580693145\n",
      "distance from center [0.28707604]\n",
      "left line curvature: 233.40964548140758\n",
      "right line curvature: 234.51548616174313\n",
      "distance from center [0.29895285]\n"
     ]
    },
    {
     "name": "stderr",
     "output_type": "stream",
     "text": [
      " 15%|█▌        | 190/1261 [00:26<02:26,  7.30it/s]"
     ]
    },
    {
     "name": "stdout",
     "output_type": "stream",
     "text": [
      "left line curvature: 241.85379789702117\n",
      "right line curvature: 262.8528426889299\n",
      "distance from center [0.31920781]\n",
      "left line curvature: 239.9865678899303\n",
      "right line curvature: 242.61410671479433\n",
      "distance from center [0.31961284]\n"
     ]
    },
    {
     "name": "stderr",
     "output_type": "stream",
     "text": [
      " 15%|█▌        | 192/1261 [00:26<02:27,  7.27it/s]"
     ]
    },
    {
     "name": "stdout",
     "output_type": "stream",
     "text": [
      "left line curvature: 239.06086143627414\n",
      "right line curvature: 239.1044816789038\n",
      "distance from center [0.32726271]\n",
      "left line curvature: 254.48746675339453\n",
      "right line curvature: 252.01580401091246\n",
      "distance from center [0.34228587]\n"
     ]
    },
    {
     "name": "stderr",
     "output_type": "stream",
     "text": [
      " 15%|█▌        | 194/1261 [00:26<02:26,  7.27it/s]"
     ]
    },
    {
     "name": "stdout",
     "output_type": "stream",
     "text": [
      "left line curvature: 239.70166255954297\n",
      "right line curvature: 221.03055432984752\n",
      "distance from center [0.33821862]\n",
      "left line curvature: 253.20927204987547\n",
      "right line curvature: 230.17991192169168\n",
      "distance from center [0.34477638]\n"
     ]
    },
    {
     "name": "stderr",
     "output_type": "stream",
     "text": [
      " 16%|█▌        | 196/1261 [00:26<02:26,  7.27it/s]"
     ]
    },
    {
     "name": "stdout",
     "output_type": "stream",
     "text": [
      "left line curvature: 255.55236888171768\n",
      "right line curvature: 215.08193023213855\n",
      "distance from center [0.33125776]\n",
      "left line curvature: 315.3977896806371\n",
      "right line curvature: 280.1654393638627\n",
      "distance from center [0.3572463]\n"
     ]
    },
    {
     "name": "stderr",
     "output_type": "stream",
     "text": [
      " 16%|█▌        | 198/1261 [00:27<02:26,  7.27it/s]"
     ]
    },
    {
     "name": "stdout",
     "output_type": "stream",
     "text": [
      "left line curvature: 380.2059675062126\n",
      "right line curvature: 417.52148680979684\n",
      "distance from center [0.39021593]\n",
      "left line curvature: 428.46148451477933\n",
      "right line curvature: 364.5077394005856\n",
      "distance from center [0.36598078]\n"
     ]
    },
    {
     "name": "stderr",
     "output_type": "stream",
     "text": [
      " 16%|█▌        | 200/1261 [00:27<02:25,  7.27it/s]"
     ]
    },
    {
     "name": "stdout",
     "output_type": "stream",
     "text": [
      "left line curvature: 435.04889770367134\n",
      "right line curvature: 362.46880404612085\n",
      "distance from center [0.35168177]\n",
      "left line curvature: 434.6046555152021\n",
      "right line curvature: 437.8907215887011\n",
      "distance from center [0.36322394]\n"
     ]
    },
    {
     "name": "stderr",
     "output_type": "stream",
     "text": [
      " 16%|█▌        | 202/1261 [00:27<02:25,  7.27it/s]"
     ]
    },
    {
     "name": "stdout",
     "output_type": "stream",
     "text": [
      "left line curvature: 446.99632591512955\n",
      "right line curvature: 491.24285757054173\n",
      "distance from center [0.36352734]\n",
      "left line curvature: 415.60898816711193\n",
      "right line curvature: 431.08852040956003\n",
      "distance from center [0.34629124]\n"
     ]
    },
    {
     "name": "stderr",
     "output_type": "stream",
     "text": [
      " 16%|█▌        | 204/1261 [00:28<02:25,  7.28it/s]"
     ]
    },
    {
     "name": "stdout",
     "output_type": "stream",
     "text": [
      "left line curvature: 396.06028849479907\n",
      "right line curvature: 406.2838228637286\n",
      "distance from center [0.33489505]\n",
      "left line curvature: 413.3433969547799\n",
      "right line curvature: 379.5704267082956\n",
      "distance from center [0.33189126]\n"
     ]
    },
    {
     "name": "stderr",
     "output_type": "stream",
     "text": [
      " 16%|█▋        | 206/1261 [00:28<02:24,  7.28it/s]"
     ]
    },
    {
     "name": "stdout",
     "output_type": "stream",
     "text": [
      "left line curvature: 381.1094234859098\n",
      "right line curvature: 307.48607060075597\n",
      "distance from center [0.31836325]\n",
      "left line curvature: 366.1514607545143\n",
      "right line curvature: 300.34540759961925\n",
      "distance from center [0.31626223]\n"
     ]
    },
    {
     "name": "stderr",
     "output_type": "stream",
     "text": [
      " 16%|█▋        | 208/1261 [00:28<02:24,  7.28it/s]"
     ]
    },
    {
     "name": "stdout",
     "output_type": "stream",
     "text": [
      "left line curvature: 331.42696816379356\n",
      "right line curvature: 425.8310182846466\n",
      "distance from center [0.34886816]\n",
      "left line curvature: 315.99756828927224\n",
      "right line curvature: 436.84118414462006\n",
      "distance from center [0.35417515]\n"
     ]
    },
    {
     "name": "stderr",
     "output_type": "stream",
     "text": [
      " 17%|█▋        | 210/1261 [00:28<02:24,  7.28it/s]"
     ]
    },
    {
     "name": "stdout",
     "output_type": "stream",
     "text": [
      "left line curvature: 335.04728399939904\n",
      "right line curvature: 464.4222310266127\n",
      "distance from center [0.36072829]\n",
      "left line curvature: 345.25296829385957\n",
      "right line curvature: 543.8567161148085\n",
      "distance from center [0.36505565]\n"
     ]
    },
    {
     "name": "stderr",
     "output_type": "stream",
     "text": [
      " 17%|█▋        | 212/1261 [00:29<02:24,  7.28it/s]"
     ]
    },
    {
     "name": "stdout",
     "output_type": "stream",
     "text": [
      "left line curvature: 369.4997603984298\n",
      "right line curvature: 581.3910591164058\n",
      "distance from center [0.35963253]\n",
      "left line curvature: 366.9387942068831\n",
      "right line curvature: 542.4361926556786\n",
      "distance from center [0.35732544]\n"
     ]
    },
    {
     "name": "stderr",
     "output_type": "stream",
     "text": [
      " 17%|█▋        | 214/1261 [00:29<02:23,  7.28it/s]"
     ]
    },
    {
     "name": "stdout",
     "output_type": "stream",
     "text": [
      "left line curvature: 369.44290922582223\n",
      "right line curvature: 540.8984178586119\n",
      "distance from center [0.35333765]\n",
      "left line curvature: 358.6222301947176\n",
      "right line curvature: 565.5119064593181\n",
      "distance from center [0.34902506]\n"
     ]
    },
    {
     "name": "stderr",
     "output_type": "stream",
     "text": [
      " 17%|█▋        | 216/1261 [00:29<02:23,  7.28it/s]"
     ]
    },
    {
     "name": "stdout",
     "output_type": "stream",
     "text": [
      "left line curvature: 355.44980960043875\n",
      "right line curvature: 403.0639514093504\n",
      "distance from center [0.32524931]\n",
      "left line curvature: 362.52465854249976\n",
      "right line curvature: 344.6768033823252\n",
      "distance from center [0.31152348]\n"
     ]
    },
    {
     "name": "stderr",
     "output_type": "stream",
     "text": [
      " 17%|█▋        | 218/1261 [00:29<02:23,  7.28it/s]"
     ]
    },
    {
     "name": "stdout",
     "output_type": "stream",
     "text": [
      "left line curvature: 368.64094819345183\n",
      "right line curvature: 330.51949549655455\n",
      "distance from center [0.30988793]\n",
      "left line curvature: 381.25122385126974\n",
      "right line curvature: 333.18233296699356\n",
      "distance from center [0.3011527]\n"
     ]
    },
    {
     "name": "stderr",
     "output_type": "stream",
     "text": [
      " 17%|█▋        | 220/1261 [00:30<02:22,  7.28it/s]"
     ]
    },
    {
     "name": "stdout",
     "output_type": "stream",
     "text": [
      "left line curvature: 387.42788789433877\n",
      "right line curvature: 405.327040737314\n",
      "distance from center [0.31531812]\n",
      "left line curvature: 403.3668634995457\n",
      "right line curvature: 358.22857820056845\n",
      "distance from center [0.29047682]\n"
     ]
    },
    {
     "name": "stderr",
     "output_type": "stream",
     "text": [
      " 18%|█▊        | 222/1261 [00:30<02:22,  7.28it/s]"
     ]
    },
    {
     "name": "stdout",
     "output_type": "stream",
     "text": [
      "left line curvature: 405.6288049177061\n",
      "right line curvature: 399.14164630746245\n",
      "distance from center [0.30038908]\n",
      "left line curvature: 430.27178757861935\n",
      "right line curvature: 502.1110505719448\n",
      "distance from center [0.31950083]\n"
     ]
    },
    {
     "name": "stderr",
     "output_type": "stream",
     "text": [
      " 18%|█▊        | 224/1261 [00:30<02:22,  7.29it/s]"
     ]
    },
    {
     "name": "stdout",
     "output_type": "stream",
     "text": [
      "left line curvature: 461.6007745147899\n",
      "right line curvature: 501.96286350984525\n",
      "distance from center [0.31801035]\n",
      "left line curvature: 402.27118241765334\n",
      "right line curvature: 393.94276421308774\n",
      "distance from center [0.29819674]\n"
     ]
    },
    {
     "name": "stderr",
     "output_type": "stream",
     "text": [
      " 18%|█▊        | 226/1261 [00:31<02:22,  7.29it/s]"
     ]
    },
    {
     "name": "stdout",
     "output_type": "stream",
     "text": [
      "left line curvature: 441.14978539042517\n",
      "right line curvature: 401.3639892654189\n",
      "distance from center [0.29594599]\n",
      "left line curvature: 428.95185591841306\n",
      "right line curvature: 282.4824893285781\n",
      "distance from center [0.26554393]\n"
     ]
    },
    {
     "name": "stderr",
     "output_type": "stream",
     "text": [
      " 18%|█▊        | 228/1261 [00:31<02:21,  7.29it/s]"
     ]
    },
    {
     "name": "stdout",
     "output_type": "stream",
     "text": [
      "left line curvature: 456.79846215721847\n",
      "right line curvature: 267.1358040933061\n",
      "distance from center [0.25850944]\n",
      "left line curvature: 443.0292383364246\n",
      "right line curvature: 270.5273392934288\n",
      "distance from center [0.24668561]\n"
     ]
    },
    {
     "name": "stderr",
     "output_type": "stream",
     "text": [
      " 18%|█▊        | 230/1261 [00:31<02:21,  7.29it/s]"
     ]
    },
    {
     "name": "stdout",
     "output_type": "stream",
     "text": [
      "left line curvature: 456.7127208961654\n",
      "right line curvature: 279.8817317256557\n",
      "distance from center [0.24944741]\n",
      "left line curvature: 488.3184791035579\n",
      "right line curvature: 269.05586018099893\n",
      "distance from center [0.23600159]\n"
     ]
    },
    {
     "name": "stderr",
     "output_type": "stream",
     "text": [
      " 18%|█▊        | 232/1261 [00:31<02:21,  7.29it/s]"
     ]
    },
    {
     "name": "stdout",
     "output_type": "stream",
     "text": [
      "left line curvature: 458.3942176070067\n",
      "right line curvature: 276.89947075434213\n",
      "distance from center [0.22652911]\n",
      "left line curvature: 472.22943650966096\n",
      "right line curvature: 271.57011050064045\n",
      "distance from center [0.20397115]\n"
     ]
    },
    {
     "name": "stderr",
     "output_type": "stream",
     "text": [
      " 19%|█▊        | 234/1261 [00:32<02:20,  7.29it/s]"
     ]
    },
    {
     "name": "stdout",
     "output_type": "stream",
     "text": [
      "left line curvature: 462.9484617567671\n",
      "right line curvature: 280.1703904665684\n",
      "distance from center [0.19259738]\n",
      "left line curvature: 447.40562257276395\n",
      "right line curvature: 316.77249200826384\n",
      "distance from center [0.20160008]\n"
     ]
    },
    {
     "name": "stderr",
     "output_type": "stream",
     "text": [
      " 19%|█▊        | 236/1261 [00:32<02:20,  7.29it/s]"
     ]
    },
    {
     "name": "stdout",
     "output_type": "stream",
     "text": [
      "left line curvature: 445.5684891748343\n",
      "right line curvature: 315.3378429785904\n",
      "distance from center [0.19546402]\n",
      "left line curvature: 396.9102740447138\n",
      "right line curvature: 242.59734242884596\n",
      "distance from center [0.16529252]\n"
     ]
    },
    {
     "name": "stderr",
     "output_type": "stream",
     "text": [
      " 19%|█▉        | 238/1261 [00:32<02:20,  7.29it/s]"
     ]
    },
    {
     "name": "stdout",
     "output_type": "stream",
     "text": [
      "left line curvature: 394.4806126374888\n",
      "right line curvature: 234.18344170472864\n",
      "distance from center [0.15813662]\n",
      "left line curvature: 374.80622032310305\n",
      "right line curvature: 219.83935280522869\n",
      "distance from center [0.15316568]\n"
     ]
    },
    {
     "name": "stderr",
     "output_type": "stream",
     "text": [
      " 19%|█▉        | 240/1261 [00:32<02:20,  7.29it/s]"
     ]
    },
    {
     "name": "stdout",
     "output_type": "stream",
     "text": [
      "left line curvature: 367.3367480487512\n",
      "right line curvature: 238.25080632134896\n",
      "distance from center [0.16278462]\n",
      "left line curvature: 364.354969398702\n",
      "right line curvature: 258.13474399249577\n",
      "distance from center [0.16810061]\n"
     ]
    },
    {
     "name": "stderr",
     "output_type": "stream",
     "text": [
      " 19%|█▉        | 242/1261 [00:33<02:19,  7.29it/s]"
     ]
    },
    {
     "name": "stdout",
     "output_type": "stream",
     "text": [
      "left line curvature: 375.0034655462638\n",
      "right line curvature: 281.2016033749228\n",
      "distance from center [0.17415054]\n",
      "left line curvature: 398.0307135411271\n",
      "right line curvature: 295.52320184196265\n",
      "distance from center [0.17292573]\n"
     ]
    },
    {
     "name": "stderr",
     "output_type": "stream",
     "text": [
      " 19%|█▉        | 244/1261 [00:33<02:19,  7.29it/s]"
     ]
    },
    {
     "name": "stdout",
     "output_type": "stream",
     "text": [
      "left line curvature: 368.6490084171628\n",
      "right line curvature: 301.01431737925964\n",
      "distance from center [0.174296]\n",
      "left line curvature: 375.44122080153574\n",
      "right line curvature: 321.72161787575766\n",
      "distance from center [0.17402879]\n"
     ]
    },
    {
     "name": "stderr",
     "output_type": "stream",
     "text": [
      " 20%|█▉        | 246/1261 [00:33<02:19,  7.29it/s]"
     ]
    },
    {
     "name": "stdout",
     "output_type": "stream",
     "text": [
      "left line curvature: 361.38486843227275\n",
      "right line curvature: 242.07095545177077\n",
      "distance from center [0.13190985]\n",
      "left line curvature: 343.45858953902075\n",
      "right line curvature: 206.61150491857646\n",
      "distance from center [0.09910213]\n"
     ]
    },
    {
     "name": "stderr",
     "output_type": "stream",
     "text": [
      " 20%|█▉        | 248/1261 [00:33<02:18,  7.29it/s]"
     ]
    },
    {
     "name": "stdout",
     "output_type": "stream",
     "text": [
      "left line curvature: 356.3245818364831\n",
      "right line curvature: 228.59243351421873\n",
      "distance from center [0.11355848]\n",
      "left line curvature: 334.1573366696169\n",
      "right line curvature: 215.69677153995522\n",
      "distance from center [0.11390956]\n"
     ]
    },
    {
     "name": "stderr",
     "output_type": "stream",
     "text": [
      " 20%|█▉        | 250/1261 [00:34<02:18,  7.29it/s]"
     ]
    },
    {
     "name": "stdout",
     "output_type": "stream",
     "text": [
      "left line curvature: 354.59100069318976\n",
      "right line curvature: 238.34567228456544\n",
      "distance from center [0.12333057]\n",
      "left line curvature: 361.8716821134432\n",
      "right line curvature: 242.06285771125494\n",
      "distance from center [0.12915847]\n"
     ]
    },
    {
     "name": "stderr",
     "output_type": "stream",
     "text": [
      " 20%|█▉        | 252/1261 [00:34<02:18,  7.30it/s]"
     ]
    },
    {
     "name": "stdout",
     "output_type": "stream",
     "text": [
      "left line curvature: 379.0031298819002\n",
      "right line curvature: 267.93051195852064\n",
      "distance from center [0.1388429]\n",
      "left line curvature: 384.77772068263647\n",
      "right line curvature: 271.3648339922451\n",
      "distance from center [0.13878931]\n"
     ]
    },
    {
     "name": "stderr",
     "output_type": "stream",
     "text": [
      " 20%|██        | 254/1261 [00:34<02:18,  7.30it/s]"
     ]
    },
    {
     "name": "stdout",
     "output_type": "stream",
     "text": [
      "left line curvature: 401.38182597043874\n",
      "right line curvature: 302.2533565602112\n",
      "distance from center [0.15085709]\n",
      "left line curvature: 433.8141786872866\n",
      "right line curvature: 312.01137367218735\n",
      "distance from center [0.15389385]\n"
     ]
    },
    {
     "name": "stderr",
     "output_type": "stream",
     "text": [
      " 20%|██        | 256/1261 [00:35<02:17,  7.30it/s]"
     ]
    },
    {
     "name": "stdout",
     "output_type": "stream",
     "text": [
      "left line curvature: 406.25008219272473\n",
      "right line curvature: 301.71467124895116\n",
      "distance from center [0.1520201]\n",
      "left line curvature: 411.8428716125548\n",
      "right line curvature: 321.8058861539327\n",
      "distance from center [0.14953273]\n"
     ]
    },
    {
     "name": "stderr",
     "output_type": "stream",
     "text": [
      " 20%|██        | 258/1261 [00:35<02:17,  7.29it/s]"
     ]
    },
    {
     "name": "stdout",
     "output_type": "stream",
     "text": [
      "left line curvature: 397.54811539121425\n",
      "right line curvature: 280.57492748691186\n",
      "distance from center [0.1309722]\n",
      "left line curvature: 379.62877998314195\n",
      "right line curvature: 252.6209590656042\n",
      "distance from center [0.1118339]\n"
     ]
    },
    {
     "name": "stderr",
     "output_type": "stream",
     "text": [
      " 21%|██        | 260/1261 [00:35<02:17,  7.29it/s]"
     ]
    },
    {
     "name": "stdout",
     "output_type": "stream",
     "text": [
      "left line curvature: 388.19148119013727\n",
      "right line curvature: 233.6771531000033\n",
      "distance from center [0.09938749]\n",
      "left line curvature: 374.6114866828312\n",
      "right line curvature: 228.4947219692167\n",
      "distance from center [0.11088912]\n"
     ]
    },
    {
     "name": "stderr",
     "output_type": "stream",
     "text": [
      " 21%|██        | 262/1261 [00:35<02:17,  7.29it/s]"
     ]
    },
    {
     "name": "stdout",
     "output_type": "stream",
     "text": [
      "left line curvature: 409.6126774347314\n",
      "right line curvature: 255.2294007226699\n",
      "distance from center [0.12388505]\n",
      "left line curvature: 405.87636843122976\n",
      "right line curvature: 264.68243561973884\n",
      "distance from center [0.14017569]\n"
     ]
    },
    {
     "name": "stderr",
     "output_type": "stream",
     "text": [
      " 21%|██        | 264/1261 [00:36<02:16,  7.29it/s]"
     ]
    },
    {
     "name": "stdout",
     "output_type": "stream",
     "text": [
      "left line curvature: 418.3967713956425\n",
      "right line curvature: 278.0504752877041\n",
      "distance from center [0.15183874]\n",
      "left line curvature: 422.3825417126357\n",
      "right line curvature: 294.32705362734555\n",
      "distance from center [0.15640486]\n"
     ]
    },
    {
     "name": "stderr",
     "output_type": "stream",
     "text": [
      " 21%|██        | 266/1261 [00:36<02:16,  7.29it/s]"
     ]
    },
    {
     "name": "stdout",
     "output_type": "stream",
     "text": [
      "left line curvature: 446.2159163552853\n",
      "right line curvature: 307.77762376019723\n",
      "distance from center [0.16556336]\n",
      "left line curvature: 457.6607519273949\n",
      "right line curvature: 337.16310721623535\n",
      "distance from center [0.16802241]\n"
     ]
    },
    {
     "name": "stderr",
     "output_type": "stream",
     "text": [
      " 21%|██▏       | 268/1261 [00:36<02:16,  7.29it/s]"
     ]
    },
    {
     "name": "stdout",
     "output_type": "stream",
     "text": [
      "left line curvature: 429.6803105043554\n",
      "right line curvature: 370.1231973205978\n",
      "distance from center [0.17728569]\n",
      "left line curvature: 452.81124960832886\n",
      "right line curvature: 419.49704112388196\n",
      "distance from center [0.18575447]\n"
     ]
    },
    {
     "name": "stderr",
     "output_type": "stream",
     "text": [
      " 21%|██▏       | 270/1261 [00:37<02:15,  7.29it/s]"
     ]
    },
    {
     "name": "stdout",
     "output_type": "stream",
     "text": [
      "left line curvature: 461.34881153374914\n",
      "right line curvature: 447.15014860796595\n",
      "distance from center [0.18991622]\n",
      "left line curvature: 485.9444345828654\n",
      "right line curvature: 520.5197304431762\n",
      "distance from center [0.20584415]\n"
     ]
    },
    {
     "name": "stderr",
     "output_type": "stream",
     "text": [
      " 22%|██▏       | 272/1261 [00:37<02:15,  7.29it/s]"
     ]
    },
    {
     "name": "stdout",
     "output_type": "stream",
     "text": [
      "left line curvature: 470.74301392614575\n",
      "right line curvature: 548.509897863749\n",
      "distance from center [0.20894055]\n",
      "left line curvature: 456.3900817526714\n",
      "right line curvature: 419.77724353514077\n",
      "distance from center [0.19817349]\n"
     ]
    },
    {
     "name": "stderr",
     "output_type": "stream",
     "text": [
      " 22%|██▏       | 274/1261 [00:37<02:15,  7.29it/s]"
     ]
    },
    {
     "name": "stdout",
     "output_type": "stream",
     "text": [
      "left line curvature: 466.696212992477\n",
      "right line curvature: 331.3518849083292\n",
      "distance from center [0.17977623]\n",
      "left line curvature: 482.11226583426225\n",
      "right line curvature: 364.68528772431813\n",
      "distance from center [0.20159156]\n"
     ]
    },
    {
     "name": "stderr",
     "output_type": "stream",
     "text": [
      " 22%|██▏       | 276/1261 [00:37<02:15,  7.29it/s]"
     ]
    },
    {
     "name": "stdout",
     "output_type": "stream",
     "text": [
      "left line curvature: 482.5212948140564\n",
      "right line curvature: 377.29053370461696\n",
      "distance from center [0.20443656]\n",
      "left line curvature: 543.0736087232051\n",
      "right line curvature: 390.95152208281814\n",
      "distance from center [0.21406026]\n"
     ]
    },
    {
     "name": "stderr",
     "output_type": "stream",
     "text": [
      " 22%|██▏       | 278/1261 [00:38<02:14,  7.29it/s]"
     ]
    },
    {
     "name": "stdout",
     "output_type": "stream",
     "text": [
      "left line curvature: 564.1078813765937\n",
      "right line curvature: 399.15701480689114\n",
      "distance from center [0.21889131]\n",
      "left line curvature: 587.6917678001969\n",
      "right line curvature: 413.53818573894193\n",
      "distance from center [0.21968349]\n"
     ]
    },
    {
     "name": "stderr",
     "output_type": "stream",
     "text": [
      " 22%|██▏       | 280/1261 [00:38<02:14,  7.29it/s]"
     ]
    },
    {
     "name": "stdout",
     "output_type": "stream",
     "text": [
      "left line curvature: 602.0955726983697\n",
      "right line curvature: 471.3597583240661\n",
      "distance from center [0.23440831]\n",
      "left line curvature: 618.6330667098795\n",
      "right line curvature: 505.7951667513472\n",
      "distance from center [0.23589254]\n"
     ]
    },
    {
     "name": "stderr",
     "output_type": "stream",
     "text": [
      " 22%|██▏       | 282/1261 [00:38<02:14,  7.29it/s]"
     ]
    },
    {
     "name": "stdout",
     "output_type": "stream",
     "text": [
      "left line curvature: 662.7936600896205\n",
      "right line curvature: 519.9360583894185\n",
      "distance from center [0.24594622]\n",
      "left line curvature: 595.2873725407079\n",
      "right line curvature: 437.6632508849395\n",
      "distance from center [0.2334222]\n"
     ]
    },
    {
     "name": "stderr",
     "output_type": "stream",
     "text": [
      " 23%|██▎       | 284/1261 [00:38<02:13,  7.29it/s]"
     ]
    },
    {
     "name": "stdout",
     "output_type": "stream",
     "text": [
      "left line curvature: 630.6461192317779\n",
      "right line curvature: 523.1243559088718\n",
      "distance from center [0.24626185]\n",
      "left line curvature: 633.4533411302498\n",
      "right line curvature: 435.14322709247705\n",
      "distance from center [0.24361763]\n"
     ]
    },
    {
     "name": "stderr",
     "output_type": "stream",
     "text": [
      " 23%|██▎       | 286/1261 [00:39<02:13,  7.29it/s]"
     ]
    },
    {
     "name": "stdout",
     "output_type": "stream",
     "text": [
      "left line curvature: 669.1350349440179\n",
      "right line curvature: 490.3220529186051\n",
      "distance from center [0.25416356]\n",
      "left line curvature: 720.1488628426529\n",
      "right line curvature: 477.7229807899225\n",
      "distance from center [0.25712751]\n"
     ]
    },
    {
     "name": "stderr",
     "output_type": "stream",
     "text": [
      " 23%|██▎       | 288/1261 [00:39<02:13,  7.29it/s]"
     ]
    },
    {
     "name": "stdout",
     "output_type": "stream",
     "text": [
      "left line curvature: 746.3875498559321\n",
      "right line curvature: 421.5580240009073\n",
      "distance from center [0.25430992]\n",
      "left line curvature: 791.5981595852192\n",
      "right line curvature: 438.4682818694968\n",
      "distance from center [0.26021388]\n"
     ]
    },
    {
     "name": "stderr",
     "output_type": "stream",
     "text": [
      " 23%|██▎       | 290/1261 [00:39<02:13,  7.29it/s]"
     ]
    },
    {
     "name": "stdout",
     "output_type": "stream",
     "text": [
      "left line curvature: 784.5910274117465\n",
      "right line curvature: 423.4786188337965\n",
      "distance from center [0.26956048]\n",
      "left line curvature: 797.0542565830286\n",
      "right line curvature: 470.7034018819506\n",
      "distance from center [0.2774736]\n"
     ]
    },
    {
     "name": "stderr",
     "output_type": "stream",
     "text": [
      " 23%|██▎       | 292/1261 [00:40<02:12,  7.29it/s]"
     ]
    },
    {
     "name": "stdout",
     "output_type": "stream",
     "text": [
      "left line curvature: 823.6926239401898\n",
      "right line curvature: 570.9140041986093\n",
      "distance from center [0.29362548]\n",
      "left line curvature: 739.7077312654732\n",
      "right line curvature: 668.6505374590074\n",
      "distance from center [0.29713232]\n"
     ]
    },
    {
     "name": "stderr",
     "output_type": "stream",
     "text": [
      " 23%|██▎       | 294/1261 [00:40<02:12,  7.28it/s]"
     ]
    },
    {
     "name": "stdout",
     "output_type": "stream",
     "text": [
      "left line curvature: 838.9881550085157\n",
      "right line curvature: 725.5202511649024\n",
      "distance from center [0.3114663]\n",
      "left line curvature: 796.2931884506932\n",
      "right line curvature: 619.9134741693358\n",
      "distance from center [0.30720392]\n"
     ]
    },
    {
     "name": "stderr",
     "output_type": "stream",
     "text": [
      " 23%|██▎       | 296/1261 [00:40<02:12,  7.28it/s]"
     ]
    },
    {
     "name": "stdout",
     "output_type": "stream",
     "text": [
      "left line curvature: 786.1813878006844\n",
      "right line curvature: 702.9794169676736\n",
      "distance from center [0.31214184]\n",
      "left line curvature: 824.3922009500131\n",
      "right line curvature: 597.4285669879985\n",
      "distance from center [0.30856198]\n"
     ]
    },
    {
     "name": "stderr",
     "output_type": "stream",
     "text": [
      " 24%|██▎       | 298/1261 [00:40<02:12,  7.29it/s]"
     ]
    },
    {
     "name": "stdout",
     "output_type": "stream",
     "text": [
      "left line curvature: 809.6240175209242\n",
      "right line curvature: 684.1951761236448\n",
      "distance from center [0.30731791]\n",
      "left line curvature: 994.2326934032027\n",
      "right line curvature: 641.2668208562977\n",
      "distance from center [0.31142307]\n"
     ]
    },
    {
     "name": "stderr",
     "output_type": "stream",
     "text": [
      " 24%|██▍       | 300/1261 [00:41<02:11,  7.29it/s]"
     ]
    },
    {
     "name": "stdout",
     "output_type": "stream",
     "text": [
      "left line curvature: 1086.4819000301247\n",
      "right line curvature: 645.6223229122137\n",
      "distance from center [0.30863159]\n",
      "left line curvature: 1140.889970447363\n",
      "right line curvature: 667.8234964627436\n",
      "distance from center [0.31182745]\n"
     ]
    },
    {
     "name": "stderr",
     "output_type": "stream",
     "text": [
      " 24%|██▍       | 302/1261 [00:41<02:11,  7.29it/s]"
     ]
    },
    {
     "name": "stdout",
     "output_type": "stream",
     "text": [
      "left line curvature: 1369.5431260358885\n",
      "right line curvature: 722.8746931028007\n",
      "distance from center [0.31677486]\n",
      "left line curvature: 1428.242818128671\n",
      "right line curvature: 742.8195890220371\n",
      "distance from center [0.3142198]\n"
     ]
    },
    {
     "name": "stderr",
     "output_type": "stream",
     "text": [
      " 24%|██▍       | 304/1261 [00:41<02:11,  7.29it/s]"
     ]
    },
    {
     "name": "stdout",
     "output_type": "stream",
     "text": [
      "left line curvature: 1685.930065123943\n",
      "right line curvature: 961.822685544017\n",
      "distance from center [0.32225302]\n",
      "left line curvature: 1838.7572206622335\n",
      "right line curvature: 1396.450983816752\n",
      "distance from center [0.33013309]\n"
     ]
    },
    {
     "name": "stderr",
     "output_type": "stream",
     "text": [
      " 24%|██▍       | 306/1261 [00:41<02:10,  7.29it/s]"
     ]
    },
    {
     "name": "stdout",
     "output_type": "stream",
     "text": [
      "left line curvature: 1922.3850317944816\n",
      "right line curvature: 3188.2976029397464\n",
      "distance from center [0.35113107]\n",
      "left line curvature: 1886.5999042334029\n",
      "right line curvature: 6087.593776760695\n",
      "distance from center [0.34856173]\n"
     ]
    },
    {
     "name": "stderr",
     "output_type": "stream",
     "text": [
      " 24%|██▍       | 308/1261 [00:42<02:10,  7.29it/s]"
     ]
    },
    {
     "name": "stdout",
     "output_type": "stream",
     "text": [
      "left line curvature: 2540.265196015138\n",
      "right line curvature: 48450.41511602536\n",
      "distance from center [0.35663531]\n",
      "left line curvature: 2379.6429949097214\n",
      "right line curvature: 2232.751339377761\n",
      "distance from center [0.3398864]\n"
     ]
    },
    {
     "name": "stderr",
     "output_type": "stream",
     "text": [
      " 25%|██▍       | 310/1261 [00:42<02:10,  7.29it/s]"
     ]
    },
    {
     "name": "stdout",
     "output_type": "stream",
     "text": [
      "left line curvature: 3202.11677970393\n",
      "right line curvature: 1676.630590825249\n",
      "distance from center [0.33495235]\n",
      "left line curvature: 3987.3001469337905\n",
      "right line curvature: 894.4248346749213\n",
      "distance from center [0.32352329]\n"
     ]
    },
    {
     "name": "stderr",
     "output_type": "stream",
     "text": [
      " 25%|██▍       | 312/1261 [00:42<02:10,  7.29it/s]"
     ]
    },
    {
     "name": "stdout",
     "output_type": "stream",
     "text": [
      "left line curvature: 4291.412141234824\n",
      "right line curvature: 1426.3810147990923\n",
      "distance from center [0.33517845]\n",
      "left line curvature: 5854.675766553036\n",
      "right line curvature: 1663.0781494968933\n",
      "distance from center [0.335088]\n"
     ]
    },
    {
     "name": "stderr",
     "output_type": "stream",
     "text": [
      " 25%|██▍       | 314/1261 [00:43<02:09,  7.30it/s]"
     ]
    },
    {
     "name": "stdout",
     "output_type": "stream",
     "text": [
      "left line curvature: 11405.27064274845\n",
      "right line curvature: 1157.258851198519\n",
      "distance from center [0.33287998]\n",
      "left line curvature: 41336.43491525431\n",
      "right line curvature: 1418.2365346392119\n",
      "distance from center [0.33636803]\n"
     ]
    },
    {
     "name": "stderr",
     "output_type": "stream",
     "text": [
      " 25%|██▌       | 316/1261 [00:43<02:09,  7.30it/s]"
     ]
    },
    {
     "name": "stdout",
     "output_type": "stream",
     "text": [
      "left line curvature: 43805.49999629626\n",
      "right line curvature: 1468.072063330771\n",
      "distance from center [0.33848985]\n",
      "left line curvature: 19079.126946463028\n",
      "right line curvature: 1163.5967756151974\n",
      "distance from center [0.3265844]\n"
     ]
    },
    {
     "name": "stderr",
     "output_type": "stream",
     "text": [
      " 25%|██▌       | 318/1261 [00:43<02:09,  7.30it/s]"
     ]
    },
    {
     "name": "stdout",
     "output_type": "stream",
     "text": [
      "left line curvature: 14771.195084571025\n",
      "right line curvature: 1053.8468946230053\n",
      "distance from center [0.3188374]\n",
      "left line curvature: 39545.24942009857\n",
      "right line curvature: 611.0126341552473\n",
      "distance from center [0.29309902]\n"
     ]
    },
    {
     "name": "stderr",
     "output_type": "stream",
     "text": [
      " 25%|██▌       | 320/1261 [00:43<02:08,  7.30it/s]"
     ]
    },
    {
     "name": "stdout",
     "output_type": "stream",
     "text": [
      "left line curvature: 6107.042709676346\n",
      "right line curvature: 623.6488249626577\n",
      "distance from center [0.29740058]\n",
      "left line curvature: 10330.437215030277\n",
      "right line curvature: 794.193236699411\n",
      "distance from center [0.31468285]\n"
     ]
    },
    {
     "name": "stderr",
     "output_type": "stream",
     "text": [
      " 26%|██▌       | 322/1261 [00:44<02:08,  7.30it/s]"
     ]
    },
    {
     "name": "stdout",
     "output_type": "stream",
     "text": [
      "left line curvature: 5653.133614959315\n",
      "right line curvature: 853.7080287625989\n",
      "distance from center [0.32182544]\n",
      "left line curvature: 7069.855718368863\n",
      "right line curvature: 939.9878115850046\n",
      "distance from center [0.32802239]\n"
     ]
    },
    {
     "name": "stderr",
     "output_type": "stream",
     "text": [
      " 26%|██▌       | 324/1261 [00:44<02:08,  7.30it/s]"
     ]
    },
    {
     "name": "stdout",
     "output_type": "stream",
     "text": [
      "left line curvature: 3771.370401600788\n",
      "right line curvature: 1090.023473777753\n",
      "distance from center [0.33409044]\n",
      "left line curvature: 4152.90619206539\n",
      "right line curvature: 983.4206572213402\n",
      "distance from center [0.32854307]\n"
     ]
    },
    {
     "name": "stderr",
     "output_type": "stream",
     "text": [
      " 26%|██▌       | 326/1261 [00:44<02:08,  7.30it/s]"
     ]
    },
    {
     "name": "stdout",
     "output_type": "stream",
     "text": [
      "left line curvature: 4160.00790751438\n",
      "right line curvature: 1339.9005574465386\n",
      "distance from center [0.33608791]\n",
      "left line curvature: 5047.981401500208\n",
      "right line curvature: 2222.8970900592167\n",
      "distance from center [0.33863557]\n"
     ]
    },
    {
     "name": "stderr",
     "output_type": "stream",
     "text": [
      " 26%|██▌       | 328/1261 [00:44<02:07,  7.30it/s]"
     ]
    },
    {
     "name": "stdout",
     "output_type": "stream",
     "text": [
      "left line curvature: 4577.893502700194\n",
      "right line curvature: 1912.0277931290207\n",
      "distance from center [0.33805906]\n",
      "left line curvature: 4455.314450033099\n",
      "right line curvature: 3985.6584389566\n",
      "distance from center [0.34382995]\n"
     ]
    },
    {
     "name": "stderr",
     "output_type": "stream",
     "text": [
      " 26%|██▌       | 330/1261 [00:45<02:07,  7.30it/s]"
     ]
    },
    {
     "name": "stdout",
     "output_type": "stream",
     "text": [
      "left line curvature: 5852.771396993559\n",
      "right line curvature: 6617.542933163098\n",
      "distance from center [0.35496609]\n",
      "left line curvature: 3827.5672943784107\n",
      "right line curvature: 10677.705272940982\n",
      "distance from center [0.35786776]\n"
     ]
    },
    {
     "name": "stderr",
     "output_type": "stream",
     "text": [
      " 26%|██▋       | 332/1261 [00:45<02:07,  7.30it/s]"
     ]
    },
    {
     "name": "stdout",
     "output_type": "stream",
     "text": [
      "left line curvature: 5528.842328825274\n",
      "right line curvature: 3227.322832520467\n",
      "distance from center [0.34279601]\n",
      "left line curvature: 5658.415633632863\n",
      "right line curvature: 1239.3587668741188\n",
      "distance from center [0.32492505]\n"
     ]
    },
    {
     "name": "stderr",
     "output_type": "stream",
     "text": [
      " 26%|██▋       | 334/1261 [00:45<02:07,  7.30it/s]"
     ]
    },
    {
     "name": "stdout",
     "output_type": "stream",
     "text": [
      "left line curvature: 15065.344221273115\n",
      "right line curvature: 2076.784612162325\n",
      "distance from center [0.32538201]\n",
      "left line curvature: 8070.367423832904\n",
      "right line curvature: 1983.9175150822407\n",
      "distance from center [0.32964576]\n"
     ]
    },
    {
     "name": "stderr",
     "output_type": "stream",
     "text": [
      " 27%|██▋       | 336/1261 [00:46<02:06,  7.30it/s]"
     ]
    },
    {
     "name": "stdout",
     "output_type": "stream",
     "text": [
      "left line curvature: 7351.916584526559\n",
      "right line curvature: 2969.8893906562707\n",
      "distance from center [0.3364935]\n",
      "left line curvature: 5228.277324957595\n",
      "right line curvature: 1531.2143820350911\n",
      "distance from center [0.33232957]\n"
     ]
    },
    {
     "name": "stderr",
     "output_type": "stream",
     "text": [
      " 27%|██▋       | 338/1261 [00:46<02:06,  7.29it/s]"
     ]
    },
    {
     "name": "stdout",
     "output_type": "stream",
     "text": [
      "left line curvature: 6573.493298933177\n",
      "right line curvature: 2063.6603755000874\n",
      "distance from center [0.33642475]\n",
      "left line curvature: 4557.616287418866\n",
      "right line curvature: 3486.3150674485214\n",
      "distance from center [0.34414039]\n"
     ]
    },
    {
     "name": "stderr",
     "output_type": "stream",
     "text": [
      " 27%|██▋       | 340/1261 [00:46<02:06,  7.30it/s]"
     ]
    },
    {
     "name": "stdout",
     "output_type": "stream",
     "text": [
      "left line curvature: 8050.381032077089\n",
      "right line curvature: 3826.364817633403\n",
      "distance from center [0.34071677]\n",
      "left line curvature: 7896.278490898438\n",
      "right line curvature: 8866.008690229017\n",
      "distance from center [0.35271]\n"
     ]
    },
    {
     "name": "stderr",
     "output_type": "stream",
     "text": [
      " 27%|██▋       | 342/1261 [00:46<02:05,  7.29it/s]"
     ]
    },
    {
     "name": "stdout",
     "output_type": "stream",
     "text": [
      "left line curvature: 14146.299653918417\n",
      "right line curvature: 2363.3103390830374\n",
      "distance from center [0.33314731]\n",
      "left line curvature: 17543.016145161226\n",
      "right line curvature: 790.291676907476\n",
      "distance from center [0.29972527]\n"
     ]
    },
    {
     "name": "stderr",
     "output_type": "stream",
     "text": [
      " 27%|██▋       | 344/1261 [00:47<02:05,  7.29it/s]"
     ]
    },
    {
     "name": "stdout",
     "output_type": "stream",
     "text": [
      "left line curvature: 12960.153388584646\n",
      "right line curvature: 1057.0791726101165\n",
      "distance from center [0.30953468]\n",
      "left line curvature: 6185.2911370025295\n",
      "right line curvature: 1196.7541672860918\n",
      "distance from center [0.31330701]\n"
     ]
    },
    {
     "name": "stderr",
     "output_type": "stream",
     "text": [
      "\r",
      " 27%|██▋       | 345/1261 [00:47<02:05,  7.29it/s]"
     ]
    },
    {
     "name": "stdout",
     "output_type": "stream",
     "text": [
      "left line curvature: 5637.748146469769\n",
      "right line curvature: 1073.943080380894\n",
      "distance from center [0.31175461]\n",
      "left line curvature: 4862.700692253508\n",
      "right line curvature: 1527.1304499322994\n",
      "distance from center [0.31821601]\n"
     ]
    },
    {
     "name": "stderr",
     "output_type": "stream",
     "text": [
      " 28%|██▊       | 348/1261 [00:47<02:05,  7.28it/s]"
     ]
    },
    {
     "name": "stdout",
     "output_type": "stream",
     "text": [
      "left line curvature: 7330.442984198762\n",
      "right line curvature: 1096.1292740897954\n",
      "distance from center [0.32099563]\n",
      "left line curvature: 6325.726971941\n",
      "right line curvature: 1144.0828540893765\n",
      "distance from center [0.32392459]\n"
     ]
    },
    {
     "name": "stderr",
     "output_type": "stream",
     "text": [
      " 28%|██▊       | 350/1261 [00:48<02:05,  7.28it/s]"
     ]
    },
    {
     "name": "stdout",
     "output_type": "stream",
     "text": [
      "left line curvature: 4586.411149174645\n",
      "right line curvature: 1923.6756082533186\n",
      "distance from center [0.33069714]\n",
      "left line curvature: 8573.898936734488\n",
      "right line curvature: 1323.8262186605577\n",
      "distance from center [0.33063646]\n"
     ]
    },
    {
     "name": "stderr",
     "output_type": "stream",
     "text": [
      " 28%|██▊       | 352/1261 [00:48<02:04,  7.28it/s]"
     ]
    },
    {
     "name": "stdout",
     "output_type": "stream",
     "text": [
      "left line curvature: 10267.842559563647\n",
      "right line curvature: 2106.2735649676\n",
      "distance from center [0.33674219]\n",
      "left line curvature: 9997.044748497497\n",
      "right line curvature: 3019.4607893632683\n",
      "distance from center [0.33842076]\n"
     ]
    },
    {
     "name": "stderr",
     "output_type": "stream",
     "text": [
      " 28%|██▊       | 354/1261 [00:48<02:04,  7.28it/s]"
     ]
    },
    {
     "name": "stdout",
     "output_type": "stream",
     "text": [
      "left line curvature: 8384.845754640299\n",
      "right line curvature: 1872.3519558845692\n",
      "distance from center [0.32587042]\n",
      "left line curvature: 17546.521034194047\n",
      "right line curvature: 3521.842521967298\n",
      "distance from center [0.34344222]\n"
     ]
    },
    {
     "name": "stderr",
     "output_type": "stream",
     "text": [
      " 28%|██▊       | 356/1261 [00:48<02:04,  7.28it/s]"
     ]
    },
    {
     "name": "stdout",
     "output_type": "stream",
     "text": [
      "left line curvature: 20943.60024417533\n",
      "right line curvature: 27484.86473504992\n",
      "distance from center [0.34578714]\n",
      "left line curvature: 9954.245078779571\n",
      "right line curvature: 2234.6599106453755\n",
      "distance from center [0.33975547]\n"
     ]
    },
    {
     "name": "stderr",
     "output_type": "stream",
     "text": [
      " 28%|██▊       | 358/1261 [00:49<02:03,  7.29it/s]"
     ]
    },
    {
     "name": "stdout",
     "output_type": "stream",
     "text": [
      "left line curvature: 1894.140385352718\n",
      "right line curvature: 1431.5472066713646\n",
      "distance from center [0.3463423]\n",
      "left line curvature: 2005.960322813386\n",
      "right line curvature: 1213.713973945175\n",
      "distance from center [0.3458692]\n"
     ]
    },
    {
     "name": "stderr",
     "output_type": "stream",
     "text": [
      " 29%|██▊       | 360/1261 [00:49<02:03,  7.29it/s]"
     ]
    },
    {
     "name": "stdout",
     "output_type": "stream",
     "text": [
      "left line curvature: 1306.8501947420614\n",
      "right line curvature: 1202.2679064244867\n",
      "distance from center [0.360386]\n",
      "left line curvature: 1203.6286738760477\n",
      "right line curvature: 1246.1851161987593\n",
      "distance from center [0.36373389]\n"
     ]
    },
    {
     "name": "stderr",
     "output_type": "stream",
     "text": [
      " 29%|██▊       | 362/1261 [00:49<02:03,  7.29it/s]"
     ]
    },
    {
     "name": "stdout",
     "output_type": "stream",
     "text": [
      "left line curvature: 977.2038335808504\n",
      "right line curvature: 1465.459596623549\n",
      "distance from center [0.37250867]\n",
      "left line curvature: 911.2833516689199\n",
      "right line curvature: 3067.525840914647\n",
      "distance from center [0.38221016]\n"
     ]
    },
    {
     "name": "stderr",
     "output_type": "stream",
     "text": [
      " 29%|██▉       | 364/1261 [00:49<02:03,  7.29it/s]"
     ]
    },
    {
     "name": "stdout",
     "output_type": "stream",
     "text": [
      "left line curvature: 871.716729553022\n",
      "right line curvature: 4653.852325578528\n",
      "distance from center [0.38879028]\n",
      "left line curvature: 905.5503221398614\n",
      "right line curvature: 4955.5034597565955\n",
      "distance from center [0.38489134]\n"
     ]
    },
    {
     "name": "stderr",
     "output_type": "stream",
     "text": [
      " 29%|██▉       | 366/1261 [00:50<02:02,  7.29it/s]"
     ]
    },
    {
     "name": "stdout",
     "output_type": "stream",
     "text": [
      "left line curvature: 976.817924114258\n",
      "right line curvature: 197314.78105763887\n",
      "distance from center [0.39393473]\n",
      "left line curvature: 1110.8635196825492\n",
      "right line curvature: 156475.6653632138\n",
      "distance from center [0.38684332]\n"
     ]
    },
    {
     "name": "stderr",
     "output_type": "stream",
     "text": [
      " 29%|██▉       | 368/1261 [00:50<02:02,  7.29it/s]"
     ]
    },
    {
     "name": "stdout",
     "output_type": "stream",
     "text": [
      "left line curvature: 1038.7563443837862\n",
      "right line curvature: 6910.68522510394\n",
      "distance from center [0.37701047]\n",
      "left line curvature: 1061.226292346804\n",
      "right line curvature: 9111.266704274169\n",
      "distance from center [0.37173688]\n"
     ]
    },
    {
     "name": "stderr",
     "output_type": "stream",
     "text": [
      " 29%|██▉       | 370/1261 [00:50<02:02,  7.29it/s]"
     ]
    },
    {
     "name": "stdout",
     "output_type": "stream",
     "text": [
      "left line curvature: 1317.8361598088222\n",
      "right line curvature: 1722.7649330041393\n",
      "distance from center [0.34445236]\n",
      "left line curvature: 1475.9322537362693\n",
      "right line curvature: 2207.7395946152997\n",
      "distance from center [0.34014472]\n"
     ]
    },
    {
     "name": "stderr",
     "output_type": "stream",
     "text": [
      " 30%|██▉       | 372/1261 [00:51<02:01,  7.29it/s]"
     ]
    },
    {
     "name": "stdout",
     "output_type": "stream",
     "text": [
      "left line curvature: 1826.7440763750403\n",
      "right line curvature: 3599.8833329653917\n",
      "distance from center [0.33625524]\n",
      "left line curvature: 2134.052893915602\n",
      "right line curvature: 2463.494228657711\n",
      "distance from center [0.32422975]\n"
     ]
    },
    {
     "name": "stderr",
     "output_type": "stream",
     "text": [
      " 30%|██▉       | 374/1261 [00:51<02:01,  7.29it/s]"
     ]
    },
    {
     "name": "stdout",
     "output_type": "stream",
     "text": [
      "left line curvature: 2021.0265334584187\n",
      "right line curvature: 2493.4845338897535\n",
      "distance from center [0.31992569]\n",
      "left line curvature: 2952.8279958971357\n",
      "right line curvature: 12511.927937549102\n",
      "distance from center [0.31303667]\n"
     ]
    },
    {
     "name": "stderr",
     "output_type": "stream",
     "text": [
      " 30%|██▉       | 376/1261 [00:51<02:01,  7.29it/s]"
     ]
    },
    {
     "name": "stdout",
     "output_type": "stream",
     "text": [
      "left line curvature: 5564.1457929149765\n",
      "right line curvature: 28039.552024616547\n",
      "distance from center [0.30642776]\n",
      "left line curvature: 22033.036109989516\n",
      "right line curvature: 20470.859733792357\n",
      "distance from center [0.29632041]\n"
     ]
    },
    {
     "name": "stderr",
     "output_type": "stream",
     "text": [
      " 30%|██▉       | 378/1261 [00:51<02:01,  7.29it/s]"
     ]
    },
    {
     "name": "stdout",
     "output_type": "stream",
     "text": [
      "left line curvature: 6784.673045065178\n",
      "right line curvature: 5675.993490465831\n",
      "distance from center [0.29717677]\n",
      "left line curvature: 3561.4227385066083\n",
      "right line curvature: 33024.767221367314\n",
      "distance from center [0.29286937]\n"
     ]
    },
    {
     "name": "stderr",
     "output_type": "stream",
     "text": [
      " 30%|███       | 380/1261 [00:52<02:00,  7.30it/s]"
     ]
    },
    {
     "name": "stdout",
     "output_type": "stream",
     "text": [
      "left line curvature: 2995.9197489802236\n",
      "right line curvature: 23351.003820079277\n",
      "distance from center [0.28988433]\n",
      "left line curvature: 2545.022521821159\n",
      "right line curvature: 4635.933644558911\n",
      "distance from center [0.30170326]\n"
     ]
    },
    {
     "name": "stderr",
     "output_type": "stream",
     "text": [
      " 30%|███       | 382/1261 [00:52<02:00,  7.30it/s]"
     ]
    },
    {
     "name": "stdout",
     "output_type": "stream",
     "text": [
      "left line curvature: 2190.090230385399\n",
      "right line curvature: 13051.946087658285\n",
      "distance from center [0.2961949]\n",
      "left line curvature: 2445.874881914055\n",
      "right line curvature: 6771.666128080769\n",
      "distance from center [0.30107193]\n"
     ]
    },
    {
     "name": "stderr",
     "output_type": "stream",
     "text": [
      " 30%|███       | 384/1261 [00:52<02:00,  7.30it/s]"
     ]
    },
    {
     "name": "stdout",
     "output_type": "stream",
     "text": [
      "left line curvature: 2297.2986224960487\n",
      "right line curvature: 4238.586111550458\n",
      "distance from center [0.29378379]\n",
      "left line curvature: 2342.7032552240985\n",
      "right line curvature: 3123.067017375692\n",
      "distance from center [0.29486668]\n"
     ]
    },
    {
     "name": "stderr",
     "output_type": "stream",
     "text": [
      " 31%|███       | 386/1261 [00:52<01:59,  7.30it/s]"
     ]
    },
    {
     "name": "stdout",
     "output_type": "stream",
     "text": [
      "left line curvature: 1852.5349983815333\n",
      "right line curvature: 3187.6742351648454\n",
      "distance from center [0.29978485]\n",
      "left line curvature: 2523.3050191735174\n",
      "right line curvature: 3635.267383801074\n",
      "distance from center [0.30722225]\n"
     ]
    },
    {
     "name": "stderr",
     "output_type": "stream",
     "text": [
      " 31%|███       | 388/1261 [00:53<01:59,  7.30it/s]"
     ]
    },
    {
     "name": "stdout",
     "output_type": "stream",
     "text": [
      "left line curvature: 2211.6900206954697\n",
      "right line curvature: 2145.859616936847\n",
      "distance from center [0.30300086]\n",
      "left line curvature: 2261.8543116378146\n",
      "right line curvature: 5711.284638974197\n",
      "distance from center [0.31413215]\n"
     ]
    },
    {
     "name": "stderr",
     "output_type": "stream",
     "text": [
      " 31%|███       | 390/1261 [00:53<01:59,  7.30it/s]"
     ]
    },
    {
     "name": "stdout",
     "output_type": "stream",
     "text": [
      "left line curvature: 1955.6375559438072\n",
      "right line curvature: 3461.722688332879\n",
      "distance from center [0.3033884]\n",
      "left line curvature: 2247.3384533483945\n",
      "right line curvature: 31434.095930218442\n",
      "distance from center [0.31178163]\n"
     ]
    },
    {
     "name": "stderr",
     "output_type": "stream",
     "text": [
      " 31%|███       | 392/1261 [00:53<01:59,  7.30it/s]"
     ]
    },
    {
     "name": "stdout",
     "output_type": "stream",
     "text": [
      "left line curvature: 2870.207418184736\n",
      "right line curvature: 3282.808390356518\n",
      "distance from center [0.32701306]\n",
      "left line curvature: 3027.0959756348766\n",
      "right line curvature: 1667.671176592472\n",
      "distance from center [0.33540367]\n"
     ]
    },
    {
     "name": "stderr",
     "output_type": "stream",
     "text": [
      " 31%|███       | 394/1261 [00:53<01:58,  7.30it/s]"
     ]
    },
    {
     "name": "stdout",
     "output_type": "stream",
     "text": [
      "left line curvature: 3234.9372564402556\n",
      "right line curvature: 1456.1651634979796\n",
      "distance from center [0.33671699]\n",
      "left line curvature: 3425.147525486264\n",
      "right line curvature: 1407.898049904776\n",
      "distance from center [0.33283733]\n"
     ]
    },
    {
     "name": "stderr",
     "output_type": "stream",
     "text": [
      " 31%|███▏      | 396/1261 [00:54<01:58,  7.30it/s]"
     ]
    },
    {
     "name": "stdout",
     "output_type": "stream",
     "text": [
      "left line curvature: 4614.924328785804\n",
      "right line curvature: 2261.7469057324774\n",
      "distance from center [0.32038165]\n",
      "left line curvature: 4865.215729203483\n",
      "right line curvature: 3022.679790231882\n",
      "distance from center [0.30971183]\n"
     ]
    },
    {
     "name": "stderr",
     "output_type": "stream",
     "text": [
      " 32%|███▏      | 398/1261 [00:54<01:58,  7.30it/s]"
     ]
    },
    {
     "name": "stdout",
     "output_type": "stream",
     "text": [
      "left line curvature: 11031.985587467489\n",
      "right line curvature: 3126.5669446924508\n",
      "distance from center [0.31162452]\n",
      "left line curvature: 18045.906553711735\n",
      "right line curvature: 2055.1984320445713\n",
      "distance from center [0.31357352]\n"
     ]
    },
    {
     "name": "stderr",
     "output_type": "stream",
     "text": [
      " 32%|███▏      | 400/1261 [00:54<01:57,  7.30it/s]"
     ]
    },
    {
     "name": "stdout",
     "output_type": "stream",
     "text": [
      "left line curvature: 68961.86357036806\n",
      "right line curvature: 3062.01831897446\n",
      "distance from center [0.30695013]\n",
      "left line curvature: 19177.560342452907\n",
      "right line curvature: 3204.2166569193005\n",
      "distance from center [0.28468384]\n"
     ]
    },
    {
     "name": "stderr",
     "output_type": "stream",
     "text": [
      " 32%|███▏      | 402/1261 [00:55<01:57,  7.29it/s]"
     ]
    },
    {
     "name": "stdout",
     "output_type": "stream",
     "text": [
      "left line curvature: 30147.270260484092\n",
      "right line curvature: 1402.8401379521968\n",
      "distance from center [0.26526255]\n",
      "left line curvature: 9722.296178789313\n",
      "right line curvature: 1041.6155014592766\n",
      "distance from center [0.25445077]\n"
     ]
    },
    {
     "name": "stderr",
     "output_type": "stream",
     "text": [
      " 32%|███▏      | 404/1261 [00:55<01:57,  7.29it/s]"
     ]
    },
    {
     "name": "stdout",
     "output_type": "stream",
     "text": [
      "left line curvature: 15929.4411919537\n",
      "right line curvature: 3083.6220635596255\n",
      "distance from center [0.27742787]\n",
      "left line curvature: 10894.621281158614\n",
      "right line curvature: 7688.098844761988\n",
      "distance from center [0.28088198]\n"
     ]
    },
    {
     "name": "stderr",
     "output_type": "stream",
     "text": [
      " 32%|███▏      | 406/1261 [00:55<01:57,  7.29it/s]"
     ]
    },
    {
     "name": "stdout",
     "output_type": "stream",
     "text": [
      "left line curvature: 121893.24556263455\n",
      "right line curvature: 4535.33434953217\n",
      "distance from center [0.28878241]\n",
      "left line curvature: 22306.223917158317\n",
      "right line curvature: 1674.2184502513671\n",
      "distance from center [0.29414735]\n"
     ]
    },
    {
     "name": "stderr",
     "output_type": "stream",
     "text": [
      " 32%|███▏      | 408/1261 [00:55<01:56,  7.29it/s]"
     ]
    },
    {
     "name": "stdout",
     "output_type": "stream",
     "text": [
      "left line curvature: 36641.74839847067\n",
      "right line curvature: 1897.6842801352554\n",
      "distance from center [0.28329356]\n",
      "left line curvature: 15993.295616798649\n",
      "right line curvature: 3238.334399138039\n",
      "distance from center [0.27230919]\n"
     ]
    },
    {
     "name": "stderr",
     "output_type": "stream",
     "text": [
      " 33%|███▎      | 410/1261 [00:56<01:56,  7.29it/s]"
     ]
    },
    {
     "name": "stdout",
     "output_type": "stream",
     "text": [
      "left line curvature: 29112.34566872092\n",
      "right line curvature: 10424.125891125343\n",
      "distance from center [0.26223088]\n",
      "left line curvature: 46926.14960972817\n",
      "right line curvature: 2912.86583701637\n",
      "distance from center [0.26290203]\n"
     ]
    },
    {
     "name": "stderr",
     "output_type": "stream",
     "text": [
      " 33%|███▎      | 412/1261 [00:56<01:56,  7.29it/s]"
     ]
    },
    {
     "name": "stdout",
     "output_type": "stream",
     "text": [
      "left line curvature: 37521.849061462555\n",
      "right line curvature: 10442.449263213965\n",
      "distance from center [0.2512833]\n",
      "left line curvature: 17984.44149428558\n",
      "right line curvature: 2867.7456202109124\n",
      "distance from center [0.23580088]\n"
     ]
    },
    {
     "name": "stderr",
     "output_type": "stream",
     "text": [
      " 33%|███▎      | 414/1261 [00:56<01:56,  7.29it/s]"
     ]
    },
    {
     "name": "stdout",
     "output_type": "stream",
     "text": [
      "left line curvature: 5067.013112189015\n",
      "right line curvature: 2180.329689766952\n",
      "distance from center [0.21473889]\n",
      "left line curvature: 5425.99671873244\n",
      "right line curvature: 1406.450556743252\n",
      "distance from center [0.20204502]\n"
     ]
    },
    {
     "name": "stderr",
     "output_type": "stream",
     "text": [
      " 33%|███▎      | 416/1261 [00:57<01:55,  7.30it/s]"
     ]
    },
    {
     "name": "stdout",
     "output_type": "stream",
     "text": [
      "left line curvature: 3282.769575344409\n",
      "right line curvature: 7815.603951456307\n",
      "distance from center [0.23083871]\n",
      "left line curvature: 3582.8694508481776\n",
      "right line curvature: 5990.239870625311\n",
      "distance from center [0.22816608]\n"
     ]
    },
    {
     "name": "stderr",
     "output_type": "stream",
     "text": [
      " 33%|███▎      | 418/1261 [00:57<01:55,  7.30it/s]"
     ]
    },
    {
     "name": "stdout",
     "output_type": "stream",
     "text": [
      "left line curvature: 2870.1636718338964\n",
      "right line curvature: 1895.1003658240302\n",
      "distance from center [0.23476055]\n",
      "left line curvature: 2959.284278708823\n",
      "right line curvature: 1783.2665561578851\n",
      "distance from center [0.23475413]\n"
     ]
    },
    {
     "name": "stderr",
     "output_type": "stream",
     "text": [
      " 33%|███▎      | 420/1261 [00:57<01:55,  7.30it/s]"
     ]
    },
    {
     "name": "stdout",
     "output_type": "stream",
     "text": [
      "left line curvature: 3232.3565004252205\n",
      "right line curvature: 2060.1726532023363\n",
      "distance from center [0.22989846]\n",
      "left line curvature: 2029.198399017707\n",
      "right line curvature: 9627.250649243952\n",
      "distance from center [0.21491672]\n"
     ]
    },
    {
     "name": "stderr",
     "output_type": "stream",
     "text": [
      " 33%|███▎      | 422/1261 [00:57<01:54,  7.30it/s]"
     ]
    },
    {
     "name": "stdout",
     "output_type": "stream",
     "text": [
      "left line curvature: 1837.8843979150274\n",
      "right line curvature: 4146.777499739704\n",
      "distance from center [0.21138202]\n",
      "left line curvature: 2355.1453603107666\n",
      "right line curvature: 2736.8058868004373\n",
      "distance from center [0.20438682]\n"
     ]
    },
    {
     "name": "stderr",
     "output_type": "stream",
     "text": [
      " 34%|███▎      | 424/1261 [00:58<01:54,  7.30it/s]"
     ]
    },
    {
     "name": "stdout",
     "output_type": "stream",
     "text": [
      "left line curvature: 2707.8598943576617\n",
      "right line curvature: 2204.3856032398644\n",
      "distance from center [0.19672474]\n",
      "left line curvature: 5115.02636886694\n",
      "right line curvature: 1975.238871970929\n",
      "distance from center [0.19097092]\n"
     ]
    },
    {
     "name": "stderr",
     "output_type": "stream",
     "text": [
      " 34%|███▍      | 426/1261 [00:58<01:54,  7.30it/s]"
     ]
    },
    {
     "name": "stdout",
     "output_type": "stream",
     "text": [
      "left line curvature: 3583.5558393021897\n",
      "right line curvature: 1773.373362679984\n",
      "distance from center [0.17511037]\n",
      "left line curvature: 3483.58216253855\n",
      "right line curvature: 1165.1276316305089\n",
      "distance from center [0.15458111]\n"
     ]
    },
    {
     "name": "stderr",
     "output_type": "stream",
     "text": [
      " 34%|███▍      | 428/1261 [00:58<01:54,  7.30it/s]"
     ]
    },
    {
     "name": "stdout",
     "output_type": "stream",
     "text": [
      "left line curvature: 21657.145464740675\n",
      "right line curvature: 3052.3697371411563\n",
      "distance from center [0.18882026]\n",
      "left line curvature: 16804.73705148606\n",
      "right line curvature: 10417.141621564942\n",
      "distance from center [0.2038844]\n"
     ]
    },
    {
     "name": "stderr",
     "output_type": "stream",
     "text": [
      " 34%|███▍      | 430/1261 [00:58<01:53,  7.29it/s]"
     ]
    },
    {
     "name": "stdout",
     "output_type": "stream",
     "text": [
      "left line curvature: 7181.797058877458\n",
      "right line curvature: 24691.215978782995\n",
      "distance from center [0.19734468]\n",
      "left line curvature: 5566.890666615798\n",
      "right line curvature: 4610.072447257244\n",
      "distance from center [0.18287397]\n"
     ]
    },
    {
     "name": "stderr",
     "output_type": "stream",
     "text": [
      " 34%|███▍      | 432/1261 [00:59<01:53,  7.29it/s]"
     ]
    },
    {
     "name": "stdout",
     "output_type": "stream",
     "text": [
      "left line curvature: 4604.890315830764\n",
      "right line curvature: 390340.8989493894\n",
      "distance from center [0.18653444]\n",
      "left line curvature: 3257.9581738790544\n",
      "right line curvature: 7355.70212599301\n",
      "distance from center [0.1812665]\n"
     ]
    },
    {
     "name": "stderr",
     "output_type": "stream",
     "text": [
      " 34%|███▍      | 434/1261 [00:59<01:53,  7.29it/s]"
     ]
    },
    {
     "name": "stdout",
     "output_type": "stream",
     "text": [
      "left line curvature: 3299.9641246254414\n",
      "right line curvature: 5817.054014992916\n",
      "distance from center [0.17678878]\n",
      "left line curvature: 2724.7393769157575\n",
      "right line curvature: 5559.092854058407\n",
      "distance from center [0.1786418]\n"
     ]
    },
    {
     "name": "stderr",
     "output_type": "stream",
     "text": [
      " 35%|███▍      | 436/1261 [00:59<01:53,  7.29it/s]"
     ]
    },
    {
     "name": "stdout",
     "output_type": "stream",
     "text": [
      "left line curvature: 2218.2564435642303\n",
      "right line curvature: 2062.725757596803\n",
      "distance from center [0.16891943]\n",
      "left line curvature: 1747.0967699550647\n",
      "right line curvature: 1149.348891927002\n",
      "distance from center [0.15487886]\n"
     ]
    },
    {
     "name": "stderr",
     "output_type": "stream",
     "text": [
      " 35%|███▍      | 438/1261 [01:00<01:52,  7.29it/s]"
     ]
    },
    {
     "name": "stdout",
     "output_type": "stream",
     "text": [
      "left line curvature: 1650.57817008253\n",
      "right line curvature: 3548.125906268674\n",
      "distance from center [0.17146886]\n",
      "left line curvature: 1657.3939152114947\n",
      "right line curvature: 2252.077927109054\n",
      "distance from center [0.15769565]\n"
     ]
    },
    {
     "name": "stderr",
     "output_type": "stream",
     "text": [
      " 35%|███▍      | 440/1261 [01:00<01:52,  7.29it/s]"
     ]
    },
    {
     "name": "stdout",
     "output_type": "stream",
     "text": [
      "left line curvature: 1634.0025161482022\n",
      "right line curvature: 959153.9759625413\n",
      "distance from center [0.17371795]\n",
      "left line curvature: 1593.4053621439275\n",
      "right line curvature: 1943.9257444378165\n",
      "distance from center [0.15081047]\n"
     ]
    },
    {
     "name": "stderr",
     "output_type": "stream",
     "text": [
      " 35%|███▌      | 442/1261 [01:00<01:52,  7.29it/s]"
     ]
    },
    {
     "name": "stdout",
     "output_type": "stream",
     "text": [
      "left line curvature: 1629.1609479170118\n",
      "right line curvature: 5447.218358223296\n",
      "distance from center [0.16292612]\n",
      "left line curvature: 1929.0353916598879\n",
      "right line curvature: 2797.6807890819505\n",
      "distance from center [0.15112102]\n"
     ]
    },
    {
     "name": "stderr",
     "output_type": "stream",
     "text": [
      " 35%|███▌      | 444/1261 [01:00<01:52,  7.29it/s]"
     ]
    },
    {
     "name": "stdout",
     "output_type": "stream",
     "text": [
      "left line curvature: 1804.0219566923213\n",
      "right line curvature: 2868.79927268375\n",
      "distance from center [0.1461604]\n",
      "left line curvature: 1821.8561034927252\n",
      "right line curvature: 3117.627478652451\n",
      "distance from center [0.14162304]\n"
     ]
    },
    {
     "name": "stderr",
     "output_type": "stream",
     "text": [
      " 35%|███▌      | 446/1261 [01:01<01:51,  7.29it/s]"
     ]
    },
    {
     "name": "stdout",
     "output_type": "stream",
     "text": [
      "left line curvature: 1914.269789342385\n",
      "right line curvature: 2226.6322898684657\n",
      "distance from center [0.130476]\n",
      "left line curvature: 1784.415842871224\n",
      "right line curvature: 1363.830505384244\n",
      "distance from center [0.12345834]\n"
     ]
    },
    {
     "name": "stderr",
     "output_type": "stream",
     "text": [
      " 36%|███▌      | 448/1261 [01:01<01:51,  7.29it/s]"
     ]
    },
    {
     "name": "stdout",
     "output_type": "stream",
     "text": [
      "left line curvature: 1963.983430508782\n",
      "right line curvature: 1544.5521197491207\n",
      "distance from center [0.11811844]\n",
      "left line curvature: 2717.619791474524\n",
      "right line curvature: 4565.243157334294\n",
      "distance from center [0.12262918]\n"
     ]
    },
    {
     "name": "stderr",
     "output_type": "stream",
     "text": [
      " 36%|███▌      | 450/1261 [01:01<01:51,  7.29it/s]"
     ]
    },
    {
     "name": "stdout",
     "output_type": "stream",
     "text": [
      "left line curvature: 3035.8208175406266\n",
      "right line curvature: 13379.766785423977\n",
      "distance from center [0.13430725]\n",
      "left line curvature: 4212.567839723347\n",
      "right line curvature: 7159.974931972387\n",
      "distance from center [0.12929669]\n"
     ]
    },
    {
     "name": "stderr",
     "output_type": "stream",
     "text": [
      " 36%|███▌      | 452/1261 [01:01<01:50,  7.30it/s]"
     ]
    },
    {
     "name": "stdout",
     "output_type": "stream",
     "text": [
      "left line curvature: 10973.488775758333\n",
      "right line curvature: 16863.382839569873\n",
      "distance from center [0.1151877]\n",
      "left line curvature: 55268.20355247064\n",
      "right line curvature: 249892.79597021788\n",
      "distance from center [0.11220679]\n"
     ]
    },
    {
     "name": "stderr",
     "output_type": "stream",
     "text": [
      " 36%|███▌      | 454/1261 [01:02<01:50,  7.30it/s]"
     ]
    },
    {
     "name": "stdout",
     "output_type": "stream",
     "text": [
      "left line curvature: 50513.61460622765\n",
      "right line curvature: 163854.91704111523\n",
      "distance from center [0.11815377]\n",
      "left line curvature: 6366.700151541136\n",
      "right line curvature: 4608.368131866809\n",
      "distance from center [0.12467735]\n"
     ]
    },
    {
     "name": "stderr",
     "output_type": "stream",
     "text": [
      " 36%|███▌      | 456/1261 [01:02<01:50,  7.30it/s]"
     ]
    },
    {
     "name": "stdout",
     "output_type": "stream",
     "text": [
      "left line curvature: 3657.190026902822\n",
      "right line curvature: 7769.446382429979\n",
      "distance from center [0.11775833]\n",
      "left line curvature: 2804.8842454543756\n",
      "right line curvature: 10688.444857414437\n",
      "distance from center [0.11329332]\n"
     ]
    },
    {
     "name": "stderr",
     "output_type": "stream",
     "text": [
      " 36%|███▋      | 458/1261 [01:02<01:50,  7.30it/s]"
     ]
    },
    {
     "name": "stdout",
     "output_type": "stream",
     "text": [
      "left line curvature: 2702.3295970778436\n",
      "right line curvature: 5076.398071613421\n",
      "distance from center [0.11555421]\n",
      "left line curvature: 2792.708838223167\n",
      "right line curvature: 5503.969464029812\n",
      "distance from center [0.12018186]\n"
     ]
    },
    {
     "name": "stderr",
     "output_type": "stream",
     "text": [
      " 36%|███▋      | 460/1261 [01:03<01:49,  7.30it/s]"
     ]
    },
    {
     "name": "stdout",
     "output_type": "stream",
     "text": [
      "left line curvature: 2386.258959803152\n",
      "right line curvature: 3838.5203228302976\n",
      "distance from center [0.13290894]\n",
      "left line curvature: 2656.6090807855126\n",
      "right line curvature: 2574.850943920354\n",
      "distance from center [0.14060421]\n"
     ]
    },
    {
     "name": "stderr",
     "output_type": "stream",
     "text": [
      " 37%|███▋      | 462/1261 [01:03<01:49,  7.30it/s]"
     ]
    },
    {
     "name": "stdout",
     "output_type": "stream",
     "text": [
      "left line curvature: 2063.1519442890017\n",
      "right line curvature: 1164.4429457951903\n",
      "distance from center [0.16869989]\n",
      "left line curvature: 2083.3832435180157\n",
      "right line curvature: 1506.8026944126323\n",
      "distance from center [0.15704919]\n"
     ]
    },
    {
     "name": "stderr",
     "output_type": "stream",
     "text": [
      " 37%|███▋      | 464/1261 [01:03<01:49,  7.30it/s]"
     ]
    },
    {
     "name": "stdout",
     "output_type": "stream",
     "text": [
      "left line curvature: 2585.523518264751\n",
      "right line curvature: 1945.9540875860098\n",
      "distance from center [0.15363309]\n",
      "left line curvature: 2643.57326207724\n",
      "right line curvature: 1095.6127239876619\n",
      "distance from center [0.16713256]\n"
     ]
    },
    {
     "name": "stderr",
     "output_type": "stream",
     "text": [
      " 37%|███▋      | 466/1261 [01:03<01:48,  7.30it/s]"
     ]
    },
    {
     "name": "stdout",
     "output_type": "stream",
     "text": [
      "left line curvature: 2860.546964741385\n",
      "right line curvature: 1146.1041442725752\n",
      "distance from center [0.16121272]\n",
      "left line curvature: 2637.4372340605\n",
      "right line curvature: 1615.862789227539\n",
      "distance from center [0.15512344]\n"
     ]
    },
    {
     "name": "stderr",
     "output_type": "stream",
     "text": [
      " 37%|███▋      | 468/1261 [01:04<01:48,  7.30it/s]"
     ]
    },
    {
     "name": "stdout",
     "output_type": "stream",
     "text": [
      "left line curvature: 3617.8396499806668\n",
      "right line curvature: 1851.4552437417842\n",
      "distance from center [0.15368566]\n",
      "left line curvature: 4189.223349714472\n",
      "right line curvature: 2522.3226434248836\n",
      "distance from center [0.14989557]\n"
     ]
    },
    {
     "name": "stderr",
     "output_type": "stream",
     "text": [
      " 37%|███▋      | 470/1261 [01:04<01:48,  7.30it/s]"
     ]
    },
    {
     "name": "stdout",
     "output_type": "stream",
     "text": [
      "left line curvature: 5729.437069818068\n",
      "right line curvature: 142883.27771953616\n",
      "distance from center [0.14672453]\n",
      "left line curvature: 8672.605341786762\n",
      "right line curvature: 5496.451460450378\n",
      "distance from center [0.15348492]\n"
     ]
    },
    {
     "name": "stderr",
     "output_type": "stream",
     "text": [
      " 37%|███▋      | 472/1261 [01:04<01:48,  7.30it/s]"
     ]
    },
    {
     "name": "stdout",
     "output_type": "stream",
     "text": [
      "left line curvature: 10133.31495860364\n",
      "right line curvature: 20254.446634235534\n",
      "distance from center [0.14542033]\n",
      "left line curvature: 30026.09947517284\n",
      "right line curvature: 3050.455698602484\n",
      "distance from center [0.13124402]\n"
     ]
    },
    {
     "name": "stderr",
     "output_type": "stream",
     "text": [
      " 38%|███▊      | 474/1261 [01:04<01:47,  7.30it/s]"
     ]
    },
    {
     "name": "stdout",
     "output_type": "stream",
     "text": [
      "left line curvature: 19476.986062764816\n",
      "right line curvature: 3055.1933084333536\n",
      "distance from center [0.13036665]\n",
      "left line curvature: 11714.389244988115\n",
      "right line curvature: 6241.164926584285\n",
      "distance from center [0.15465786]\n"
     ]
    },
    {
     "name": "stderr",
     "output_type": "stream",
     "text": [
      " 38%|███▊      | 476/1261 [01:05<01:47,  7.30it/s]"
     ]
    },
    {
     "name": "stdout",
     "output_type": "stream",
     "text": [
      "left line curvature: 4879.372771497757\n",
      "right line curvature: 15641.874031430221\n",
      "distance from center [0.15444801]\n",
      "left line curvature: 5283.409781125733\n",
      "right line curvature: 2590.7814336935767\n",
      "distance from center [0.17056109]\n"
     ]
    },
    {
     "name": "stderr",
     "output_type": "stream",
     "text": [
      " 38%|███▊      | 478/1261 [01:05<01:47,  7.30it/s]"
     ]
    },
    {
     "name": "stdout",
     "output_type": "stream",
     "text": [
      "left line curvature: 4913.811324727663\n",
      "right line curvature: 13904.77775444335\n",
      "distance from center [0.16326273]\n",
      "left line curvature: 4392.71164358525\n",
      "right line curvature: 2186.6233197130045\n",
      "distance from center [0.17763033]\n"
     ]
    },
    {
     "name": "stderr",
     "output_type": "stream",
     "text": [
      " 38%|███▊      | 480/1261 [01:05<01:46,  7.30it/s]"
     ]
    },
    {
     "name": "stdout",
     "output_type": "stream",
     "text": [
      "left line curvature: 3462.615115394646\n",
      "right line curvature: 3420.0747421290907\n",
      "distance from center [0.17450371]\n",
      "left line curvature: 3924.045234365339\n",
      "right line curvature: 4452.711677052455\n",
      "distance from center [0.17085222]\n"
     ]
    },
    {
     "name": "stderr",
     "output_type": "stream",
     "text": [
      " 38%|███▊      | 482/1261 [01:06<01:46,  7.30it/s]"
     ]
    },
    {
     "name": "stdout",
     "output_type": "stream",
     "text": [
      "left line curvature: 3427.396122739038\n",
      "right line curvature: 21148.12470538512\n",
      "distance from center [0.16781656]\n",
      "left line curvature: 3042.9065077336254\n",
      "right line curvature: 7160.353368729058\n",
      "distance from center [0.16412289]\n"
     ]
    },
    {
     "name": "stderr",
     "output_type": "stream",
     "text": [
      " 38%|███▊      | 484/1261 [01:06<01:46,  7.30it/s]"
     ]
    },
    {
     "name": "stdout",
     "output_type": "stream",
     "text": [
      "left line curvature: 3620.566661172315\n",
      "right line curvature: 106584.76631675019\n",
      "distance from center [0.16577195]\n",
      "left line curvature: 4254.970533283337\n",
      "right line curvature: 2366.931974094474\n",
      "distance from center [0.14989784]\n"
     ]
    },
    {
     "name": "stderr",
     "output_type": "stream",
     "text": [
      " 39%|███▊      | 486/1261 [01:06<01:46,  7.30it/s]"
     ]
    },
    {
     "name": "stdout",
     "output_type": "stream",
     "text": [
      "left line curvature: 6904.36692626603\n",
      "right line curvature: 1148.9144793792066\n",
      "distance from center [0.12123227]\n",
      "left line curvature: 4274.141482873908\n",
      "right line curvature: 946.9489790744966\n",
      "distance from center [0.12257596]\n"
     ]
    },
    {
     "name": "stderr",
     "output_type": "stream",
     "text": [
      " 39%|███▊      | 488/1261 [01:06<01:45,  7.30it/s]"
     ]
    },
    {
     "name": "stdout",
     "output_type": "stream",
     "text": [
      "left line curvature: 5517.231990996143\n",
      "right line curvature: 2201.5899344239438\n",
      "distance from center [0.15377913]\n",
      "left line curvature: 7041.395338446199\n",
      "right line curvature: 23755.782114564303\n",
      "distance from center [0.16844534]\n"
     ]
    },
    {
     "name": "stderr",
     "output_type": "stream",
     "text": [
      " 39%|███▉      | 490/1261 [01:07<01:45,  7.30it/s]"
     ]
    },
    {
     "name": "stdout",
     "output_type": "stream",
     "text": [
      "left line curvature: 10554.58349894672\n",
      "right line curvature: 7537.511571128022\n",
      "distance from center [0.16994568]\n",
      "left line curvature: 29365.801094908285\n",
      "right line curvature: 9315.741727161883\n",
      "distance from center [0.165969]\n"
     ]
    },
    {
     "name": "stderr",
     "output_type": "stream",
     "text": [
      " 39%|███▉      | 492/1261 [01:07<01:45,  7.30it/s]"
     ]
    },
    {
     "name": "stdout",
     "output_type": "stream",
     "text": [
      "left line curvature: 11229.62391875796\n",
      "right line curvature: 10065.055848870557\n",
      "distance from center [0.17167247]\n",
      "left line curvature: 34757.432382802384\n",
      "right line curvature: 12373.358292984394\n",
      "distance from center [0.17363822]\n"
     ]
    },
    {
     "name": "stderr",
     "output_type": "stream",
     "text": [
      " 39%|███▉      | 494/1261 [01:07<01:45,  7.30it/s]"
     ]
    },
    {
     "name": "stdout",
     "output_type": "stream",
     "text": [
      "left line curvature: 12088.545722166436\n",
      "right line curvature: 4654.2468582431975\n",
      "distance from center [0.17015136]\n",
      "left line curvature: 906977.6535163098\n",
      "right line curvature: 6725.6271451503935\n",
      "distance from center [0.17437411]\n"
     ]
    },
    {
     "name": "stderr",
     "output_type": "stream",
     "text": [
      " 39%|███▉      | 496/1261 [01:07<01:44,  7.30it/s]"
     ]
    },
    {
     "name": "stdout",
     "output_type": "stream",
     "text": [
      "left line curvature: 48447.17133371709\n",
      "right line curvature: 2838.824751570925\n",
      "distance from center [0.16497151]\n",
      "left line curvature: 223668.664538386\n",
      "right line curvature: 1704.3212348425807\n",
      "distance from center [0.1585752]\n"
     ]
    },
    {
     "name": "stderr",
     "output_type": "stream",
     "text": [
      " 39%|███▉      | 498/1261 [01:08<01:44,  7.30it/s]"
     ]
    },
    {
     "name": "stdout",
     "output_type": "stream",
     "text": [
      "left line curvature: 11448.675646828688\n",
      "right line curvature: 1616.6642643313335\n",
      "distance from center [0.15275152]\n",
      "left line curvature: 12465.414005743978\n",
      "right line curvature: 14842.684817745998\n",
      "distance from center [0.18092357]\n"
     ]
    },
    {
     "name": "stderr",
     "output_type": "stream",
     "text": [
      " 40%|███▉      | 500/1261 [01:08<01:44,  7.30it/s]"
     ]
    },
    {
     "name": "stdout",
     "output_type": "stream",
     "text": [
      "left line curvature: 11563.598783784553\n",
      "right line curvature: 9145.00501269002\n",
      "distance from center [0.17372049]\n",
      "left line curvature: 11956.523912932329\n",
      "right line curvature: 3307.281193049354\n",
      "distance from center [0.16644301]\n"
     ]
    },
    {
     "name": "stderr",
     "output_type": "stream",
     "text": [
      " 40%|███▉      | 502/1261 [01:08<01:43,  7.30it/s]"
     ]
    },
    {
     "name": "stdout",
     "output_type": "stream",
     "text": [
      "left line curvature: 7439.418448583008\n",
      "right line curvature: 5875.010869669937\n",
      "distance from center [0.17589415]\n",
      "left line curvature: 11717.273816822239\n",
      "right line curvature: 24660.871182092764\n",
      "distance from center [0.18874173]\n"
     ]
    },
    {
     "name": "stderr",
     "output_type": "stream",
     "text": [
      " 40%|███▉      | 504/1261 [01:09<01:43,  7.30it/s]"
     ]
    },
    {
     "name": "stdout",
     "output_type": "stream",
     "text": [
      "left line curvature: 32167.14398987432\n",
      "right line curvature: 2592.5895917648386\n",
      "distance from center [0.20546571]\n",
      "left line curvature: 11538.685717378821\n",
      "right line curvature: 3242.9057096421775\n",
      "distance from center [0.19917497]\n"
     ]
    },
    {
     "name": "stderr",
     "output_type": "stream",
     "text": [
      " 40%|████      | 506/1261 [01:09<01:43,  7.30it/s]"
     ]
    },
    {
     "name": "stdout",
     "output_type": "stream",
     "text": [
      "left line curvature: 13918.460949891785\n",
      "right line curvature: 4403.1037529000405\n",
      "distance from center [0.19806585]\n",
      "left line curvature: 42013.05693287381\n",
      "right line curvature: 7371.184120766831\n",
      "distance from center [0.19762092]\n"
     ]
    },
    {
     "name": "stderr",
     "output_type": "stream",
     "text": [
      " 40%|████      | 508/1261 [01:09<01:43,  7.30it/s]"
     ]
    },
    {
     "name": "stdout",
     "output_type": "stream",
     "text": [
      "left line curvature: 6344.293326875398\n",
      "right line curvature: 10590.64964125961\n",
      "distance from center [0.19340596]\n",
      "left line curvature: 20413.44388428864\n",
      "right line curvature: 5390.5784086632275\n",
      "distance from center [0.18318009]\n"
     ]
    },
    {
     "name": "stderr",
     "output_type": "stream",
     "text": [
      " 40%|████      | 510/1261 [01:09<01:42,  7.30it/s]"
     ]
    },
    {
     "name": "stdout",
     "output_type": "stream",
     "text": [
      "left line curvature: 33396.79577088895\n",
      "right line curvature: 1800.3546087169386\n",
      "distance from center [0.16109548]\n",
      "left line curvature: 13310.66264883683\n",
      "right line curvature: 783.4854699620137\n",
      "distance from center [0.13347431]\n"
     ]
    },
    {
     "name": "stderr",
     "output_type": "stream",
     "text": [
      " 41%|████      | 512/1261 [01:10<01:42,  7.30it/s]"
     ]
    },
    {
     "name": "stdout",
     "output_type": "stream",
     "text": [
      "left line curvature: 55019.63542776964\n",
      "right line curvature: 913.091403032195\n",
      "distance from center [0.1426566]\n",
      "left line curvature: 5424.934734435383\n",
      "right line curvature: 1487.2742766556642\n",
      "distance from center [0.16932778]\n"
     ]
    },
    {
     "name": "stderr",
     "output_type": "stream",
     "text": [
      " 41%|████      | 514/1261 [01:10<01:42,  7.30it/s]"
     ]
    },
    {
     "name": "stdout",
     "output_type": "stream",
     "text": [
      "left line curvature: 24252.961903022286\n",
      "right line curvature: 17962.887463283732\n",
      "distance from center [0.18497935]\n",
      "left line curvature: 12558.044389476256\n",
      "right line curvature: 8459.95893889856\n",
      "distance from center [0.18985091]\n"
     ]
    },
    {
     "name": "stderr",
     "output_type": "stream",
     "text": [
      " 41%|████      | 516/1261 [01:10<01:42,  7.29it/s]"
     ]
    },
    {
     "name": "stdout",
     "output_type": "stream",
     "text": [
      "left line curvature: 12234.761045408077\n",
      "right line curvature: 15111.453513657694\n",
      "distance from center [0.18768025]\n",
      "left line curvature: 10791.503448713158\n",
      "right line curvature: 5343.068526068874\n",
      "distance from center [0.18685612]\n"
     ]
    },
    {
     "name": "stderr",
     "output_type": "stream",
     "text": [
      " 41%|████      | 518/1261 [01:11<01:41,  7.29it/s]"
     ]
    },
    {
     "name": "stdout",
     "output_type": "stream",
     "text": [
      "left line curvature: 6484.51183185859\n",
      "right line curvature: 14444.94173213516\n",
      "distance from center [0.18792726]\n",
      "left line curvature: 5090.675408904021\n",
      "right line curvature: 1996.4248329714014\n",
      "distance from center [0.17581114]\n"
     ]
    },
    {
     "name": "stderr",
     "output_type": "stream",
     "text": [
      " 41%|████      | 520/1261 [01:11<01:41,  7.29it/s]"
     ]
    },
    {
     "name": "stdout",
     "output_type": "stream",
     "text": [
      "left line curvature: 6264.618901763771\n",
      "right line curvature: 2490.231913316767\n",
      "distance from center [0.17808113]\n",
      "left line curvature: 5742.013975998895\n",
      "right line curvature: 5600.820856389984\n",
      "distance from center [0.18587618]\n"
     ]
    },
    {
     "name": "stderr",
     "output_type": "stream",
     "text": [
      " 41%|████▏     | 522/1261 [01:11<01:41,  7.29it/s]"
     ]
    },
    {
     "name": "stdout",
     "output_type": "stream",
     "text": [
      "left line curvature: 126153.62331561919\n",
      "right line curvature: 2586.88638367088\n",
      "distance from center [0.17326464]\n",
      "left line curvature: 9515.296421829726\n",
      "right line curvature: 60576.40961479715\n",
      "distance from center [0.19250468]\n"
     ]
    },
    {
     "name": "stderr",
     "output_type": "stream",
     "text": [
      " 42%|████▏     | 524/1261 [01:11<01:41,  7.29it/s]"
     ]
    },
    {
     "name": "stdout",
     "output_type": "stream",
     "text": [
      "left line curvature: 6241.4224450388765\n",
      "right line curvature: 9085.70788140764\n",
      "distance from center [0.18602761]\n",
      "left line curvature: 23130.91025730294\n",
      "right line curvature: 950.1013078419115\n",
      "distance from center [0.15250242]\n"
     ]
    },
    {
     "name": "stderr",
     "output_type": "stream",
     "text": [
      " 42%|████▏     | 526/1261 [01:12<01:40,  7.29it/s]"
     ]
    },
    {
     "name": "stdout",
     "output_type": "stream",
     "text": [
      "left line curvature: 690.9656026109033\n",
      "right line curvature: 427.2726634698549\n",
      "distance from center [0.15491314]\n",
      "left line curvature: 800.5350445824738\n",
      "right line curvature: 279.19883171752565\n",
      "distance from center [0.12171047]\n"
     ]
    },
    {
     "name": "stderr",
     "output_type": "stream",
     "text": [
      " 42%|████▏     | 528/1261 [01:12<01:40,  7.29it/s]"
     ]
    },
    {
     "name": "stdout",
     "output_type": "stream",
     "text": [
      "left line curvature: 829.4616821732208\n",
      "right line curvature: 288.0520646689705\n",
      "distance from center [0.13792658]\n",
      "left line curvature: 817.2609461991015\n",
      "right line curvature: 262.854130238562\n",
      "distance from center [0.13593709]\n"
     ]
    },
    {
     "name": "stderr",
     "output_type": "stream",
     "text": [
      " 42%|████▏     | 530/1261 [01:12<01:40,  7.29it/s]"
     ]
    },
    {
     "name": "stdout",
     "output_type": "stream",
     "text": [
      "left line curvature: 498.6942753864144\n",
      "right line curvature: 438.803058223889\n",
      "distance from center [0.1977031]\n",
      "left line curvature: 397.4435387317273\n",
      "right line curvature: 3562.462305677087\n",
      "distance from center [0.24211945]\n"
     ]
    },
    {
     "name": "stderr",
     "output_type": "stream",
     "text": [
      " 42%|████▏     | 532/1261 [01:12<01:39,  7.29it/s]"
     ]
    },
    {
     "name": "stdout",
     "output_type": "stream",
     "text": [
      "left line curvature: 361.7963140957037\n",
      "right line curvature: 27133.11000410699\n",
      "distance from center [0.24481391]\n",
      "left line curvature: 343.41165935622996\n",
      "right line curvature: 8501.463232397442\n",
      "distance from center [0.2385075]\n"
     ]
    },
    {
     "name": "stderr",
     "output_type": "stream",
     "text": [
      " 42%|████▏     | 534/1261 [01:13<01:39,  7.29it/s]"
     ]
    },
    {
     "name": "stdout",
     "output_type": "stream",
     "text": [
      "left line curvature: 287.5036918744753\n",
      "right line curvature: 1035.2167237826707\n",
      "distance from center [0.30104114]\n",
      "left line curvature: 267.9122766590477\n",
      "right line curvature: 422.2763147665818\n",
      "distance from center [0.36473691]\n"
     ]
    },
    {
     "name": "stderr",
     "output_type": "stream",
     "text": [
      " 43%|████▎     | 536/1261 [01:13<01:39,  7.29it/s]"
     ]
    },
    {
     "name": "stdout",
     "output_type": "stream",
     "text": [
      "left line curvature: 270.18350968035105\n",
      "right line curvature: 278.5411685241566\n",
      "distance from center [0.40801962]\n",
      "left line curvature: 248.68227642493204\n",
      "right line curvature: 287.26432840475576\n",
      "distance from center [0.41222261]\n"
     ]
    },
    {
     "name": "stderr",
     "output_type": "stream",
     "text": [
      " 43%|████▎     | 538/1261 [01:13<01:39,  7.29it/s]"
     ]
    },
    {
     "name": "stdout",
     "output_type": "stream",
     "text": [
      "left line curvature: 233.47838816988997\n",
      "right line curvature: 416.4587007913358\n",
      "distance from center [0.34820767]\n",
      "left line curvature: 218.87204399882475\n",
      "right line curvature: 332.8332573219293\n",
      "distance from center [0.36262462]\n"
     ]
    },
    {
     "name": "stderr",
     "output_type": "stream",
     "text": [
      " 43%|████▎     | 540/1261 [01:14<01:38,  7.29it/s]"
     ]
    },
    {
     "name": "stdout",
     "output_type": "stream",
     "text": [
      "left line curvature: 248.83695271644294\n",
      "right line curvature: 418.50799299765384\n",
      "distance from center [0.31314261]\n",
      "left line curvature: 217.3149259762514\n",
      "right line curvature: 1200.5428683038429\n",
      "distance from center [0.26356286]\n"
     ]
    },
    {
     "name": "stderr",
     "output_type": "stream",
     "text": [
      " 43%|████▎     | 542/1261 [01:14<01:38,  7.30it/s]"
     ]
    },
    {
     "name": "stdout",
     "output_type": "stream",
     "text": [
      "left line curvature: 292.27682643976885\n",
      "right line curvature: 13681.168656534463\n",
      "distance from center [0.2366165]\n",
      "left line curvature: 397.3151219521704\n",
      "right line curvature: 5966.462546999832\n",
      "distance from center [0.22428549]\n"
     ]
    },
    {
     "name": "stderr",
     "output_type": "stream",
     "text": [
      " 43%|████▎     | 544/1261 [01:14<01:38,  7.30it/s]"
     ]
    },
    {
     "name": "stdout",
     "output_type": "stream",
     "text": [
      "left line curvature: 330.74439735225434\n",
      "right line curvature: 2009.4762152305373\n",
      "distance from center [0.24241125]\n",
      "left line curvature: 338.8886727487379\n",
      "right line curvature: 1279.5710143710548\n",
      "distance from center [0.24149517]\n"
     ]
    },
    {
     "name": "stderr",
     "output_type": "stream",
     "text": [
      " 43%|████▎     | 546/1261 [01:14<01:37,  7.30it/s]"
     ]
    },
    {
     "name": "stdout",
     "output_type": "stream",
     "text": [
      "left line curvature: 779.656550436269\n",
      "right line curvature: 855.1359838427405\n",
      "distance from center [0.24538728]\n",
      "left line curvature: 482.47835685901936\n",
      "right line curvature: 731.0533495418302\n",
      "distance from center [0.26452253]\n"
     ]
    },
    {
     "name": "stderr",
     "output_type": "stream",
     "text": [
      " 43%|████▎     | 548/1261 [01:15<01:37,  7.30it/s]"
     ]
    },
    {
     "name": "stdout",
     "output_type": "stream",
     "text": [
      "left line curvature: 578.0493014693529\n",
      "right line curvature: 753.6179739632156\n",
      "distance from center [0.22172947]\n",
      "left line curvature: 471.6487133575929\n",
      "right line curvature: 741.5353612325686\n",
      "distance from center [0.22023834]\n"
     ]
    },
    {
     "name": "stderr",
     "output_type": "stream",
     "text": [
      " 44%|████▎     | 550/1261 [01:15<01:37,  7.30it/s]"
     ]
    },
    {
     "name": "stdout",
     "output_type": "stream",
     "text": [
      "left line curvature: 345.30077942739746\n",
      "right line curvature: 701.4223704451904\n",
      "distance from center [0.21509777]\n",
      "left line curvature: 341.6158120439368\n",
      "right line curvature: 660.7100391331071\n",
      "distance from center [0.1958099]\n"
     ]
    },
    {
     "name": "stderr",
     "output_type": "stream",
     "text": [
      " 44%|████▍     | 552/1261 [01:15<01:37,  7.30it/s]"
     ]
    },
    {
     "name": "stdout",
     "output_type": "stream",
     "text": [
      "left line curvature: 311.42052901938115\n",
      "right line curvature: 624.4977277037016\n",
      "distance from center [0.18456515]\n",
      "left line curvature: 409.14569437053456\n",
      "right line curvature: 662.9570389328974\n",
      "distance from center [0.19653893]\n"
     ]
    },
    {
     "name": "stderr",
     "output_type": "stream",
     "text": [
      " 44%|████▍     | 554/1261 [01:15<01:36,  7.30it/s]"
     ]
    },
    {
     "name": "stdout",
     "output_type": "stream",
     "text": [
      "left line curvature: 473.8856322386682\n",
      "right line curvature: 867.6206896800322\n",
      "distance from center [0.18516633]\n",
      "left line curvature: 387.3167062972113\n",
      "right line curvature: 1329.4366718863332\n",
      "distance from center [0.15710341]\n"
     ]
    },
    {
     "name": "stderr",
     "output_type": "stream",
     "text": [
      " 44%|████▍     | 556/1261 [01:16<01:36,  7.30it/s]"
     ]
    },
    {
     "name": "stdout",
     "output_type": "stream",
     "text": [
      "left line curvature: 259.9299385207338\n",
      "right line curvature: 3933.400310820473\n",
      "distance from center [0.11103145]\n",
      "left line curvature: 226.58860966243265\n",
      "right line curvature: 507.89381433381516\n",
      "distance from center [0.06533681]\n"
     ]
    },
    {
     "name": "stderr",
     "output_type": "stream",
     "text": [
      " 44%|████▍     | 558/1261 [01:16<01:36,  7.30it/s]"
     ]
    },
    {
     "name": "stdout",
     "output_type": "stream",
     "text": [
      "left line curvature: 184.10389315890993\n",
      "right line curvature: 602.6853746125429\n",
      "distance from center [0.07725231]\n",
      "left line curvature: 151.37407701043017\n",
      "right line curvature: 643.501192820763\n",
      "distance from center [0.07638069]\n"
     ]
    },
    {
     "name": "stderr",
     "output_type": "stream",
     "text": [
      " 44%|████▍     | 560/1261 [01:16<01:36,  7.30it/s]"
     ]
    },
    {
     "name": "stdout",
     "output_type": "stream",
     "text": [
      "left line curvature: 362.7099499227966\n",
      "right line curvature: 752.102033926041\n",
      "distance from center [0.1389013]\n",
      "left line curvature: 582.0715924570469\n",
      "right line curvature: 1831.941529125501\n",
      "distance from center [0.19211539]\n"
     ]
    },
    {
     "name": "stderr",
     "output_type": "stream",
     "text": [
      " 45%|████▍     | 562/1261 [01:16<01:35,  7.30it/s]"
     ]
    },
    {
     "name": "stdout",
     "output_type": "stream",
     "text": [
      "left line curvature: 875.2144582641293\n",
      "right line curvature: 952.454833307144\n",
      "distance from center [0.20934969]\n",
      "left line curvature: 2049.144825394261\n",
      "right line curvature: 1232.7123869477405\n",
      "distance from center [0.20570244]\n"
     ]
    },
    {
     "name": "stderr",
     "output_type": "stream",
     "text": [
      " 45%|████▍     | 564/1261 [01:17<01:35,  7.30it/s]"
     ]
    },
    {
     "name": "stdout",
     "output_type": "stream",
     "text": [
      "left line curvature: 4416.232608334492\n",
      "right line curvature: 5652.9645454633355\n",
      "distance from center [0.19499713]\n",
      "left line curvature: 7259.253407459269\n",
      "right line curvature: 7167.51024286601\n",
      "distance from center [0.20852739]\n"
     ]
    },
    {
     "name": "stderr",
     "output_type": "stream",
     "text": [
      " 45%|████▍     | 566/1261 [01:17<01:35,  7.30it/s]"
     ]
    },
    {
     "name": "stdout",
     "output_type": "stream",
     "text": [
      "left line curvature: 1158.2831718910663\n",
      "right line curvature: 795.991644753787\n",
      "distance from center [0.17514964]\n",
      "left line curvature: 491.67732770366484\n",
      "right line curvature: 881.575251596554\n",
      "distance from center [0.16490006]\n"
     ]
    },
    {
     "name": "stderr",
     "output_type": "stream",
     "text": [
      " 45%|████▌     | 568/1261 [01:17<01:34,  7.30it/s]"
     ]
    },
    {
     "name": "stdout",
     "output_type": "stream",
     "text": [
      "left line curvature: 2460.597234448927\n",
      "right line curvature: 884.1251317949029\n",
      "distance from center [0.17598465]\n",
      "left line curvature: 704.4223542375039\n",
      "right line curvature: 1011.5603624392752\n",
      "distance from center [0.19348785]\n"
     ]
    },
    {
     "name": "stderr",
     "output_type": "stream",
     "text": [
      " 45%|████▌     | 570/1261 [01:18<01:34,  7.31it/s]"
     ]
    },
    {
     "name": "stdout",
     "output_type": "stream",
     "text": [
      "left line curvature: 3480.2525043084242\n",
      "right line curvature: 1021.0318152856318\n",
      "distance from center [0.20183367]\n",
      "left line curvature: 819.8866060341803\n",
      "right line curvature: 1006.151919271943\n",
      "distance from center [0.21622671]\n"
     ]
    },
    {
     "name": "stderr",
     "output_type": "stream",
     "text": [
      " 45%|████▌     | 572/1261 [01:18<01:34,  7.31it/s]"
     ]
    },
    {
     "name": "stdout",
     "output_type": "stream",
     "text": [
      "left line curvature: 1064.0502304560023\n",
      "right line curvature: 1415.8828455330467\n",
      "distance from center [0.2200041]\n",
      "left line curvature: 659.0761016647739\n",
      "right line curvature: 1192.442807199058\n",
      "distance from center [0.21924139]\n"
     ]
    },
    {
     "name": "stderr",
     "output_type": "stream",
     "text": [
      " 46%|████▌     | 574/1261 [01:18<01:33,  7.31it/s]"
     ]
    },
    {
     "name": "stdout",
     "output_type": "stream",
     "text": [
      "left line curvature: 1385.2001975808519\n",
      "right line curvature: 1372.6911728809825\n",
      "distance from center [0.21568301]\n",
      "left line curvature: 3611.446691465762\n",
      "right line curvature: 1303.2920913345242\n",
      "distance from center [0.23267305]\n"
     ]
    },
    {
     "name": "stderr",
     "output_type": "stream",
     "text": [
      " 46%|████▌     | 576/1261 [01:18<01:33,  7.31it/s]"
     ]
    },
    {
     "name": "stdout",
     "output_type": "stream",
     "text": [
      "left line curvature: 625.1046761915637\n",
      "right line curvature: 948.1599140707044\n",
      "distance from center [0.23193712]\n",
      "left line curvature: 1164.0867530416556\n",
      "right line curvature: 1783.6410326003927\n",
      "distance from center [0.25536538]\n"
     ]
    },
    {
     "name": "stderr",
     "output_type": "stream",
     "text": [
      " 46%|████▌     | 578/1261 [01:19<01:33,  7.31it/s]"
     ]
    },
    {
     "name": "stdout",
     "output_type": "stream",
     "text": [
      "left line curvature: 1211.4831263453534\n",
      "right line curvature: 4187.213077911925\n",
      "distance from center [0.28697264]\n",
      "left line curvature: 367.16927212635073\n",
      "right line curvature: 1172.1811769875876\n",
      "distance from center [0.30482565]\n"
     ]
    },
    {
     "name": "stderr",
     "output_type": "stream",
     "text": [
      " 46%|████▌     | 580/1261 [01:19<01:33,  7.31it/s]"
     ]
    },
    {
     "name": "stdout",
     "output_type": "stream",
     "text": [
      "left line curvature: 474.6370347769583\n",
      "right line curvature: 956.9359451319151\n",
      "distance from center [0.29327353]\n",
      "left line curvature: 395.7367269086651\n",
      "right line curvature: 815.9796367079264\n",
      "distance from center [0.29775087]\n"
     ]
    },
    {
     "name": "stderr",
     "output_type": "stream",
     "text": [
      " 46%|████▌     | 582/1261 [01:19<01:32,  7.31it/s]"
     ]
    },
    {
     "name": "stdout",
     "output_type": "stream",
     "text": [
      "left line curvature: 591.768229442754\n",
      "right line curvature: 809.7074018166293\n",
      "distance from center [0.30539828]\n",
      "left line curvature: 14510.3846469888\n",
      "right line curvature: 747.8596724088469\n",
      "distance from center [0.29217113]\n"
     ]
    },
    {
     "name": "stderr",
     "output_type": "stream",
     "text": [
      " 46%|████▋     | 584/1261 [01:19<01:32,  7.31it/s]"
     ]
    },
    {
     "name": "stdout",
     "output_type": "stream",
     "text": [
      "left line curvature: 915.2158001190402\n",
      "right line curvature: 991.9453299569136\n",
      "distance from center [0.26231337]\n",
      "left line curvature: 661.738961111757\n",
      "right line curvature: 647.6118050221191\n",
      "distance from center [0.27021873]\n"
     ]
    },
    {
     "name": "stderr",
     "output_type": "stream",
     "text": [
      " 46%|████▋     | 586/1261 [01:20<01:32,  7.31it/s]"
     ]
    },
    {
     "name": "stdout",
     "output_type": "stream",
     "text": [
      "left line curvature: 752.7758269785727\n",
      "right line curvature: 656.6997815815954\n",
      "distance from center [0.2557017]\n",
      "left line curvature: 833.0655823325727\n",
      "right line curvature: 780.1257636122281\n",
      "distance from center [0.26788168]\n"
     ]
    },
    {
     "name": "stderr",
     "output_type": "stream",
     "text": [
      " 47%|████▋     | 588/1261 [01:20<01:32,  7.31it/s]"
     ]
    },
    {
     "name": "stdout",
     "output_type": "stream",
     "text": [
      "left line curvature: 1366.8447214438988\n",
      "right line curvature: 842.4439242672237\n",
      "distance from center [0.26493101]\n",
      "left line curvature: 399.3793111940964\n",
      "right line curvature: 770.2055257816329\n",
      "distance from center [0.33461909]\n"
     ]
    },
    {
     "name": "stderr",
     "output_type": "stream",
     "text": [
      " 47%|████▋     | 590/1261 [01:20<01:31,  7.31it/s]"
     ]
    },
    {
     "name": "stdout",
     "output_type": "stream",
     "text": [
      "left line curvature: 257.95101643628743\n",
      "right line curvature: 766.4867812541727\n",
      "distance from center [0.34866863]\n",
      "left line curvature: 1742.198323674947\n",
      "right line curvature: 1255.2571050859212\n",
      "distance from center [0.22374394]\n"
     ]
    },
    {
     "name": "stderr",
     "output_type": "stream",
     "text": [
      " 47%|████▋     | 592/1261 [01:20<01:31,  7.31it/s]"
     ]
    },
    {
     "name": "stdout",
     "output_type": "stream",
     "text": [
      "left line curvature: 4748.794214549638\n",
      "right line curvature: 1264.5692716952901\n",
      "distance from center [0.20182917]\n",
      "left line curvature: 580.1238694985641\n",
      "right line curvature: 2092.3876679284363\n",
      "distance from center [0.14139693]\n"
     ]
    },
    {
     "name": "stderr",
     "output_type": "stream",
     "text": [
      " 47%|████▋     | 594/1261 [01:21<01:31,  7.32it/s]"
     ]
    },
    {
     "name": "stdout",
     "output_type": "stream",
     "text": [
      "left line curvature: 182.7401378787464\n",
      "right line curvature: 2669.3522367181763\n",
      "distance from center [0.04322068]\n",
      "left line curvature: 194.89586606570342\n",
      "right line curvature: 5172.483205423113\n",
      "distance from center [0.03769058]\n"
     ]
    },
    {
     "name": "stderr",
     "output_type": "stream",
     "text": [
      " 47%|████▋     | 596/1261 [01:21<01:30,  7.32it/s]"
     ]
    },
    {
     "name": "stdout",
     "output_type": "stream",
     "text": [
      "left line curvature: 322.3947065989487\n",
      "right line curvature: 3173.0514260193686\n",
      "distance from center [0.08954393]\n",
      "left line curvature: 319.21517485164355\n",
      "right line curvature: 2091.4319231040645\n",
      "distance from center [0.10992573]\n"
     ]
    },
    {
     "name": "stderr",
     "output_type": "stream",
     "text": [
      " 47%|████▋     | 598/1261 [01:21<01:30,  7.32it/s]"
     ]
    },
    {
     "name": "stdout",
     "output_type": "stream",
     "text": [
      "left line curvature: 878.0969699452975\n",
      "right line curvature: 1607.4079879758385\n",
      "distance from center [0.158212]\n",
      "left line curvature: 2465.023460189436\n",
      "right line curvature: 999.4372203641559\n",
      "distance from center [0.1723222]\n"
     ]
    },
    {
     "name": "stderr",
     "output_type": "stream",
     "text": [
      " 48%|████▊     | 600/1261 [01:22<01:30,  7.32it/s]"
     ]
    },
    {
     "name": "stdout",
     "output_type": "stream",
     "text": [
      "left line curvature: 3813.45570623997\n",
      "right line curvature: 986.3366125092788\n",
      "distance from center [0.17715447]\n",
      "left line curvature: 559.4991488107703\n",
      "right line curvature: 639.065293667228\n",
      "distance from center [0.2327311]\n"
     ]
    },
    {
     "name": "stderr",
     "output_type": "stream",
     "text": [
      " 48%|████▊     | 602/1261 [01:22<01:30,  7.32it/s]"
     ]
    },
    {
     "name": "stdout",
     "output_type": "stream",
     "text": [
      "left line curvature: 668.4342569991361\n",
      "right line curvature: 679.3309335614367\n",
      "distance from center [0.229049]\n",
      "left line curvature: 473.14396855093713\n",
      "right line curvature: 580.25769934512\n",
      "distance from center [0.25672747]\n"
     ]
    },
    {
     "name": "stderr",
     "output_type": "stream",
     "text": [
      " 48%|████▊     | 604/1261 [01:22<01:29,  7.32it/s]"
     ]
    },
    {
     "name": "stdout",
     "output_type": "stream",
     "text": [
      "left line curvature: 397.2349488372936\n",
      "right line curvature: 431.7351909565393\n",
      "distance from center [0.26169337]\n",
      "left line curvature: 423.6540254255291\n",
      "right line curvature: 428.5122852853524\n",
      "distance from center [0.24377707]\n"
     ]
    },
    {
     "name": "stderr",
     "output_type": "stream",
     "text": [
      " 48%|████▊     | 606/1261 [01:22<01:29,  7.32it/s]"
     ]
    },
    {
     "name": "stdout",
     "output_type": "stream",
     "text": [
      "left line curvature: 443.6874692270387\n",
      "right line curvature: 410.0842672773725\n",
      "distance from center [0.2122277]\n",
      "left line curvature: 361.78151106927226\n",
      "right line curvature: 368.095687213863\n",
      "distance from center [0.18671572]\n"
     ]
    },
    {
     "name": "stderr",
     "output_type": "stream",
     "text": [
      " 48%|████▊     | 608/1261 [01:23<01:29,  7.32it/s]"
     ]
    },
    {
     "name": "stdout",
     "output_type": "stream",
     "text": [
      "left line curvature: 314.15844932383106\n",
      "right line curvature: 337.0617832792522\n",
      "distance from center [0.180237]\n",
      "left line curvature: 353.6997737176651\n",
      "right line curvature: 362.15573878154464\n",
      "distance from center [0.14895669]\n"
     ]
    },
    {
     "name": "stderr",
     "output_type": "stream",
     "text": [
      " 48%|████▊     | 610/1261 [01:23<01:28,  7.32it/s]"
     ]
    },
    {
     "name": "stdout",
     "output_type": "stream",
     "text": [
      "left line curvature: 332.168044510083\n",
      "right line curvature: 346.11835414339856\n",
      "distance from center [0.14838107]\n",
      "left line curvature: 340.8039140871274\n",
      "right line curvature: 400.6096841684105\n",
      "distance from center [0.12382578]\n"
     ]
    },
    {
     "name": "stderr",
     "output_type": "stream",
     "text": [
      " 49%|████▊     | 612/1261 [01:23<01:28,  7.32it/s]"
     ]
    },
    {
     "name": "stdout",
     "output_type": "stream",
     "text": [
      "left line curvature: 348.5952794514517\n",
      "right line curvature: 407.99597290414073\n",
      "distance from center [0.10745095]\n",
      "left line curvature: 333.1154023748161\n",
      "right line curvature: 388.9978657792431\n",
      "distance from center [0.10648501]\n"
     ]
    },
    {
     "name": "stderr",
     "output_type": "stream",
     "text": [
      " 49%|████▊     | 614/1261 [01:23<01:28,  7.31it/s]"
     ]
    },
    {
     "name": "stdout",
     "output_type": "stream",
     "text": [
      "left line curvature: 309.70667154876367\n",
      "right line curvature: 490.2541982330298\n",
      "distance from center [0.05743877]\n",
      "left line curvature: 320.8048341219498\n",
      "right line curvature: 446.4788521896888\n",
      "distance from center [0.05483377]\n"
     ]
    },
    {
     "name": "stderr",
     "output_type": "stream",
     "text": [
      "\r",
      " 49%|████▉     | 615/1261 [01:24<01:28,  7.31it/s]"
     ]
    },
    {
     "name": "stdout",
     "output_type": "stream",
     "text": [
      "left line curvature: 335.19341824192935\n",
      "right line curvature: 431.69889270311756\n",
      "distance from center [0.05593841]\n"
     ]
    },
    {
     "name": "stderr",
     "output_type": "stream",
     "text": [
      "\r",
      " 49%|████▉     | 616/1261 [01:24<01:28,  7.30it/s]"
     ]
    },
    {
     "name": "stdout",
     "output_type": "stream",
     "text": [
      "left line curvature: 337.81951824332486\n",
      "right line curvature: 443.49063602296263\n",
      "distance from center [0.01000055]\n"
     ]
    },
    {
     "name": "stderr",
     "output_type": "stream",
     "text": [
      "\r",
      " 49%|████▉     | 617/1261 [01:24<01:28,  7.30it/s]"
     ]
    },
    {
     "name": "stdout",
     "output_type": "stream",
     "text": [
      "left line curvature: 290.22774417809137\n",
      "right line curvature: 554.3497200771814\n",
      "distance from center [0.03525359]\n"
     ]
    },
    {
     "name": "stderr",
     "output_type": "stream",
     "text": [
      "\r",
      " 49%|████▉     | 618/1261 [01:24<01:28,  7.29it/s]"
     ]
    },
    {
     "name": "stdout",
     "output_type": "stream",
     "text": [
      "left line curvature: 274.2141077516262\n",
      "right line curvature: 512.1916846841109\n",
      "distance from center [0.00612119]\n"
     ]
    },
    {
     "name": "stderr",
     "output_type": "stream",
     "text": [
      "\r",
      " 49%|████▉     | 619/1261 [01:24<01:28,  7.28it/s]"
     ]
    },
    {
     "name": "stdout",
     "output_type": "stream",
     "text": [
      "left line curvature: 290.3527574891884\n",
      "right line curvature: 449.62188591008845\n",
      "distance from center [0.01258585]\n"
     ]
    },
    {
     "name": "stderr",
     "output_type": "stream",
     "text": [
      "\r",
      " 49%|████▉     | 620/1261 [01:25<01:28,  7.27it/s]"
     ]
    },
    {
     "name": "stdout",
     "output_type": "stream",
     "text": [
      "left line curvature: 306.09381155013114\n",
      "right line curvature: 485.8912561310961\n",
      "distance from center [0.01462517]\n"
     ]
    },
    {
     "name": "stderr",
     "output_type": "stream",
     "text": [
      "\r",
      " 49%|████▉     | 621/1261 [01:25<01:28,  7.27it/s]"
     ]
    },
    {
     "name": "stdout",
     "output_type": "stream",
     "text": [
      "left line curvature: 311.41651043466874\n",
      "right line curvature: 436.69477588612745\n",
      "distance from center [0.00275456]\n"
     ]
    },
    {
     "name": "stderr",
     "output_type": "stream",
     "text": [
      "\r",
      " 49%|████▉     | 622/1261 [01:25<01:28,  7.26it/s]"
     ]
    },
    {
     "name": "stdout",
     "output_type": "stream",
     "text": [
      "left line curvature: 319.1963846064693\n",
      "right line curvature: 503.24919968787225\n",
      "distance from center [0.00889126]\n"
     ]
    },
    {
     "name": "stderr",
     "output_type": "stream",
     "text": [
      "\r",
      " 49%|████▉     | 623/1261 [01:25<01:27,  7.25it/s]"
     ]
    },
    {
     "name": "stdout",
     "output_type": "stream",
     "text": [
      "left line curvature: 323.26202009878375\n",
      "right line curvature: 524.2535729298793\n",
      "distance from center [0.0286262]\n",
      "left line curvature: 337.3337759414175\n",
      "right line curvature: 502.8300359636687\n",
      "distance from center [0.03325913]\n"
     ]
    },
    {
     "name": "stderr",
     "output_type": "stream",
     "text": [
      " 50%|████▉     | 625/1261 [01:26<01:27,  7.24it/s]"
     ]
    },
    {
     "name": "stdout",
     "output_type": "stream",
     "text": [
      "left line curvature: 317.65375036501104\n",
      "right line curvature: 363.16777831507346\n",
      "distance from center [0.05521329]\n",
      "left line curvature: 313.00933903791616\n",
      "right line curvature: 334.62290696093197\n",
      "distance from center [0.07833618]\n"
     ]
    },
    {
     "name": "stderr",
     "output_type": "stream",
     "text": [
      " 50%|████▉     | 627/1261 [01:26<01:27,  7.22it/s]"
     ]
    },
    {
     "name": "stdout",
     "output_type": "stream",
     "text": [
      "left line curvature: 320.19565445411826\n",
      "right line curvature: 334.75932934163046\n",
      "distance from center [0.08771439]\n",
      "left line curvature: 364.07173718991663\n",
      "right line curvature: 287.0827903313377\n",
      "distance from center [0.10845147]\n"
     ]
    },
    {
     "name": "stderr",
     "output_type": "stream",
     "text": [
      " 50%|████▉     | 630/1261 [01:27<01:27,  7.21it/s]"
     ]
    },
    {
     "name": "stdout",
     "output_type": "stream",
     "text": [
      "left line curvature: 353.7899315500302\n",
      "right line curvature: 301.12257988032763\n",
      "distance from center [0.14034916]\n",
      "left line curvature: 418.2769813514002\n",
      "right line curvature: 405.79621160554916\n",
      "distance from center [0.12519899]\n"
     ]
    },
    {
     "name": "stderr",
     "output_type": "stream",
     "text": [
      " 50%|█████     | 632/1261 [01:27<01:27,  7.21it/s]"
     ]
    },
    {
     "name": "stdout",
     "output_type": "stream",
     "text": [
      "left line curvature: 523.6167689159232\n",
      "right line curvature: 583.1735473109537\n",
      "distance from center [0.09157783]\n",
      "left line curvature: 560.4522946024522\n",
      "right line curvature: 685.0325812706781\n",
      "distance from center [0.08440031]\n"
     ]
    },
    {
     "name": "stderr",
     "output_type": "stream",
     "text": [
      " 50%|█████     | 634/1261 [01:27<01:27,  7.21it/s]"
     ]
    },
    {
     "name": "stdout",
     "output_type": "stream",
     "text": [
      "left line curvature: 626.6247973318995\n",
      "right line curvature: 732.6587077117749\n",
      "distance from center [0.07790335]\n",
      "left line curvature: 587.5319777837151\n",
      "right line curvature: 440.30851807375\n",
      "distance from center [0.10730253]\n"
     ]
    },
    {
     "name": "stderr",
     "output_type": "stream",
     "text": [
      " 50%|█████     | 636/1261 [01:28<01:26,  7.20it/s]"
     ]
    },
    {
     "name": "stdout",
     "output_type": "stream",
     "text": [
      "left line curvature: 610.3829723688962\n",
      "right line curvature: 395.48680255216414\n",
      "distance from center [0.09464424]\n",
      "left line curvature: 555.7738234578212\n",
      "right line curvature: 338.9352399596616\n",
      "distance from center [0.10436355]\n"
     ]
    },
    {
     "name": "stderr",
     "output_type": "stream",
     "text": [
      " 51%|█████     | 638/1261 [01:28<01:26,  7.20it/s]"
     ]
    },
    {
     "name": "stdout",
     "output_type": "stream",
     "text": [
      "left line curvature: 429.3073048590369\n",
      "right line curvature: 256.05149135610253\n",
      "distance from center [0.14264849]\n",
      "left line curvature: 410.96697341876603\n",
      "right line curvature: 276.7214170214339\n",
      "distance from center [0.14918598]\n"
     ]
    },
    {
     "name": "stderr",
     "output_type": "stream",
     "text": [
      " 51%|█████     | 640/1261 [01:28<01:26,  7.19it/s]"
     ]
    },
    {
     "name": "stdout",
     "output_type": "stream",
     "text": [
      "left line curvature: 436.007848186943\n",
      "right line curvature: 307.75127143857975\n",
      "distance from center [0.15963782]\n",
      "left line curvature: 546.8283793614319\n",
      "right line curvature: 379.6837500375337\n",
      "distance from center [0.15705599]\n"
     ]
    },
    {
     "name": "stderr",
     "output_type": "stream",
     "text": [
      " 51%|█████     | 642/1261 [01:29<01:26,  7.19it/s]"
     ]
    },
    {
     "name": "stdout",
     "output_type": "stream",
     "text": [
      "left line curvature: 635.3308676645798\n",
      "right line curvature: 509.12856187964337\n",
      "distance from center [0.15613424]\n",
      "left line curvature: 693.5534212274566\n",
      "right line curvature: 660.1263844843346\n",
      "distance from center [0.14269539]\n"
     ]
    },
    {
     "name": "stderr",
     "output_type": "stream",
     "text": [
      " 51%|█████     | 644/1261 [01:29<01:25,  7.19it/s]"
     ]
    },
    {
     "name": "stdout",
     "output_type": "stream",
     "text": [
      "left line curvature: 660.2726738254783\n",
      "right line curvature: 553.9765696454892\n",
      "distance from center [0.16717848]\n",
      "left line curvature: 561.9889158158189\n",
      "right line curvature: 419.10371684357557\n",
      "distance from center [0.20520322]\n"
     ]
    },
    {
     "name": "stderr",
     "output_type": "stream",
     "text": [
      " 51%|█████     | 646/1261 [01:29<01:25,  7.19it/s]"
     ]
    },
    {
     "name": "stdout",
     "output_type": "stream",
     "text": [
      "left line curvature: 501.9994088846384\n",
      "right line curvature: 425.7830468798601\n",
      "distance from center [0.20895825]\n",
      "left line curvature: 445.49397370422315\n",
      "right line curvature: 396.25352941650954\n",
      "distance from center [0.22268341]\n"
     ]
    },
    {
     "name": "stderr",
     "output_type": "stream",
     "text": [
      "\r",
      " 51%|█████▏    | 647/1261 [01:29<01:25,  7.19it/s]"
     ]
    },
    {
     "name": "stdout",
     "output_type": "stream",
     "text": [
      "left line curvature: 429.0623527263272\n",
      "right line curvature: 415.75906285172493\n",
      "distance from center [0.22871713]\n",
      "left line curvature: 423.7540350044537\n",
      "right line curvature: 443.2846920820247\n",
      "distance from center [0.23114357]\n"
     ]
    },
    {
     "name": "stderr",
     "output_type": "stream",
     "text": [
      " 51%|█████▏    | 649/1261 [01:30<01:25,  7.18it/s]"
     ]
    },
    {
     "name": "stdout",
     "output_type": "stream",
     "text": [
      "left line curvature: 403.7439690535098\n",
      "right line curvature: 507.30139895395473\n",
      "distance from center [0.23059707]\n",
      "left line curvature: 436.53654743701907\n",
      "right line curvature: 547.1611217247671\n",
      "distance from center [0.22727003]\n"
     ]
    },
    {
     "name": "stderr",
     "output_type": "stream",
     "text": [
      " 52%|█████▏    | 652/1261 [01:30<01:24,  7.18it/s]"
     ]
    },
    {
     "name": "stdout",
     "output_type": "stream",
     "text": [
      "left line curvature: 407.4285764797001\n",
      "right line curvature: 501.64949417258435\n",
      "distance from center [0.23943625]\n",
      "left line curvature: 406.44863864581737\n",
      "right line curvature: 527.4089855282343\n",
      "distance from center [0.23975994]\n"
     ]
    },
    {
     "name": "stderr",
     "output_type": "stream",
     "text": [
      "\r",
      " 52%|█████▏    | 653/1261 [01:30<01:24,  7.18it/s]"
     ]
    },
    {
     "name": "stdout",
     "output_type": "stream",
     "text": [
      "left line curvature: 371.831552553172\n",
      "right line curvature: 488.6050987276543\n",
      "distance from center [0.24816651]\n",
      "left line curvature: 346.20447040850144\n",
      "right line curvature: 420.2723503923615\n",
      "distance from center [0.27952467]\n"
     ]
    },
    {
     "name": "stderr",
     "output_type": "stream",
     "text": [
      " 52%|█████▏    | 656/1261 [01:31<01:24,  7.17it/s]"
     ]
    },
    {
     "name": "stdout",
     "output_type": "stream",
     "text": [
      "left line curvature: 338.8589052947631\n",
      "right line curvature: 442.4279237727613\n",
      "distance from center [0.27601934]\n",
      "left line curvature: 345.89796630270354\n",
      "right line curvature: 481.7929015566971\n",
      "distance from center [0.27225456]\n"
     ]
    },
    {
     "name": "stderr",
     "output_type": "stream",
     "text": [
      "\r",
      " 52%|█████▏    | 657/1261 [01:31<01:24,  7.17it/s]"
     ]
    },
    {
     "name": "stdout",
     "output_type": "stream",
     "text": [
      "left line curvature: 343.11351655900427\n",
      "right line curvature: 542.5294667413228\n",
      "distance from center [0.27130045]\n",
      "left line curvature: 344.97889418874735\n",
      "right line curvature: 500.89966318890083\n",
      "distance from center [0.27666386]\n"
     ]
    },
    {
     "name": "stderr",
     "output_type": "stream",
     "text": [
      " 52%|█████▏    | 660/1261 [01:32<01:23,  7.16it/s]"
     ]
    },
    {
     "name": "stdout",
     "output_type": "stream",
     "text": [
      "left line curvature: 371.67036745089655\n",
      "right line curvature: 514.1513268925297\n",
      "distance from center [0.27026126]\n",
      "left line curvature: 381.57590798162914\n",
      "right line curvature: 550.6345610229769\n",
      "distance from center [0.25925428]\n"
     ]
    },
    {
     "name": "stderr",
     "output_type": "stream",
     "text": [
      " 52%|█████▏    | 662/1261 [01:32<01:23,  7.16it/s]"
     ]
    },
    {
     "name": "stdout",
     "output_type": "stream",
     "text": [
      "left line curvature: 395.46910184934313\n",
      "right line curvature: 517.2631355141511\n",
      "distance from center [0.26283434]\n",
      "left line curvature: 417.0213243144888\n",
      "right line curvature: 625.2362411455\n",
      "distance from center [0.25419835]\n"
     ]
    },
    {
     "name": "stderr",
     "output_type": "stream",
     "text": [
      " 53%|█████▎    | 664/1261 [01:32<01:23,  7.16it/s]"
     ]
    },
    {
     "name": "stdout",
     "output_type": "stream",
     "text": [
      "left line curvature: 437.4707795975866\n",
      "right line curvature: 655.1662593544208\n",
      "distance from center [0.24957413]\n",
      "left line curvature: 451.96546873300787\n",
      "right line curvature: 613.7829889743307\n",
      "distance from center [0.25373889]\n"
     ]
    },
    {
     "name": "stderr",
     "output_type": "stream",
     "text": [
      "\r",
      " 53%|█████▎    | 665/1261 [01:32<01:23,  7.15it/s]"
     ]
    },
    {
     "name": "stdout",
     "output_type": "stream",
     "text": [
      "left line curvature: 439.40554780011246\n",
      "right line curvature: 527.3469509684013\n",
      "distance from center [0.2647638]\n",
      "left line curvature: 462.28044808392775\n",
      "right line curvature: 503.01545994508405\n",
      "distance from center [0.26533766]\n"
     ]
    },
    {
     "name": "stderr",
     "output_type": "stream",
     "text": [
      " 53%|█████▎    | 668/1261 [01:33<01:22,  7.15it/s]"
     ]
    },
    {
     "name": "stdout",
     "output_type": "stream",
     "text": [
      "left line curvature: 457.93690288968764\n",
      "right line curvature: 454.5419604996519\n",
      "distance from center [0.28120024]\n",
      "left line curvature: 489.7669556150028\n",
      "right line curvature: 454.0484492524229\n",
      "distance from center [0.2855769]\n"
     ]
    },
    {
     "name": "stderr",
     "output_type": "stream",
     "text": [
      " 53%|█████▎    | 670/1261 [01:33<01:22,  7.15it/s]"
     ]
    },
    {
     "name": "stdout",
     "output_type": "stream",
     "text": [
      "left line curvature: 530.3465454737906\n",
      "right line curvature: 484.7508255953462\n",
      "distance from center [0.2863599]\n",
      "left line curvature: 534.3915162125614\n",
      "right line curvature: 468.9856007657663\n",
      "distance from center [0.28861698]\n"
     ]
    },
    {
     "name": "stderr",
     "output_type": "stream",
     "text": [
      "\r",
      " 53%|█████▎    | 671/1261 [01:33<01:22,  7.15it/s]"
     ]
    },
    {
     "name": "stdout",
     "output_type": "stream",
     "text": [
      "left line curvature: 605.4717868702246\n",
      "right line curvature: 532.4670201957686\n",
      "distance from center [0.27479055]\n"
     ]
    },
    {
     "name": "stderr",
     "output_type": "stream",
     "text": [
      " 53%|█████▎    | 673/1261 [01:34<01:22,  7.13it/s]"
     ]
    },
    {
     "name": "stdout",
     "output_type": "stream",
     "text": [
      "left line curvature: 579.1588005410127\n",
      "right line curvature: 471.9339841862195\n",
      "distance from center [0.28021428]\n",
      "left line curvature: 597.9707398281982\n",
      "right line curvature: 546.4583429933559\n",
      "distance from center [0.27063533]\n"
     ]
    },
    {
     "name": "stderr",
     "output_type": "stream",
     "text": [
      " 54%|█████▎    | 675/1261 [01:34<01:22,  7.13it/s]"
     ]
    },
    {
     "name": "stdout",
     "output_type": "stream",
     "text": [
      "left line curvature: 584.452742754311\n",
      "right line curvature: 519.742189521582\n",
      "distance from center [0.27748456]\n",
      "left line curvature: 612.2076016976172\n",
      "right line curvature: 498.67475723068844\n",
      "distance from center [0.27887906]\n"
     ]
    },
    {
     "name": "stderr",
     "output_type": "stream",
     "text": [
      "\r",
      " 54%|█████▎    | 676/1261 [01:34<01:22,  7.13it/s]"
     ]
    },
    {
     "name": "stdout",
     "output_type": "stream",
     "text": [
      "left line curvature: 597.1023414019821\n",
      "right line curvature: 471.0539422745858\n",
      "distance from center [0.28656043]\n",
      "left line curvature: 523.398101034164\n",
      "right line curvature: 467.9451260544073\n",
      "distance from center [0.29851722]\n"
     ]
    },
    {
     "name": "stderr",
     "output_type": "stream",
     "text": [
      " 54%|█████▍    | 679/1261 [01:35<01:21,  7.13it/s]"
     ]
    },
    {
     "name": "stdout",
     "output_type": "stream",
     "text": [
      "left line curvature: 621.6283170735246\n",
      "right line curvature: 483.3949471257693\n",
      "distance from center [0.29352015]\n",
      "left line curvature: 545.9524020423434\n",
      "right line curvature: 468.53568933378585\n",
      "distance from center [0.30402191]\n"
     ]
    },
    {
     "name": "stderr",
     "output_type": "stream",
     "text": [
      "\r",
      " 54%|█████▍    | 680/1261 [01:35<01:21,  7.13it/s]"
     ]
    },
    {
     "name": "stdout",
     "output_type": "stream",
     "text": [
      "left line curvature: 486.71189345980054\n",
      "right line curvature: 447.4107083159828\n",
      "distance from center [0.31725328]\n",
      "left line curvature: 441.8533451662253\n",
      "right line curvature: 442.8993775119609\n",
      "distance from center [0.32553576]\n"
     ]
    },
    {
     "name": "stderr",
     "output_type": "stream",
     "text": [
      " 54%|█████▍    | 683/1261 [01:35<01:21,  7.12it/s]"
     ]
    },
    {
     "name": "stdout",
     "output_type": "stream",
     "text": [
      "left line curvature: 435.6858142909412\n",
      "right line curvature: 436.1473815145146\n",
      "distance from center [0.32895988]\n",
      "left line curvature: 457.5672879082833\n",
      "right line curvature: 445.5137530886827\n",
      "distance from center [0.32387818]\n"
     ]
    },
    {
     "name": "stderr",
     "output_type": "stream",
     "text": [
      " 54%|█████▍    | 685/1261 [01:36<01:20,  7.12it/s]"
     ]
    },
    {
     "name": "stdout",
     "output_type": "stream",
     "text": [
      "left line curvature: 435.15864003426236\n",
      "right line curvature: 501.3237392021802\n",
      "distance from center [0.32001512]\n",
      "left line curvature: 428.9888824083967\n",
      "right line curvature: 466.17698606121974\n",
      "distance from center [0.32767953]\n"
     ]
    },
    {
     "name": "stderr",
     "output_type": "stream",
     "text": [
      "\r",
      " 54%|█████▍    | 686/1261 [01:36<01:20,  7.11it/s]"
     ]
    },
    {
     "name": "stdout",
     "output_type": "stream",
     "text": [
      "left line curvature: 394.12737883039796\n",
      "right line curvature: 468.84627173856154\n",
      "distance from center [0.32858322]\n",
      "left line curvature: 411.8540664259514\n",
      "right line curvature: 452.21988086326246\n",
      "distance from center [0.32529402]\n"
     ]
    },
    {
     "name": "stderr",
     "output_type": "stream",
     "text": [
      " 55%|█████▍    | 688/1261 [01:36<01:20,  7.10it/s]"
     ]
    },
    {
     "name": "stdout",
     "output_type": "stream",
     "text": [
      "left line curvature: 393.3841779362822\n",
      "right line curvature: 487.29025330439663\n",
      "distance from center [0.32866858]\n",
      "left line curvature: 419.35449511775977\n",
      "right line curvature: 520.273334971071\n",
      "distance from center [0.3236328]\n"
     ]
    },
    {
     "name": "stderr",
     "output_type": "stream",
     "text": [
      " 55%|█████▍    | 690/1261 [01:37<01:20,  7.10it/s]"
     ]
    },
    {
     "name": "stdout",
     "output_type": "stream",
     "text": [
      "left line curvature: 403.02331171161427\n",
      "right line curvature: 452.71239342089285\n",
      "distance from center [0.33224937]\n"
     ]
    },
    {
     "name": "stderr",
     "output_type": "stream",
     "text": [
      "\r",
      " 55%|█████▍    | 691/1261 [01:37<01:20,  7.08it/s]"
     ]
    },
    {
     "name": "stdout",
     "output_type": "stream",
     "text": [
      "left line curvature: 361.3841320278055\n",
      "right line curvature: 426.63675393768233\n",
      "distance from center [0.34209062]\n"
     ]
    },
    {
     "name": "stderr",
     "output_type": "stream",
     "text": [
      "\r",
      " 55%|█████▍    | 692/1261 [01:37<01:20,  7.07it/s]"
     ]
    },
    {
     "name": "stdout",
     "output_type": "stream",
     "text": [
      "left line curvature: 347.0656508785187\n",
      "right line curvature: 415.97791492142306\n",
      "distance from center [0.33762574]\n"
     ]
    },
    {
     "name": "stderr",
     "output_type": "stream",
     "text": [
      " 55%|█████▌    | 694/1261 [01:38<01:20,  7.07it/s]"
     ]
    },
    {
     "name": "stdout",
     "output_type": "stream",
     "text": [
      "left line curvature: 342.37339880370297\n",
      "right line curvature: 429.8980933937944\n",
      "distance from center [0.33924549]\n",
      "left line curvature: 332.02121951686695\n",
      "right line curvature: 432.42338187569794\n",
      "distance from center [0.33100726]\n"
     ]
    },
    {
     "name": "stderr",
     "output_type": "stream",
     "text": [
      "\r",
      " 55%|█████▌    | 695/1261 [01:38<01:20,  7.06it/s]"
     ]
    },
    {
     "name": "stdout",
     "output_type": "stream",
     "text": [
      "left line curvature: 334.6650283219419\n",
      "right line curvature: 451.50032142841746\n",
      "distance from center [0.32535633]\n",
      "left line curvature: 343.08263845542706\n",
      "right line curvature: 440.42271034864757\n",
      "distance from center [0.32125453]\n"
     ]
    },
    {
     "name": "stderr",
     "output_type": "stream",
     "text": [
      " 55%|█████▌    | 698/1261 [01:38<01:19,  7.06it/s]"
     ]
    },
    {
     "name": "stdout",
     "output_type": "stream",
     "text": [
      "left line curvature: 351.596151470867\n",
      "right line curvature: 422.4292709672882\n",
      "distance from center [0.314317]\n",
      "left line curvature: 326.5176299504317\n",
      "right line curvature: 419.6386328357782\n",
      "distance from center [0.31476775]\n"
     ]
    },
    {
     "name": "stderr",
     "output_type": "stream",
     "text": [
      "\r",
      " 55%|█████▌    | 699/1261 [01:39<01:19,  7.05it/s]"
     ]
    },
    {
     "name": "stdout",
     "output_type": "stream",
     "text": [
      "left line curvature: 340.677311936385\n",
      "right line curvature: 428.64046288185915\n",
      "distance from center [0.31046122]\n",
      "left line curvature:"
     ]
    },
    {
     "name": "stderr",
     "output_type": "stream",
     "text": [
      " 56%|█████▌    | 701/1261 [01:39<01:19,  7.04it/s]"
     ]
    },
    {
     "name": "stdout",
     "output_type": "stream",
     "text": [
      " 323.81700434676645\n",
      "right line curvature: 373.2776185993051\n",
      "distance from center [0.31501768]\n",
      "left line curvature: 335.5183966147832\n",
      "right line curvature: 379.55080400083915\n",
      "distance from center [0.31109234]\n"
     ]
    },
    {
     "name": "stderr",
     "output_type": "stream",
     "text": [
      "\r",
      " 56%|█████▌    | 702/1261 [01:39<01:19,  7.04it/s]"
     ]
    },
    {
     "name": "stdout",
     "output_type": "stream",
     "text": [
      "left line curvature: 356.96911316430413\n",
      "right line curvature: 387.6194232375235\n",
      "distance from center [0.30826183]\n",
      "left line curvature: 358.1783542839847\n",
      "right line curvature: 359.2050629831013\n",
      "distance from center [0.31196578]\n"
     ]
    },
    {
     "name": "stderr",
     "output_type": "stream",
     "text": [
      " 56%|█████▌    | 705/1261 [01:40<01:19,  7.03it/s]"
     ]
    },
    {
     "name": "stdout",
     "output_type": "stream",
     "text": [
      "left line curvature: 370.5692210909859\n",
      "right line curvature: 355.5560425801925\n",
      "distance from center [0.31667934]\n",
      "left line curvature: 371.343993583966\n",
      "right line curvature: 358.0506574761028\n",
      "distance from center [0.30566429]\n"
     ]
    },
    {
     "name": "stderr",
     "output_type": "stream",
     "text": [
      " 56%|█████▌    | 707/1261 [01:40<01:18,  7.03it/s]"
     ]
    },
    {
     "name": "stdout",
     "output_type": "stream",
     "text": [
      "left line curvature: 413.1567108736913\n",
      "right line curvature: 330.7835520957461\n",
      "distance from center [0.31104923]\n",
      "left line curvature: 406.57134922138783\n",
      "right line curvature: 352.79613812442517\n",
      "distance from center [0.29721799]\n"
     ]
    },
    {
     "name": "stderr",
     "output_type": "stream",
     "text": [
      "\r",
      " 56%|█████▌    | 708/1261 [01:40<01:18,  7.03it/s]"
     ]
    },
    {
     "name": "stdout",
     "output_type": "stream",
     "text": [
      "left line curvature: 394.8187151416257\n",
      "right line curvature: 357.83796128502246\n",
      "distance from center [0.29652614]\n",
      "left line curvature: 405.41265862936973\n",
      "right line curvature: 361.280395293924\n",
      "distance from center [0.28636317]\n"
     ]
    },
    {
     "name": "stderr",
     "output_type": "stream",
     "text": [
      " 56%|█████▋    | 711/1261 [01:41<01:18,  7.02it/s]"
     ]
    },
    {
     "name": "stdout",
     "output_type": "stream",
     "text": [
      "left line curvature: 383.777858955008\n",
      "right line curvature: 367.80238315405404\n",
      "distance from center [0.28487961]\n",
      "left line curvature: 400.4468358643305\n",
      "right line curvature: 385.3698008737097\n",
      "distance from center [0.28115496]\n"
     ]
    },
    {
     "name": "stderr",
     "output_type": "stream",
     "text": [
      " 57%|█████▋    | 713/1261 [01:41<01:18,  7.02it/s]"
     ]
    },
    {
     "name": "stdout",
     "output_type": "stream",
     "text": [
      "left line curvature: 418.0465939106168\n",
      "right line curvature: 412.53934678118594\n",
      "distance from center [0.27372777]\n",
      "left line curvature: 434.9804018184247\n",
      "right line curvature: 433.53770940181533\n",
      "distance from center [0.26568925]\n"
     ]
    },
    {
     "name": "stderr",
     "output_type": "stream",
     "text": [
      " 57%|█████▋    | 715/1261 [01:41<01:17,  7.02it/s]"
     ]
    },
    {
     "name": "stdout",
     "output_type": "stream",
     "text": [
      "left line curvature: 383.5865464857346\n",
      "right line curvature: 408.64210619764157\n",
      "distance from center [0.27527041]\n",
      "left line curvature: 346.91472872942865\n",
      "right line curvature: 349.1533617132373\n",
      "distance from center [0.29876525]\n"
     ]
    },
    {
     "name": "stderr",
     "output_type": "stream",
     "text": [
      " 57%|█████▋    | 717/1261 [01:42<01:17,  7.02it/s]"
     ]
    },
    {
     "name": "stdout",
     "output_type": "stream",
     "text": [
      "left line curvature: 334.39413782174495\n",
      "right line curvature: 371.49893519110384\n",
      "distance from center [0.29743858]\n",
      "left line curvature: 389.08471833134405\n",
      "right line curvature: 364.95948306171476\n",
      "distance from center [0.29551561]\n"
     ]
    },
    {
     "name": "stderr",
     "output_type": "stream",
     "text": [
      " 57%|█████▋    | 719/1261 [01:42<01:17,  7.02it/s]"
     ]
    },
    {
     "name": "stdout",
     "output_type": "stream",
     "text": [
      "left line curvature: 357.25004379584504\n",
      "right line curvature: 389.07017329536825\n",
      "distance from center [0.3072135]\n",
      "left line curvature: 379.54491863595416\n",
      "right line curvature: 410.58872477649277\n",
      "distance from center [0.29945132]\n"
     ]
    },
    {
     "name": "stderr",
     "output_type": "stream",
     "text": [
      " 57%|█████▋    | 721/1261 [01:42<01:16,  7.02it/s]"
     ]
    },
    {
     "name": "stdout",
     "output_type": "stream",
     "text": [
      "left line curvature: 398.4066957013103\n",
      "right line curvature: 419.4926389910769\n",
      "distance from center [0.29664969]\n",
      "left line curvature: 377.92312458829235\n",
      "right line curvature: 436.42834388427906\n",
      "distance from center [0.30190216]\n"
     ]
    },
    {
     "name": "stderr",
     "output_type": "stream",
     "text": [
      "\r",
      " 57%|█████▋    | 722/1261 [01:42<01:16,  7.02it/s]"
     ]
    },
    {
     "name": "stdout",
     "output_type": "stream",
     "text": [
      "left line curvature: 403.5123255468906\n",
      "right line curvature: 457.41046184364376\n",
      "distance from center [0.29665288]\n",
      "left line curvature: 408.5691094415496\n",
      "right line curvature: 451.94920988641076\n",
      "distance from center [0.30262614]\n"
     ]
    },
    {
     "name": "stderr",
     "output_type": "stream",
     "text": [
      " 57%|█████▋    | 724/1261 [01:43<01:16,  7.01it/s]"
     ]
    },
    {
     "name": "stdout",
     "output_type": "stream",
     "text": [
      "left line curvature: 402.46198500389573\n",
      "right line curvature: 486.9151785603824\n",
      "distance from center [0.29947435]\n",
      "left line curvature: 414.91797902569886\n",
      "right line curvature: 548.81360460921\n",
      "distance from center [0.30062983]\n"
     ]
    },
    {
     "name": "stderr",
     "output_type": "stream",
     "text": [
      " 58%|█████▊    | 726/1261 [01:43<01:16,  7.00it/s]"
     ]
    },
    {
     "name": "stdout",
     "output_type": "stream",
     "text": [
      "left line curvature: 395.7175971472235\n",
      "right line curvature: 564.8347310763696\n",
      "distance from center [0.3014678]\n",
      "left line curvature: 383.92080623303735\n",
      "right line curvature: 535.8935679619856\n",
      "distance from center [0.30806929]\n"
     ]
    },
    {
     "name": "stderr",
     "output_type": "stream",
     "text": [
      " 58%|█████▊    | 729/1261 [01:44<01:16,  6.99it/s]"
     ]
    },
    {
     "name": "stdout",
     "output_type": "stream",
     "text": [
      "left line curvature: 374.4793424013267\n",
      "right line curvature: 503.3610756825508\n",
      "distance from center [0.31808196]\n",
      "left line curvature: 372.0660219343554\n",
      "right line curvature: 508.08714107805906\n",
      "distance from center [0.32307253]\n"
     ]
    },
    {
     "name": "stderr",
     "output_type": "stream",
     "text": [
      "\r",
      " 58%|█████▊    | 730/1261 [01:44<01:15,  6.99it/s]"
     ]
    },
    {
     "name": "stdout",
     "output_type": "stream",
     "text": [
      "left line curvature: 385.20043471819497\n",
      "right line curvature: 466.6367715308661\n",
      "distance from center [0.33488997]\n",
      "left line curvature: 375.5063196011808\n",
      "right line curvature: 432.79553275787214\n",
      "distance from center [0.34447075]\n"
     ]
    },
    {
     "name": "stderr",
     "output_type": "stream",
     "text": [
      " 58%|█████▊    | 733/1261 [01:44<01:15,  6.99it/s]"
     ]
    },
    {
     "name": "stdout",
     "output_type": "stream",
     "text": [
      "left line curvature: 370.404968798182\n",
      "right line curvature: 398.1594437778241\n",
      "distance from center [0.34543674]\n",
      "left line curvature: 360.2697379873131\n",
      "right line curvature: 385.1543780282652\n",
      "distance from center [0.34820269]\n"
     ]
    },
    {
     "name": "stderr",
     "output_type": "stream",
     "text": [
      " 58%|█████▊    | 735/1261 [01:45<01:15,  6.98it/s]"
     ]
    },
    {
     "name": "stdout",
     "output_type": "stream",
     "text": [
      "left line curvature: 379.6104412453355\n",
      "right line curvature: 398.7320518115727\n",
      "distance from center [0.34230107]\n",
      "left line curvature: 386.33274480886854\n",
      "right line curvature: 414.4628239082281\n",
      "distance from center [0.34700991]\n"
     ]
    },
    {
     "name": "stderr",
     "output_type": "stream",
     "text": [
      " 58%|█████▊    | 737/1261 [01:45<01:15,  6.98it/s]"
     ]
    },
    {
     "name": "stdout",
     "output_type": "stream",
     "text": [
      "left line curvature: 378.71784578373035\n",
      "right line curvature: 383.2648829311945\n",
      "distance from center [0.35739007]\n",
      "left line curvature: 400.3849866204279\n",
      "right line curvature: 435.8391539658079\n",
      "distance from center [0.35284683]\n"
     ]
    },
    {
     "name": "stderr",
     "output_type": "stream",
     "text": [
      " 59%|█████▊    | 739/1261 [01:45<01:14,  6.98it/s]"
     ]
    },
    {
     "name": "stdout",
     "output_type": "stream",
     "text": [
      "left line curvature: 387.72366463974475\n",
      "right line curvature: 407.13049600790794\n",
      "distance from center [0.36337591]\n",
      "left line curvature: 414.3310790918497\n",
      "right line curvature: 432.65872249154467\n",
      "distance from center [0.36237171]\n"
     ]
    },
    {
     "name": "stderr",
     "output_type": "stream",
     "text": [
      " 59%|█████▉    | 741/1261 [01:46<01:14,  6.97it/s]"
     ]
    },
    {
     "name": "stdout",
     "output_type": "stream",
     "text": [
      "left line curvature: 383.04664452930706\n",
      "right line curvature: 390.62309108104006\n",
      "distance from center [0.37877904]\n",
      "left line curvature: 389.4586284192274\n",
      "right line curvature: 375.4327505910638\n",
      "distance from center [0.38286068]\n"
     ]
    },
    {
     "name": "stderr",
     "output_type": "stream",
     "text": [
      " 59%|█████▉    | 743/1261 [01:46<01:14,  6.98it/s]"
     ]
    },
    {
     "name": "stdout",
     "output_type": "stream",
     "text": [
      "left line curvature: 408.0965038572975\n",
      "right line curvature: 365.91049526915265\n",
      "distance from center [0.38108942]\n",
      "left line curvature: 407.2245439253617\n",
      "right line curvature: 342.94256738925174\n",
      "distance from center [0.39289499]\n"
     ]
    },
    {
     "name": "stderr",
     "output_type": "stream",
     "text": [
      " 59%|█████▉    | 745/1261 [01:46<01:13,  6.97it/s]"
     ]
    },
    {
     "name": "stdout",
     "output_type": "stream",
     "text": [
      "left line curvature: 393.8971718884767\n",
      "right line curvature: 366.35861405729537\n",
      "distance from center [0.38734713]\n",
      "left line curvature: 416.7222235206974\n",
      "right line curvature: 387.0677337842779\n",
      "distance from center [0.38586277]\n"
     ]
    },
    {
     "name": "stderr",
     "output_type": "stream",
     "text": [
      " 59%|█████▉    | 747/1261 [01:47<01:13,  6.97it/s]"
     ]
    },
    {
     "name": "stdout",
     "output_type": "stream",
     "text": [
      "left line curvature: 425.70207075579606\n",
      "right line curvature: 399.55958498290437\n",
      "distance from center [0.39138191]\n",
      "left line curvature: 429.34013777996955\n",
      "right line curvature: 404.73366942479515\n",
      "distance from center [0.40261609]\n"
     ]
    },
    {
     "name": "stderr",
     "output_type": "stream",
     "text": [
      " 59%|█████▉    | 749/1261 [01:47<01:13,  6.97it/s]"
     ]
    },
    {
     "name": "stdout",
     "output_type": "stream",
     "text": [
      "left line curvature: 472.36676406386914\n",
      "right line curvature: 443.1241725883935\n",
      "distance from center [0.40051827]\n",
      "left line curvature: 482.1656244864252\n",
      "right line curvature: 433.51170440883317\n",
      "distance from center [0.40607655]\n"
     ]
    },
    {
     "name": "stderr",
     "output_type": "stream",
     "text": [
      " 60%|█████▉    | 751/1261 [01:47<01:13,  6.97it/s]"
     ]
    },
    {
     "name": "stdout",
     "output_type": "stream",
     "text": [
      "left line curvature: 448.0736144238172\n",
      "right line curvature: 435.98800079241175\n",
      "distance from center [0.41778366]\n",
      "left line curvature: 441.89757383208155\n",
      "right line curvature: 509.12180952346364\n",
      "distance from center [0.41189506]\n"
     ]
    },
    {
     "name": "stderr",
     "output_type": "stream",
     "text": [
      " 60%|█████▉    | 753/1261 [01:48<01:12,  6.97it/s]"
     ]
    },
    {
     "name": "stdout",
     "output_type": "stream",
     "text": [
      "left line curvature: 404.6318327285896\n",
      "right line curvature: 712.145225620555\n",
      "distance from center [0.39875493]\n",
      "left line curvature: 389.7627747729804\n",
      "right line curvature: 682.0979015651\n",
      "distance from center [0.42050859]\n"
     ]
    },
    {
     "name": "stderr",
     "output_type": "stream",
     "text": [
      " 60%|█████▉    | 755/1261 [01:48<01:12,  6.97it/s]"
     ]
    },
    {
     "name": "stdout",
     "output_type": "stream",
     "text": [
      "left line curvature: 366.52040382126916\n",
      "right line curvature: 592.0893685731126\n",
      "distance from center [0.44333389]\n",
      "left line curvature: 340.56673167412765\n",
      "right line curvature: 502.25093276933075\n",
      "distance from center [0.47076521]\n"
     ]
    },
    {
     "name": "stderr",
     "output_type": "stream",
     "text": [
      " 60%|██████    | 757/1261 [01:48<01:12,  6.96it/s]"
     ]
    },
    {
     "name": "stdout",
     "output_type": "stream",
     "text": [
      "left line curvature: 368.97860145282624\n",
      "right line curvature: 558.3229001351468\n",
      "distance from center [0.47335016]\n",
      "left line curvature: 369.1028538449549\n",
      "right line curvature: 640.3279573898714\n",
      "distance from center [0.48065056]\n"
     ]
    },
    {
     "name": "stderr",
     "output_type": "stream",
     "text": [
      " 60%|██████    | 759/1261 [01:48<01:12,  6.96it/s]"
     ]
    },
    {
     "name": "stdout",
     "output_type": "stream",
     "text": [
      "left line curvature: 375.0922233099442\n",
      "right line curvature: 473.0596253769112\n",
      "distance from center [0.49618806]\n",
      "left line curvature: 366.910104465322\n",
      "right line curvature: 550.5564000559772\n",
      "distance from center [0.5024681]\n"
     ]
    },
    {
     "name": "stderr",
     "output_type": "stream",
     "text": [
      " 60%|██████    | 761/1261 [01:49<01:11,  6.96it/s]"
     ]
    },
    {
     "name": "stdout",
     "output_type": "stream",
     "text": [
      "left line curvature: 358.3596787113716\n",
      "right line curvature: 564.712455249491\n",
      "distance from center [0.51210091]\n",
      "left line curvature: 344.76905194107815\n",
      "right line curvature: 636.8962058646011\n",
      "distance from center [0.51365243]\n"
     ]
    },
    {
     "name": "stderr",
     "output_type": "stream",
     "text": [
      " 61%|██████    | 763/1261 [01:49<01:11,  6.96it/s]"
     ]
    },
    {
     "name": "stdout",
     "output_type": "stream",
     "text": [
      "left line curvature: 368.58344634759266\n",
      "right line curvature: 710.5625740661254\n",
      "distance from center [0.5125305]\n",
      "left line curvature: 370.6416542168126\n",
      "right line curvature: 797.1565515421158\n",
      "distance from center [0.50441823]\n"
     ]
    },
    {
     "name": "stderr",
     "output_type": "stream",
     "text": [
      " 61%|██████    | 765/1261 [01:49<01:11,  6.96it/s]"
     ]
    },
    {
     "name": "stdout",
     "output_type": "stream",
     "text": [
      "left line curvature: 338.13363626153375\n",
      "right line curvature: 2321.898100684454\n",
      "distance from center [0.48469827]\n",
      "left line curvature: 344.7402536913883\n",
      "right line curvature: 1301.7456312020854\n",
      "distance from center [0.50031528]\n"
     ]
    },
    {
     "name": "stderr",
     "output_type": "stream",
     "text": [
      " 61%|██████    | 767/1261 [01:50<01:10,  6.96it/s]"
     ]
    },
    {
     "name": "stdout",
     "output_type": "stream",
     "text": [
      "left line curvature: 345.3613045296954\n",
      "right line curvature: 940.0314950999407\n",
      "distance from center [0.5140782]\n",
      "left line curvature: 348.44344108093674\n",
      "right line curvature: 704.2047779809117\n",
      "distance from center [0.52992615]\n"
     ]
    },
    {
     "name": "stderr",
     "output_type": "stream",
     "text": [
      " 61%|██████    | 769/1261 [01:50<01:10,  6.96it/s]"
     ]
    },
    {
     "name": "stdout",
     "output_type": "stream",
     "text": [
      "left line curvature: 357.52155247804217\n",
      "right line curvature: 609.1506261505194\n",
      "distance from center [0.53344785]\n",
      "left line curvature: 344.6669123451807\n",
      "right line curvature: 563.9201558847144\n",
      "distance from center [0.54089361]\n"
     ]
    },
    {
     "name": "stderr",
     "output_type": "stream",
     "text": [
      " 61%|██████    | 771/1261 [01:50<01:10,  6.96it/s]"
     ]
    },
    {
     "name": "stdout",
     "output_type": "stream",
     "text": [
      "left line curvature: 351.9223819514345\n",
      "right line curvature: 665.5279842360793\n",
      "distance from center [0.5333261]\n",
      "left line curvature: 359.5375475296715\n",
      "right line curvature: 649.2052245218348\n",
      "distance from center [0.54095646]\n"
     ]
    },
    {
     "name": "stderr",
     "output_type": "stream",
     "text": [
      " 61%|██████▏   | 773/1261 [01:50<01:10,  6.97it/s]"
     ]
    },
    {
     "name": "stdout",
     "output_type": "stream",
     "text": [
      "left line curvature: 380.60937160999663\n",
      "right line curvature: 663.534381843426\n",
      "distance from center [0.54324276]\n",
      "left line curvature: 405.5289902048725\n",
      "right line curvature: 695.549494550553\n",
      "distance from center [0.53482424]\n"
     ]
    },
    {
     "name": "stderr",
     "output_type": "stream",
     "text": [
      " 61%|██████▏   | 775/1261 [01:51<01:09,  6.97it/s]"
     ]
    },
    {
     "name": "stdout",
     "output_type": "stream",
     "text": [
      "left line curvature: 415.638611164248\n",
      "right line curvature: 674.8324852418822\n",
      "distance from center [0.53798806]\n",
      "left line curvature: 409.91792582948625\n",
      "right line curvature: 755.2114538269285\n",
      "distance from center [0.5332444]\n"
     ]
    },
    {
     "name": "stderr",
     "output_type": "stream",
     "text": [
      " 62%|██████▏   | 777/1261 [01:51<01:09,  6.97it/s]"
     ]
    },
    {
     "name": "stdout",
     "output_type": "stream",
     "text": [
      "left line curvature: 393.52547034149353\n",
      "right line curvature: 590.4071693754246\n",
      "distance from center [0.54795005]\n",
      "left line curvature: 417.1646258688193\n",
      "right line curvature: 542.1850065445468\n",
      "distance from center [0.54794108]\n"
     ]
    },
    {
     "name": "stderr",
     "output_type": "stream",
     "text": [
      " 62%|██████▏   | 779/1261 [01:51<01:09,  6.97it/s]"
     ]
    },
    {
     "name": "stdout",
     "output_type": "stream",
     "text": [
      "left line curvature: 399.18687309700846\n",
      "right line curvature: 476.65741187308384\n",
      "distance from center [0.55705207]\n",
      "left line curvature: 429.0631694410419\n",
      "right line curvature: 443.25855120049374\n",
      "distance from center [0.55823083]\n"
     ]
    },
    {
     "name": "stderr",
     "output_type": "stream",
     "text": [
      " 62%|██████▏   | 781/1261 [01:52<01:08,  6.97it/s]"
     ]
    },
    {
     "name": "stdout",
     "output_type": "stream",
     "text": [
      "left line curvature: 451.59041689969604\n",
      "right line curvature: 472.1633712785792\n",
      "distance from center [0.55377234]\n",
      "left line curvature: 479.10974616600924\n",
      "right line curvature: 483.74150971603535\n",
      "distance from center [0.55211654]\n"
     ]
    },
    {
     "name": "stderr",
     "output_type": "stream",
     "text": [
      "\r",
      " 62%|██████▏   | 782/1261 [01:52<01:08,  6.97it/s]"
     ]
    },
    {
     "name": "stdout",
     "output_type": "stream",
     "text": [
      "left line curvature: 518.4267883567354\n",
      "right line curvature: 525.6050503995433\n",
      "distance from center [0.54616515]\n",
      "left line curvature: 549.0890332081796\n",
      "right line curvature: 515.5300888962731\n",
      "distance from center [0.54094737]\n"
     ]
    },
    {
     "name": "stderr",
     "output_type": "stream",
     "text": [
      " 62%|██████▏   | 784/1261 [01:52<01:08,  6.96it/s]"
     ]
    },
    {
     "name": "stdout",
     "output_type": "stream",
     "text": [
      "left line curvature: 569.9637785124717\n",
      "right line curvature: 547.0708797862341\n",
      "distance from center [0.54043159]\n",
      "left line curvature: 601.2300262061995\n",
      "right line curvature: 575.6740002516401\n",
      "distance from center [0.5366984]\n"
     ]
    },
    {
     "name": "stderr",
     "output_type": "stream",
     "text": [
      " 62%|██████▏   | 786/1261 [01:52<01:08,  6.96it/s]"
     ]
    },
    {
     "name": "stdout",
     "output_type": "stream",
     "text": [
      "left line curvature: 652.0742519482278\n",
      "right line curvature: 645.204446690861\n",
      "distance from center [0.53129064]\n",
      "left line curvature: 647.1411720417891\n",
      "right line curvature: 657.4423568580191\n",
      "distance from center [0.52657007]\n"
     ]
    },
    {
     "name": "stderr",
     "output_type": "stream",
     "text": [
      " 63%|██████▎   | 789/1261 [01:53<01:07,  6.96it/s]"
     ]
    },
    {
     "name": "stdout",
     "output_type": "stream",
     "text": [
      "left line curvature: 638.6830435476681\n",
      "right line curvature: 715.2275735174994\n",
      "distance from center [0.517662]\n",
      "left line curvature: 640.9365235481914\n",
      "right line curvature: 559.3029692047531\n",
      "distance from center [0.53498846]\n"
     ]
    },
    {
     "name": "stderr",
     "output_type": "stream",
     "text": [
      " 63%|██████▎   | 791/1261 [01:53<01:07,  6.96it/s]"
     ]
    },
    {
     "name": "stdout",
     "output_type": "stream",
     "text": [
      "left line curvature: 656.3777110270822\n",
      "right line curvature: 586.3934371785867\n",
      "distance from center [0.5338185]\n",
      "left line curvature: 654.9496463130159\n",
      "right line curvature: 642.3036666902584\n",
      "distance from center [0.53666893]\n"
     ]
    },
    {
     "name": "stderr",
     "output_type": "stream",
     "text": [
      "\r",
      " 63%|██████▎   | 792/1261 [01:53<01:07,  6.96it/s]"
     ]
    },
    {
     "name": "stdout",
     "output_type": "stream",
     "text": [
      "left line curvature: 726.5841616006335\n",
      "right line curvature: 653.6002456639027\n",
      "distance from center [0.53376864]\n",
      "left line curvature: 712.3510576175482\n",
      "right line curvature: 772.9421443123163\n",
      "distance from center [0.53062985]\n"
     ]
    },
    {
     "name": "stderr",
     "output_type": "stream",
     "text": [
      " 63%|██████▎   | 795/1261 [01:54<01:07,  6.95it/s]"
     ]
    },
    {
     "name": "stdout",
     "output_type": "stream",
     "text": [
      "left line curvature: 718.103339799434\n",
      "right line curvature: 895.2512662783837\n",
      "distance from center [0.5260439]\n",
      "left line curvature: 680.0934559055261\n",
      "right line curvature: 985.4196739301352\n",
      "distance from center [0.53079388]\n"
     ]
    },
    {
     "name": "stderr",
     "output_type": "stream",
     "text": [
      " 63%|██████▎   | 797/1261 [01:54<01:06,  6.95it/s]"
     ]
    },
    {
     "name": "stdout",
     "output_type": "stream",
     "text": [
      "left line curvature: 621.3593167447752\n",
      "right line curvature: 662.4125400116302\n",
      "distance from center [0.54657713]\n",
      "left line curvature: 673.4232470473543\n",
      "right line curvature: 691.6070959712409\n",
      "distance from center [0.54662871]\n"
     ]
    },
    {
     "name": "stderr",
     "output_type": "stream",
     "text": [
      " 63%|██████▎   | 799/1261 [01:54<01:06,  6.95it/s]"
     ]
    },
    {
     "name": "stdout",
     "output_type": "stream",
     "text": [
      "left line curvature: 616.086456722246\n",
      "right line curvature: 662.6820524475864\n",
      "distance from center [0.5538757]\n",
      "left line curvature: 648.9138739505784\n",
      "right line curvature: 744.502987418522\n",
      "distance from center [0.55089985]\n"
     ]
    },
    {
     "name": "stderr",
     "output_type": "stream",
     "text": [
      " 64%|██████▎   | 801/1261 [01:55<01:06,  6.95it/s]"
     ]
    },
    {
     "name": "stdout",
     "output_type": "stream",
     "text": [
      "left line curvature: 628.5078873681036\n",
      "right line curvature: 756.8793726942768\n",
      "distance from center [0.5516962]\n",
      "left line curvature: 619.9336807803988\n",
      "right line curvature: 636.6694220369454\n",
      "distance from center [0.56301205]\n"
     ]
    },
    {
     "name": "stderr",
     "output_type": "stream",
     "text": [
      " 64%|██████▎   | 803/1261 [01:55<01:05,  6.95it/s]"
     ]
    },
    {
     "name": "stdout",
     "output_type": "stream",
     "text": [
      "left line curvature: 604.2829895191511\n",
      "right line curvature: 686.6829914167859\n",
      "distance from center [0.56467738]\n",
      "left line curvature: 555.0770142838895\n",
      "right line curvature: 705.4521010405243\n",
      "distance from center [0.56248164]\n"
     ]
    },
    {
     "name": "stderr",
     "output_type": "stream",
     "text": [
      " 64%|██████▍   | 805/1261 [01:55<01:05,  6.96it/s]"
     ]
    },
    {
     "name": "stdout",
     "output_type": "stream",
     "text": [
      "left line curvature: 466.090095552759\n",
      "right line curvature: 593.5295278865492\n",
      "distance from center [0.57771921]\n",
      "left line curvature: 449.72320021885145\n",
      "right line curvature: 576.1369087121245\n",
      "distance from center [0.57049]\n"
     ]
    },
    {
     "name": "stderr",
     "output_type": "stream",
     "text": [
      " 64%|██████▍   | 807/1261 [01:56<01:05,  6.96it/s]"
     ]
    },
    {
     "name": "stdout",
     "output_type": "stream",
     "text": [
      "left line curvature: 439.21993105448877\n",
      "right line curvature: 519.0380352334383\n",
      "distance from center [0.57009133]\n",
      "left line curvature: 430.9532845332437\n",
      "right line curvature: 530.860671625572\n",
      "distance from center [0.56919615]\n"
     ]
    },
    {
     "name": "stderr",
     "output_type": "stream",
     "text": [
      " 64%|██████▍   | 809/1261 [01:56<01:04,  6.96it/s]"
     ]
    },
    {
     "name": "stdout",
     "output_type": "stream",
     "text": [
      "left line curvature: 434.6587752250002\n",
      "right line curvature: 492.64981720653844\n",
      "distance from center [0.56405485]\n",
      "left line curvature: 457.60309617222674\n",
      "right line curvature: 511.8817272764542\n",
      "distance from center [0.56185638]\n"
     ]
    },
    {
     "name": "stderr",
     "output_type": "stream",
     "text": [
      " 64%|██████▍   | 811/1261 [01:56<01:04,  6.96it/s]"
     ]
    },
    {
     "name": "stdout",
     "output_type": "stream",
     "text": [
      "left line curvature: 434.7135471507827\n",
      "right line curvature: 528.9222835171594\n",
      "distance from center [0.56145508]\n",
      "left line curvature: 434.6873485991142\n",
      "right line curvature: 471.5338999342715\n",
      "distance from center [0.57292965]\n"
     ]
    },
    {
     "name": "stderr",
     "output_type": "stream",
     "text": [
      " 64%|██████▍   | 813/1261 [01:56<01:04,  6.96it/s]"
     ]
    },
    {
     "name": "stdout",
     "output_type": "stream",
     "text": [
      "left line curvature: 479.2418481189199\n",
      "right line curvature: 448.86209296377103\n",
      "distance from center [0.57237442]\n",
      "left line curvature: 511.2783468730759\n",
      "right line curvature: 425.54300519751513\n",
      "distance from center [0.56009009]\n"
     ]
    },
    {
     "name": "stderr",
     "output_type": "stream",
     "text": [
      " 65%|██████▍   | 815/1261 [01:57<01:04,  6.96it/s]"
     ]
    },
    {
     "name": "stdout",
     "output_type": "stream",
     "text": [
      "left line curvature: 476.8286318330586\n",
      "right line curvature: 417.919897971576\n",
      "distance from center [0.55136067]\n",
      "left line curvature: 513.0208620029488\n",
      "right line curvature: 376.8465802170184\n",
      "distance from center [0.52957585]\n"
     ]
    },
    {
     "name": "stderr",
     "output_type": "stream",
     "text": [
      " 65%|██████▍   | 817/1261 [01:57<01:03,  6.96it/s]"
     ]
    },
    {
     "name": "stdout",
     "output_type": "stream",
     "text": [
      "left line curvature: 509.66091998281576\n",
      "right line curvature: 359.16235160222453\n",
      "distance from center [0.51496151]\n",
      "left line curvature: 476.8934421885638\n",
      "right line curvature: 343.4309622615515\n",
      "distance from center [0.49986512]\n"
     ]
    },
    {
     "name": "stderr",
     "output_type": "stream",
     "text": [
      " 65%|██████▍   | 819/1261 [01:57<01:03,  6.96it/s]"
     ]
    },
    {
     "name": "stdout",
     "output_type": "stream",
     "text": [
      "left line curvature: 450.52321031183016\n",
      "right line curvature: 345.26742965446806\n",
      "distance from center [0.49101717]\n",
      "left line curvature: 498.6148467166562\n",
      "right line curvature: 347.6491619219601\n",
      "distance from center [0.47842882]\n"
     ]
    },
    {
     "name": "stderr",
     "output_type": "stream",
     "text": [
      " 65%|██████▌   | 821/1261 [01:57<01:03,  6.96it/s]"
     ]
    },
    {
     "name": "stdout",
     "output_type": "stream",
     "text": [
      "left line curvature: 509.9417193337018\n",
      "right line curvature: 392.6106111738259\n",
      "distance from center [0.45989821]\n",
      "left line curvature: 550.9872514180555\n",
      "right line curvature: 405.23660015355307\n",
      "distance from center [0.44787448]\n"
     ]
    },
    {
     "name": "stderr",
     "output_type": "stream",
     "text": [
      " 65%|██████▌   | 823/1261 [01:58<01:02,  6.97it/s]"
     ]
    },
    {
     "name": "stdout",
     "output_type": "stream",
     "text": [
      "left line curvature: 558.4337576374728\n",
      "right line curvature: 421.4134766524674\n",
      "distance from center [0.43555036]\n",
      "left line curvature: 593.8240044770788\n",
      "right line curvature: 434.42620350231545\n",
      "distance from center [0.41762473]\n"
     ]
    },
    {
     "name": "stderr",
     "output_type": "stream",
     "text": [
      " 65%|██████▌   | 825/1261 [01:58<01:02,  6.97it/s]"
     ]
    },
    {
     "name": "stdout",
     "output_type": "stream",
     "text": [
      "left line curvature: 571.3554145521681\n",
      "right line curvature: 428.21619476981544\n",
      "distance from center [0.40728125]\n",
      "left line curvature: 501.7266055333536\n",
      "right line curvature: 410.68952084498426\n",
      "distance from center [0.40296253]\n"
     ]
    },
    {
     "name": "stderr",
     "output_type": "stream",
     "text": [
      " 66%|██████▌   | 827/1261 [01:58<01:02,  6.97it/s]"
     ]
    },
    {
     "name": "stdout",
     "output_type": "stream",
     "text": [
      "left line curvature: 470.1730646271368\n",
      "right line curvature: 370.0617525829909\n",
      "distance from center [0.40771213]\n",
      "left line curvature: 440.9754085542554\n",
      "right line curvature: 384.8463265919748\n",
      "distance from center [0.39848605]\n"
     ]
    },
    {
     "name": "stderr",
     "output_type": "stream",
     "text": [
      " 66%|██████▌   | 829/1261 [01:58<01:01,  6.97it/s]"
     ]
    },
    {
     "name": "stdout",
     "output_type": "stream",
     "text": [
      "left line curvature: 451.3919464184817\n",
      "right line curvature: 378.34843555596944\n",
      "distance from center [0.39085637]\n",
      "left line curvature: 402.9134365463513\n",
      "right line curvature: 362.19406176504293\n",
      "distance from center [0.39271817]\n"
     ]
    },
    {
     "name": "stderr",
     "output_type": "stream",
     "text": [
      " 66%|██████▌   | 831/1261 [01:59<01:01,  6.97it/s]"
     ]
    },
    {
     "name": "stdout",
     "output_type": "stream",
     "text": [
      "left line curvature: 415.10833423833117\n",
      "right line curvature: 347.01349736824636\n",
      "distance from center [0.38410091]\n",
      "left line curvature: 400.80794168581065\n",
      "right line curvature: 384.5569860843044\n",
      "distance from center [0.37775908]\n"
     ]
    },
    {
     "name": "stderr",
     "output_type": "stream",
     "text": [
      " 66%|██████▌   | 833/1261 [01:59<01:01,  6.97it/s]"
     ]
    },
    {
     "name": "stdout",
     "output_type": "stream",
     "text": [
      "left line curvature: 409.9078753569856\n",
      "right line curvature: 392.75717420427435\n",
      "distance from center [0.36888494]\n",
      "left line curvature: 393.0840069935503\n",
      "right line curvature: 380.91765982237627\n",
      "distance from center [0.3638859]\n"
     ]
    },
    {
     "name": "stderr",
     "output_type": "stream",
     "text": [
      " 66%|██████▌   | 835/1261 [01:59<01:01,  6.97it/s]"
     ]
    },
    {
     "name": "stdout",
     "output_type": "stream",
     "text": [
      "left line curvature: 402.8368934642044\n",
      "right line curvature: 442.7972212491426\n",
      "distance from center [0.34810634]\n",
      "left line curvature: 388.46772687218714\n",
      "right line curvature: 558.6468202393679\n",
      "distance from center [0.31259073]\n"
     ]
    },
    {
     "name": "stderr",
     "output_type": "stream",
     "text": [
      " 66%|██████▋   | 837/1261 [02:00<01:00,  6.97it/s]"
     ]
    },
    {
     "name": "stdout",
     "output_type": "stream",
     "text": [
      "left line curvature: 388.15131145422987\n",
      "right line curvature: 541.6058198469162\n",
      "distance from center [0.31535443]\n",
      "left line curvature: 415.3138442557784\n",
      "right line curvature: 593.5582371064502\n",
      "distance from center [0.29931208]\n"
     ]
    },
    {
     "name": "stderr",
     "output_type": "stream",
     "text": [
      " 67%|██████▋   | 839/1261 [02:00<01:00,  6.97it/s]"
     ]
    },
    {
     "name": "stdout",
     "output_type": "stream",
     "text": [
      "left line curvature: 406.6944037915536\n",
      "right line curvature: 485.6513542998269\n",
      "distance from center [0.30078397]\n",
      "left line curvature: 371.48868843276523\n",
      "right line curvature: 433.3199699107508\n",
      "distance from center [0.3062127]\n"
     ]
    },
    {
     "name": "stderr",
     "output_type": "stream",
     "text": [
      " 67%|██████▋   | 841/1261 [02:00<01:00,  6.98it/s]"
     ]
    },
    {
     "name": "stdout",
     "output_type": "stream",
     "text": [
      "left line curvature: 376.1245228534984\n",
      "right line curvature: 423.59017126469985\n",
      "distance from center [0.28798303]\n",
      "left line curvature: 372.8364494935701\n",
      "right line curvature: 455.5144075795071\n",
      "distance from center [0.27769712]\n"
     ]
    },
    {
     "name": "stderr",
     "output_type": "stream",
     "text": [
      " 67%|██████▋   | 843/1261 [02:00<00:59,  6.97it/s]"
     ]
    },
    {
     "name": "stdout",
     "output_type": "stream",
     "text": [
      "left line curvature: 398.36384571925015\n",
      "right line curvature: 497.61242740699413\n",
      "distance from center [0.26306822]\n",
      "left line curvature: 416.67681198078884\n",
      "right line curvature: 471.8899083043994\n",
      "distance from center [0.24817088]\n"
     ]
    },
    {
     "name": "stderr",
     "output_type": "stream",
     "text": [
      " 67%|██████▋   | 845/1261 [02:01<00:59,  6.98it/s]"
     ]
    },
    {
     "name": "stdout",
     "output_type": "stream",
     "text": [
      "left line curvature: 460.33496641288195\n",
      "right line curvature: 475.4629895764982\n",
      "distance from center [0.2308016]\n",
      "left line curvature: 485.7426324037252\n",
      "right line curvature: 503.0347761786741\n",
      "distance from center [0.21572203]\n"
     ]
    },
    {
     "name": "stderr",
     "output_type": "stream",
     "text": [
      " 67%|██████▋   | 847/1261 [02:01<00:59,  6.98it/s]"
     ]
    },
    {
     "name": "stdout",
     "output_type": "stream",
     "text": [
      "left line curvature: 501.38613440532475\n",
      "right line curvature: 559.3295589208919\n",
      "distance from center [0.1991181]\n",
      "left line curvature: 511.3186294195145\n",
      "right line curvature: 723.7524704248534\n",
      "distance from center [0.16630922]\n"
     ]
    },
    {
     "name": "stderr",
     "output_type": "stream",
     "text": [
      " 67%|██████▋   | 849/1261 [02:01<00:59,  6.98it/s]"
     ]
    },
    {
     "name": "stdout",
     "output_type": "stream",
     "text": [
      "left line curvature: 572.3248841329125\n",
      "right line curvature: 917.9732532257771\n",
      "distance from center [0.15236611]\n",
      "left line curvature: 615.2550591563177\n",
      "right line curvature: 747.464940633292\n",
      "distance from center [0.16215599]\n"
     ]
    },
    {
     "name": "stderr",
     "output_type": "stream",
     "text": [
      "\r",
      " 67%|██████▋   | 850/1261 [02:01<00:58,  6.98it/s]"
     ]
    },
    {
     "name": "stdout",
     "output_type": "stream",
     "text": [
      "left line curvature: 639.6159571433985\n",
      "right line curvature: 718.1279730585485\n",
      "distance from center [0.16027976]\n",
      "left line curvature: 651.0868339180593\n",
      "right line curvature: 655.2061531427071\n",
      "distance from center [0.16793845]\n"
     ]
    },
    {
     "name": "stderr",
     "output_type": "stream",
     "text": [
      " 68%|██████▊   | 853/1261 [02:02<00:58,  6.98it/s]"
     ]
    },
    {
     "name": "stdout",
     "output_type": "stream",
     "text": [
      "left line curvature: 707.0630303171142\n",
      "right line curvature: 630.0979752718893\n",
      "distance from center [0.17099939]\n",
      "left line curvature: 659.2957147424578\n",
      "right line curvature: 516.7862213011891\n",
      "distance from center [0.18278015]\n"
     ]
    },
    {
     "name": "stderr",
     "output_type": "stream",
     "text": [
      " 68%|██████▊   | 855/1261 [02:02<00:58,  6.98it/s]"
     ]
    },
    {
     "name": "stdout",
     "output_type": "stream",
     "text": [
      "left line curvature: 685.2135318593613\n",
      "right line curvature: 534.3679364646323\n",
      "distance from center [0.18411672]\n",
      "left line curvature: 708.7742331279698\n",
      "right line curvature: 551.1123920515486\n",
      "distance from center [0.18302916]\n"
     ]
    },
    {
     "name": "stderr",
     "output_type": "stream",
     "text": [
      " 68%|██████▊   | 857/1261 [02:02<00:57,  6.98it/s]"
     ]
    },
    {
     "name": "stdout",
     "output_type": "stream",
     "text": [
      "left line curvature: 777.8570686321115\n",
      "right line curvature: 546.508837967868\n",
      "distance from center [0.18105724]\n",
      "left line curvature: 757.5608927351801\n",
      "right line curvature: 565.7635714869243\n",
      "distance from center [0.18236966]\n"
     ]
    },
    {
     "name": "stderr",
     "output_type": "stream",
     "text": [
      " 68%|██████▊   | 859/1261 [02:03<00:57,  6.98it/s]"
     ]
    },
    {
     "name": "stdout",
     "output_type": "stream",
     "text": [
      "left line curvature: 767.8636025244971\n",
      "right line curvature: 474.5152271344713\n",
      "distance from center [0.1927106]\n",
      "left line curvature: 706.7007545036736\n",
      "right line curvature: 546.5405263422764\n",
      "distance from center [0.17965851]\n"
     ]
    },
    {
     "name": "stderr",
     "output_type": "stream",
     "text": [
      " 68%|██████▊   | 861/1261 [02:03<00:57,  6.98it/s]"
     ]
    },
    {
     "name": "stdout",
     "output_type": "stream",
     "text": [
      "left line curvature: 743.5547260684203\n",
      "right line curvature: 551.6658662907136\n",
      "distance from center [0.17794445]\n",
      "left line curvature: 676.6618495660122\n",
      "right line curvature: 530.2115728190732\n",
      "distance from center [0.18645286]\n"
     ]
    },
    {
     "name": "stderr",
     "output_type": "stream",
     "text": [
      " 68%|██████▊   | 863/1261 [02:03<00:57,  6.98it/s]"
     ]
    },
    {
     "name": "stdout",
     "output_type": "stream",
     "text": [
      "left line curvature: 692.2568712821507\n",
      "right line curvature: 537.7174966772025\n",
      "distance from center [0.1886199]\n",
      "left line curvature: 704.2501702575573\n",
      "right line curvature: 505.42048980905594\n",
      "distance from center [0.19269113]\n"
     ]
    },
    {
     "name": "stderr",
     "output_type": "stream",
     "text": [
      " 69%|██████▊   | 865/1261 [02:03<00:56,  6.98it/s]"
     ]
    },
    {
     "name": "stdout",
     "output_type": "stream",
     "text": [
      "left line curvature: 694.6007273959405\n",
      "right line curvature: 543.4782687152384\n",
      "distance from center [0.19079999]\n",
      "left line curvature: 690.0899198163831\n",
      "right line curvature: 549.7822879975523\n",
      "distance from center [0.19149098]\n"
     ]
    },
    {
     "name": "stderr",
     "output_type": "stream",
     "text": [
      " 69%|██████▉   | 867/1261 [02:04<00:56,  6.98it/s]"
     ]
    },
    {
     "name": "stdout",
     "output_type": "stream",
     "text": [
      "left line curvature: 687.6528561128888\n",
      "right line curvature: 458.1781109570327\n",
      "distance from center [0.19847809]\n",
      "left line curvature: 699.3589709673764\n",
      "right line curvature: 487.94674387587537\n",
      "distance from center [0.19727536]\n"
     ]
    },
    {
     "name": "stderr",
     "output_type": "stream",
     "text": [
      " 69%|██████▉   | 869/1261 [02:04<00:56,  6.98it/s]"
     ]
    },
    {
     "name": "stdout",
     "output_type": "stream",
     "text": [
      "left line curvature: 682.8720484064305\n",
      "right line curvature: 468.8713722395621\n",
      "distance from center [0.19541402]\n",
      "left line curvature: 614.8628142427045\n",
      "right line curvature: 571.4432441588219\n",
      "distance from center [0.18499857]\n"
     ]
    },
    {
     "name": "stderr",
     "output_type": "stream",
     "text": [
      " 69%|██████▉   | 871/1261 [02:04<00:55,  6.98it/s]"
     ]
    },
    {
     "name": "stdout",
     "output_type": "stream",
     "text": [
      "left line curvature: 622.7058971608539\n",
      "right line curvature: 653.7623774972427\n",
      "distance from center [0.16896554]\n",
      "left line curvature: 608.5895852903379\n",
      "right line curvature: 570.3997322752065\n",
      "distance from center [0.17746564]\n"
     ]
    },
    {
     "name": "stderr",
     "output_type": "stream",
     "text": [
      " 69%|██████▉   | 873/1261 [02:05<00:55,  6.98it/s]"
     ]
    },
    {
     "name": "stdout",
     "output_type": "stream",
     "text": [
      "left line curvature: 610.9784210658441\n",
      "right line curvature: 691.4465958651497\n",
      "distance from center [0.17247559]\n",
      "left line curvature: 535.8676318517929\n",
      "right line curvature: 1030.2840093252526\n",
      "distance from center [0.15820416]\n"
     ]
    },
    {
     "name": "stderr",
     "output_type": "stream",
     "text": [
      " 69%|██████▉   | 875/1261 [02:05<00:55,  6.98it/s]"
     ]
    },
    {
     "name": "stdout",
     "output_type": "stream",
     "text": [
      "left line curvature: 585.3806243292904\n",
      "right line curvature: 1077.8651591258658\n",
      "distance from center [0.16148279]\n",
      "left line curvature: 545.5090849790071\n",
      "right line curvature: 1780.5434957293999\n",
      "distance from center [0.15635428]\n"
     ]
    },
    {
     "name": "stderr",
     "output_type": "stream",
     "text": [
      " 70%|██████▉   | 877/1261 [02:05<00:55,  6.98it/s]"
     ]
    },
    {
     "name": "stdout",
     "output_type": "stream",
     "text": [
      "left line curvature: 538.7142987448827\n",
      "right line curvature: 1003.9632163325989\n",
      "distance from center [0.17602904]\n",
      "left line curvature: 560.266566343252\n",
      "right line curvature: 920.823628584737\n",
      "distance from center [0.18294188]\n"
     ]
    },
    {
     "name": "stderr",
     "output_type": "stream",
     "text": [
      " 70%|██████▉   | 879/1261 [02:05<00:54,  6.98it/s]"
     ]
    },
    {
     "name": "stdout",
     "output_type": "stream",
     "text": [
      "left line curvature: 579.3992063444603\n",
      "right line curvature: 910.7541131415824\n",
      "distance from center [0.18615991]\n",
      "left line curvature: 539.6410364208242\n",
      "right line curvature: 662.3602527669977\n",
      "distance from center [0.19883626]\n"
     ]
    },
    {
     "name": "stderr",
     "output_type": "stream",
     "text": [
      " 70%|██████▉   | 881/1261 [02:06<00:54,  6.98it/s]"
     ]
    },
    {
     "name": "stdout",
     "output_type": "stream",
     "text": [
      "left line curvature: 554.0103992409746\n",
      "right line curvature: 605.634917570107\n",
      "distance from center [0.19945219]\n",
      "left line curvature: 599.2575473941228\n",
      "right line curvature: 793.6885202124483\n",
      "distance from center [0.18243301]\n"
     ]
    },
    {
     "name": "stderr",
     "output_type": "stream",
     "text": [
      " 70%|███████   | 883/1261 [02:06<00:54,  6.98it/s]"
     ]
    },
    {
     "name": "stdout",
     "output_type": "stream",
     "text": [
      "left line curvature: 635.7184293366888\n",
      "right line curvature: 1055.9247228754773\n",
      "distance from center [0.16354229]\n",
      "left line curvature: 682.7261803036998\n",
      "right line curvature: 830.6824353815751\n",
      "distance from center [0.16859753]\n"
     ]
    },
    {
     "name": "stderr",
     "output_type": "stream",
     "text": [
      " 70%|███████   | 885/1261 [02:06<00:53,  6.98it/s]"
     ]
    },
    {
     "name": "stdout",
     "output_type": "stream",
     "text": [
      "left line curvature: 739.8959015174914\n",
      "right line curvature: 695.526503953277\n",
      "distance from center [0.1813448]\n",
      "left line curvature: 856.0855948479585\n",
      "right line curvature: 1046.5480708450823\n",
      "distance from center [0.16010586]\n"
     ]
    },
    {
     "name": "stderr",
     "output_type": "stream",
     "text": [
      " 70%|███████   | 887/1261 [02:06<00:53,  6.98it/s]"
     ]
    },
    {
     "name": "stdout",
     "output_type": "stream",
     "text": [
      "left line curvature: 992.9997457157916\n",
      "right line curvature: 757.1845869696187\n",
      "distance from center [0.1716775]\n",
      "left line curvature: 1081.1510278590742\n",
      "right line curvature: 873.4017013950196\n",
      "distance from center [0.17039444]\n"
     ]
    },
    {
     "name": "stderr",
     "output_type": "stream",
     "text": [
      " 70%|███████   | 889/1261 [02:07<00:53,  6.99it/s]"
     ]
    },
    {
     "name": "stdout",
     "output_type": "stream",
     "text": [
      "left line curvature: 1035.0772383837007\n",
      "right line curvature: 631.9626966895295\n",
      "distance from center [0.18311706]\n",
      "left line curvature: 1026.4514444306535\n",
      "right line curvature: 581.1857436306433\n",
      "distance from center [0.19107311]\n"
     ]
    },
    {
     "name": "stderr",
     "output_type": "stream",
     "text": [
      " 71%|███████   | 891/1261 [02:07<00:52,  6.99it/s]"
     ]
    },
    {
     "name": "stdout",
     "output_type": "stream",
     "text": [
      "left line curvature: 1071.4511243090747\n",
      "right line curvature: 619.8427459206025\n",
      "distance from center [0.19234791]\n",
      "left line curvature: 1174.7904948679259\n",
      "right line curvature: 633.4547041237615\n",
      "distance from center [0.19432809]\n"
     ]
    },
    {
     "name": "stderr",
     "output_type": "stream",
     "text": [
      " 71%|███████   | 893/1261 [02:07<00:52,  6.99it/s]"
     ]
    },
    {
     "name": "stdout",
     "output_type": "stream",
     "text": [
      "left line curvature: 1111.759030700818\n",
      "right line curvature: 771.5974854428874\n",
      "distance from center [0.19761642]\n",
      "left line curvature: 1142.1777596108684\n",
      "right line curvature: 871.4149753423153\n",
      "distance from center [0.19195461]\n"
     ]
    },
    {
     "name": "stderr",
     "output_type": "stream",
     "text": [
      " 71%|███████   | 895/1261 [02:08<00:52,  6.99it/s]"
     ]
    },
    {
     "name": "stdout",
     "output_type": "stream",
     "text": [
      "left line curvature: 968.9976670686738\n",
      "right line curvature: 839.8583729146281\n",
      "distance from center [0.19975457]\n",
      "left line curvature: 987.611829652388\n",
      "right line curvature: 715.9302898616786\n",
      "distance from center [0.21516477]\n"
     ]
    },
    {
     "name": "stderr",
     "output_type": "stream",
     "text": [
      " 71%|███████   | 897/1261 [02:08<00:52,  6.99it/s]"
     ]
    },
    {
     "name": "stdout",
     "output_type": "stream",
     "text": [
      "left line curvature: 892.4810824098245\n",
      "right line curvature: 671.2600425691558\n",
      "distance from center [0.23345213]\n",
      "left line curvature: 956.5261324382894\n",
      "right line curvature: 639.7021531494776\n",
      "distance from center [0.24049578]\n"
     ]
    },
    {
     "name": "stderr",
     "output_type": "stream",
     "text": [
      " 71%|███████▏  | 899/1261 [02:08<00:51,  6.99it/s]"
     ]
    },
    {
     "name": "stdout",
     "output_type": "stream",
     "text": [
      "left line curvature: 987.6034616445891\n",
      "right line curvature: 608.8332872485694\n",
      "distance from center [0.24518762]\n",
      "left line curvature: 962.6550271980163\n",
      "right line curvature: 620.6909803382737\n",
      "distance from center [0.24887673]\n"
     ]
    },
    {
     "name": "stderr",
     "output_type": "stream",
     "text": [
      " 71%|███████▏  | 901/1261 [02:08<00:51,  6.99it/s]"
     ]
    },
    {
     "name": "stdout",
     "output_type": "stream",
     "text": [
      "left line curvature: 801.0940834171131\n",
      "right line curvature: 505.145108998405\n",
      "distance from center [0.26019966]\n",
      "left line curvature: 806.7998708635317\n",
      "right line curvature: 452.2861172021542\n",
      "distance from center [0.26381461]\n"
     ]
    },
    {
     "name": "stderr",
     "output_type": "stream",
     "text": [
      " 72%|███████▏  | 903/1261 [02:09<00:51,  6.99it/s]"
     ]
    },
    {
     "name": "stdout",
     "output_type": "stream",
     "text": [
      "left line curvature: 794.7392288137952\n",
      "right line curvature: 480.7225007649549\n",
      "distance from center [0.26441349]\n",
      "left line curvature: 742.1823488090723\n",
      "right line curvature: 470.14586619872347\n",
      "distance from center [0.27072596]\n"
     ]
    },
    {
     "name": "stderr",
     "output_type": "stream",
     "text": [
      " 72%|███████▏  | 905/1261 [02:09<00:50,  6.99it/s]"
     ]
    },
    {
     "name": "stdout",
     "output_type": "stream",
     "text": [
      "left line curvature: 749.1111218002108\n",
      "right line curvature: 452.41041235135236\n",
      "distance from center [0.27738028]\n",
      "left line curvature: 734.8744005729543\n",
      "right line curvature: 485.9067841278422\n",
      "distance from center [0.27396002]\n"
     ]
    },
    {
     "name": "stderr",
     "output_type": "stream",
     "text": [
      " 72%|███████▏  | 907/1261 [02:09<00:50,  6.99it/s]"
     ]
    },
    {
     "name": "stdout",
     "output_type": "stream",
     "text": [
      "left line curvature: 655.1115592872866\n",
      "right line curvature: 488.86198989296463\n",
      "distance from center [0.27560199]\n",
      "left line curvature: 639.1213144081318\n",
      "right line curvature: 451.52702639228136\n",
      "distance from center [0.28117428]\n"
     ]
    },
    {
     "name": "stderr",
     "output_type": "stream",
     "text": [
      " 72%|███████▏  | 909/1261 [02:09<00:50,  6.99it/s]"
     ]
    },
    {
     "name": "stdout",
     "output_type": "stream",
     "text": [
      "left line curvature: 532.7751147072219\n",
      "right line curvature: 531.1087570275764\n",
      "distance from center [0.26750651]\n",
      "left line curvature: 547.6842257735354\n",
      "right line curvature: 491.48885413571395\n",
      "distance from center [0.26559927]\n"
     ]
    },
    {
     "name": "stderr",
     "output_type": "stream",
     "text": [
      " 72%|███████▏  | 911/1261 [02:10<00:50,  7.00it/s]"
     ]
    },
    {
     "name": "stdout",
     "output_type": "stream",
     "text": [
      "left line curvature: 471.7533218031957\n",
      "right line curvature: 457.242145869884\n",
      "distance from center [0.26729963]\n",
      "left line curvature: 486.50787325365616\n",
      "right line curvature: 428.73124521936427\n",
      "distance from center [0.26915189]\n"
     ]
    },
    {
     "name": "stderr",
     "output_type": "stream",
     "text": [
      " 72%|███████▏  | 913/1261 [02:10<00:49,  7.00it/s]"
     ]
    },
    {
     "name": "stdout",
     "output_type": "stream",
     "text": [
      "left line curvature: 438.56453213480796\n",
      "right line curvature: 449.6696618593652\n",
      "distance from center [0.270193]\n",
      "left line curvature: 414.4274303946717\n",
      "right line curvature: 424.5068934693548\n",
      "distance from center [0.2634256]\n"
     ]
    },
    {
     "name": "stderr",
     "output_type": "stream",
     "text": [
      " 73%|███████▎  | 915/1261 [02:10<00:49,  7.00it/s]"
     ]
    },
    {
     "name": "stdout",
     "output_type": "stream",
     "text": [
      "left line curvature: 431.5474776062381\n",
      "right line curvature: 456.6752778146842\n",
      "distance from center [0.25217237]\n",
      "left line curvature: 442.59684648274515\n",
      "right line curvature: 506.50205818746963\n",
      "distance from center [0.24213956]\n"
     ]
    },
    {
     "name": "stderr",
     "output_type": "stream",
     "text": [
      " 73%|███████▎  | 917/1261 [02:11<00:49,  7.00it/s]"
     ]
    },
    {
     "name": "stdout",
     "output_type": "stream",
     "text": [
      "left line curvature: 413.88197705914797\n",
      "right line curvature: 499.33083526151887\n",
      "distance from center [0.24216813]\n",
      "left line curvature: 411.8093004659604\n",
      "right line curvature: 527.3090961473454\n",
      "distance from center [0.2343464]\n"
     ]
    },
    {
     "name": "stderr",
     "output_type": "stream",
     "text": [
      " 73%|███████▎  | 919/1261 [02:11<00:48,  7.00it/s]"
     ]
    },
    {
     "name": "stdout",
     "output_type": "stream",
     "text": [
      "left line curvature: 421.50792103460617\n",
      "right line curvature: 888.8728960128741\n",
      "distance from center [0.18454229]\n",
      "left line curvature: 433.739977489245\n",
      "right line curvature: 1036.4031463564625\n",
      "distance from center [0.18321029]\n"
     ]
    },
    {
     "name": "stderr",
     "output_type": "stream",
     "text": [
      " 73%|███████▎  | 921/1261 [02:11<00:48,  7.00it/s]"
     ]
    },
    {
     "name": "stdout",
     "output_type": "stream",
     "text": [
      "left line curvature: 458.8161836513908\n",
      "right line curvature: 809.0312366709795\n",
      "distance from center [0.18564844]\n",
      "left line curvature: 504.3639293332198\n",
      "right line curvature: 747.1081113918849\n",
      "distance from center [0.18648224]\n"
     ]
    },
    {
     "name": "stderr",
     "output_type": "stream",
     "text": [
      " 73%|███████▎  | 923/1261 [02:11<00:48,  7.00it/s]"
     ]
    },
    {
     "name": "stdout",
     "output_type": "stream",
     "text": [
      "left line curvature: 550.4626431797002\n",
      "right line curvature: 588.0006822002391\n",
      "distance from center [0.19208336]\n",
      "left line curvature: 560.3630232885123\n",
      "right line curvature: 581.4540810742997\n",
      "distance from center [0.18864421]\n"
     ]
    },
    {
     "name": "stderr",
     "output_type": "stream",
     "text": [
      " 73%|███████▎  | 925/1261 [02:12<00:47,  7.00it/s]"
     ]
    },
    {
     "name": "stdout",
     "output_type": "stream",
     "text": [
      "left line curvature: 579.7749203368754\n",
      "right line curvature: 566.9895367526316\n",
      "distance from center [0.18911836]\n",
      "left line curvature: 594.8416634491916\n",
      "right line curvature: 520.5087724636846\n",
      "distance from center [0.18780195]\n"
     ]
    },
    {
     "name": "stderr",
     "output_type": "stream",
     "text": [
      " 74%|███████▎  | 927/1261 [02:12<00:47,  7.00it/s]"
     ]
    },
    {
     "name": "stdout",
     "output_type": "stream",
     "text": [
      "left line curvature: 657.7690281258026\n",
      "right line curvature: 487.08301913462856\n",
      "distance from center [0.18608916]\n",
      "left line curvature: 656.8562476427531\n",
      "right line curvature: 501.17159299466374\n",
      "distance from center [0.19008576]\n"
     ]
    },
    {
     "name": "stderr",
     "output_type": "stream",
     "text": [
      " 74%|███████▎  | 929/1261 [02:12<00:47,  7.00it/s]"
     ]
    },
    {
     "name": "stdout",
     "output_type": "stream",
     "text": [
      "left line curvature: 676.7244124075717\n",
      "right line curvature: 519.7214663260072\n",
      "distance from center [0.18844043]\n",
      "left line curvature: 706.9157655747405\n",
      "right line curvature: 514.1910022345196\n",
      "distance from center [0.19349097]\n"
     ]
    },
    {
     "name": "stderr",
     "output_type": "stream",
     "text": [
      " 74%|███████▍  | 931/1261 [02:12<00:47,  7.00it/s]"
     ]
    },
    {
     "name": "stdout",
     "output_type": "stream",
     "text": [
      "left line curvature: 712.2895865173275\n",
      "right line curvature: 548.3801541637156\n",
      "distance from center [0.18504031]\n",
      "left line curvature: 672.2445882413434\n",
      "right line curvature: 456.74430590406575\n",
      "distance from center [0.20664005]\n"
     ]
    },
    {
     "name": "stderr",
     "output_type": "stream",
     "text": [
      " 74%|███████▍  | 933/1261 [02:13<00:46,  7.01it/s]"
     ]
    },
    {
     "name": "stdout",
     "output_type": "stream",
     "text": [
      "left line curvature: 662.7731482129643\n",
      "right line curvature: 470.89079308421594\n",
      "distance from center [0.20825765]\n",
      "left line curvature: 618.2822612822389\n",
      "right line curvature: 415.90167333332107\n",
      "distance from center [0.22206837]\n"
     ]
    },
    {
     "name": "stderr",
     "output_type": "stream",
     "text": [
      " 74%|███████▍  | 935/1261 [02:13<00:46,  7.01it/s]"
     ]
    },
    {
     "name": "stdout",
     "output_type": "stream",
     "text": [
      "left line curvature: 576.0709343387904\n",
      "right line curvature: 403.1951309904864\n",
      "distance from center [0.2385924]\n",
      "left line curvature: 543.5872828498917\n",
      "right line curvature: 383.23614784850525\n",
      "distance from center [0.2410105]\n"
     ]
    },
    {
     "name": "stderr",
     "output_type": "stream",
     "text": [
      " 74%|███████▍  | 937/1261 [02:13<00:46,  7.01it/s]"
     ]
    },
    {
     "name": "stdout",
     "output_type": "stream",
     "text": [
      "left line curvature: 493.18625060973716\n",
      "right line curvature: 365.4870148033072\n",
      "distance from center [0.25005731]\n",
      "left line curvature: 495.88178965538026\n",
      "right line curvature: 396.67485021131654\n",
      "distance from center [0.24732832]\n"
     ]
    },
    {
     "name": "stderr",
     "output_type": "stream",
     "text": [
      " 74%|███████▍  | 939/1261 [02:13<00:45,  7.01it/s]"
     ]
    },
    {
     "name": "stdout",
     "output_type": "stream",
     "text": [
      "left line curvature: 482.66551063367655\n",
      "right line curvature: 403.3957043970485\n",
      "distance from center [0.24859638]\n",
      "left line curvature: 489.8107996573893\n",
      "right line curvature: 424.7490078064857\n",
      "distance from center [0.24308574]\n"
     ]
    },
    {
     "name": "stderr",
     "output_type": "stream",
     "text": [
      " 75%|███████▍  | 941/1261 [02:14<00:45,  7.01it/s]"
     ]
    },
    {
     "name": "stdout",
     "output_type": "stream",
     "text": [
      "left line curvature: 439.6151784433416\n",
      "right line curvature: 472.5202905300435\n",
      "distance from center [0.23262337]\n",
      "left line curvature: 418.5674242152075\n",
      "right line curvature: 493.4612737669291\n",
      "distance from center [0.22434878]\n"
     ]
    },
    {
     "name": "stderr",
     "output_type": "stream",
     "text": [
      " 75%|███████▍  | 943/1261 [02:14<00:45,  7.01it/s]"
     ]
    },
    {
     "name": "stdout",
     "output_type": "stream",
     "text": [
      "left line curvature: 413.8347518118143\n",
      "right line curvature: 706.4323973033462\n",
      "distance from center [0.19531962]\n",
      "left line curvature: 419.86270783136126\n",
      "right line curvature: 734.9552986742806\n",
      "distance from center [0.19909572]\n"
     ]
    },
    {
     "name": "stderr",
     "output_type": "stream",
     "text": [
      " 75%|███████▍  | 945/1261 [02:14<00:45,  7.01it/s]"
     ]
    },
    {
     "name": "stdout",
     "output_type": "stream",
     "text": [
      "left line curvature: 469.4850180566069\n",
      "right line curvature: 782.7262057426798\n",
      "distance from center [0.19629495]\n",
      "left line curvature: 468.23644445904085\n",
      "right line curvature: 582.7521272835969\n",
      "distance from center [0.2064389]\n"
     ]
    },
    {
     "name": "stderr",
     "output_type": "stream",
     "text": [
      " 75%|███████▌  | 947/1261 [02:15<00:44,  7.01it/s]"
     ]
    },
    {
     "name": "stdout",
     "output_type": "stream",
     "text": [
      "left line curvature: 487.39501772163067\n",
      "right line curvature: 584.3157727638007\n",
      "distance from center [0.20931097]\n",
      "left line curvature: 543.966202789099\n",
      "right line curvature: 533.0378559366707\n",
      "distance from center [0.21385917]\n"
     ]
    },
    {
     "name": "stderr",
     "output_type": "stream",
     "text": [
      " 75%|███████▌  | 949/1261 [02:15<00:44,  7.01it/s]"
     ]
    },
    {
     "name": "stdout",
     "output_type": "stream",
     "text": [
      "left line curvature: 540.3443433993017\n",
      "right line curvature: 552.9112344927536\n",
      "distance from center [0.21075745]\n",
      "left line curvature: 530.5388033246917\n",
      "right line curvature: 621.4026436637174\n",
      "distance from center [0.21497866]\n"
     ]
    },
    {
     "name": "stderr",
     "output_type": "stream",
     "text": [
      " 75%|███████▌  | 951/1261 [02:15<00:44,  7.01it/s]"
     ]
    },
    {
     "name": "stdout",
     "output_type": "stream",
     "text": [
      "left line curvature: 587.0959055553824\n",
      "right line curvature: 625.2738795999519\n",
      "distance from center [0.20781142]\n",
      "left line curvature: 567.0907103390691\n",
      "right line curvature: 664.6127338792999\n",
      "distance from center [0.21083723]\n"
     ]
    },
    {
     "name": "stderr",
     "output_type": "stream",
     "text": [
      " 76%|███████▌  | 953/1261 [02:15<00:43,  7.02it/s]"
     ]
    },
    {
     "name": "stdout",
     "output_type": "stream",
     "text": [
      "left line curvature: 563.5793775542697\n",
      "right line curvature: 743.7008816004131\n",
      "distance from center [0.20942684]\n",
      "left line curvature: 579.7169479585384\n",
      "right line curvature: 1265.7405252672283\n",
      "distance from center [0.17846828]\n"
     ]
    },
    {
     "name": "stderr",
     "output_type": "stream",
     "text": [
      " 76%|███████▌  | 955/1261 [02:16<00:43,  7.02it/s]"
     ]
    },
    {
     "name": "stdout",
     "output_type": "stream",
     "text": [
      "left line curvature: 570.8734343871198\n",
      "right line curvature: 3867.328178718869\n",
      "distance from center [0.17076733]\n",
      "left line curvature: 650.460677444926\n",
      "right line curvature: 1619.7547733423128\n",
      "distance from center [0.18516069]\n"
     ]
    },
    {
     "name": "stderr",
     "output_type": "stream",
     "text": [
      " 76%|███████▌  | 957/1261 [02:16<00:43,  7.02it/s]"
     ]
    },
    {
     "name": "stdout",
     "output_type": "stream",
     "text": [
      "left line curvature: 594.5113447076969\n",
      "right line curvature: 1168.5871844914177\n",
      "distance from center [0.20685778]\n",
      "left line curvature: 631.996477193208\n",
      "right line curvature: 1711.9304647196218\n",
      "distance from center [0.20694901]\n"
     ]
    },
    {
     "name": "stderr",
     "output_type": "stream",
     "text": [
      " 76%|███████▌  | 959/1261 [02:16<00:43,  7.02it/s]"
     ]
    },
    {
     "name": "stdout",
     "output_type": "stream",
     "text": [
      "left line curvature: 587.6579878473884\n",
      "right line curvature: 790.0090653600339\n",
      "distance from center [0.24006931]\n",
      "left line curvature: 627.6538776669141\n",
      "right line curvature: 907.1445792268422\n",
      "distance from center [0.24550818]\n"
     ]
    },
    {
     "name": "stderr",
     "output_type": "stream",
     "text": [
      " 76%|███████▌  | 961/1261 [02:16<00:42,  7.02it/s]"
     ]
    },
    {
     "name": "stdout",
     "output_type": "stream",
     "text": [
      "left line curvature: 654.2916248374066\n",
      "right line curvature: 684.5467471600822\n",
      "distance from center [0.2539571]\n",
      "left line curvature: 667.932129870504\n",
      "right line curvature: 747.7120787934806\n",
      "distance from center [0.26701488]\n"
     ]
    },
    {
     "name": "stderr",
     "output_type": "stream",
     "text": [
      " 76%|███████▋  | 963/1261 [02:17<00:42,  7.02it/s]"
     ]
    },
    {
     "name": "stdout",
     "output_type": "stream",
     "text": [
      "left line curvature: 801.3537201291879\n",
      "right line curvature: 812.7224644719399\n",
      "distance from center [0.26694132]\n",
      "left line curvature: 822.6271946402882\n",
      "right line curvature: 779.033890910108\n",
      "distance from center [0.27991114]\n"
     ]
    },
    {
     "name": "stderr",
     "output_type": "stream",
     "text": [
      " 77%|███████▋  | 965/1261 [02:17<00:42,  7.02it/s]"
     ]
    },
    {
     "name": "stdout",
     "output_type": "stream",
     "text": [
      "left line curvature: 975.7096977071001\n",
      "right line curvature: 1029.460379717417\n",
      "distance from center [0.27848296]\n",
      "left line curvature: 1102.8778000462307\n",
      "right line curvature: 1646.0284022360536\n",
      "distance from center [0.26294263]\n"
     ]
    },
    {
     "name": "stderr",
     "output_type": "stream",
     "text": [
      " 77%|███████▋  | 967/1261 [02:17<00:41,  7.02it/s]"
     ]
    },
    {
     "name": "stdout",
     "output_type": "stream",
     "text": [
      "left line curvature: 1308.04628498718\n",
      "right line curvature: 1269.9093684056375\n",
      "distance from center [0.28245785]\n",
      "left line curvature: 742.4203087038443\n",
      "right line curvature: 1180.9411730218196\n",
      "distance from center [0.30765082]\n"
     ]
    },
    {
     "name": "stderr",
     "output_type": "stream",
     "text": [
      " 77%|███████▋  | 969/1261 [02:17<00:41,  7.02it/s]"
     ]
    },
    {
     "name": "stdout",
     "output_type": "stream",
     "text": [
      "left line curvature: 911.6868642136217\n",
      "right line curvature: 1272.0810438319484\n",
      "distance from center [0.31122781]\n",
      "left line curvature: 1684.9113831128068\n",
      "right line curvature: 1178.445945136503\n",
      "distance from center [0.31373516]\n"
     ]
    },
    {
     "name": "stderr",
     "output_type": "stream",
     "text": [
      " 77%|███████▋  | 971/1261 [02:18<00:41,  7.02it/s]"
     ]
    },
    {
     "name": "stdout",
     "output_type": "stream",
     "text": [
      "left line curvature: 1644.5933791495418\n",
      "right line curvature: 1223.1334079111273\n",
      "distance from center [0.32350647]\n",
      "left line curvature: 1884.3616929464365\n",
      "right line curvature: 2093.9857535586816\n",
      "distance from center [0.32363687]\n"
     ]
    },
    {
     "name": "stderr",
     "output_type": "stream",
     "text": [
      " 77%|███████▋  | 973/1261 [02:18<00:41,  7.02it/s]"
     ]
    },
    {
     "name": "stdout",
     "output_type": "stream",
     "text": [
      "left line curvature: 3294.2959055264155\n",
      "right line curvature: 2393.5355902706046\n",
      "distance from center [0.32761548]\n",
      "left line curvature: 5303.357017276026\n",
      "right line curvature: 2285.8711833042294\n",
      "distance from center [0.33470325]\n"
     ]
    },
    {
     "name": "stderr",
     "output_type": "stream",
     "text": [
      " 77%|███████▋  | 975/1261 [02:18<00:40,  7.02it/s]"
     ]
    },
    {
     "name": "stdout",
     "output_type": "stream",
     "text": [
      "left line curvature: 4474.602002744915\n",
      "right line curvature: 2703.667419333889\n",
      "distance from center [0.34267159]\n",
      "left line curvature: 1381.64653645381\n",
      "right line curvature: 899.2255858428264\n",
      "distance from center [0.32381835]\n"
     ]
    },
    {
     "name": "stderr",
     "output_type": "stream",
     "text": [
      " 77%|███████▋  | 977/1261 [02:19<00:40,  7.03it/s]"
     ]
    },
    {
     "name": "stdout",
     "output_type": "stream",
     "text": [
      "left line curvature: 914.0172238309354\n",
      "right line curvature: 1434.050690972218\n",
      "distance from center [0.37657458]\n",
      "left line curvature: 1963.1834204341706\n",
      "right line curvature: 664.8412691422033\n",
      "distance from center [0.40079724]\n"
     ]
    },
    {
     "name": "stderr",
     "output_type": "stream",
     "text": [
      " 78%|███████▊  | 979/1261 [02:19<00:40,  7.03it/s]"
     ]
    },
    {
     "name": "stdout",
     "output_type": "stream",
     "text": [
      "left line curvature: 2547.5176461222245\n",
      "right line curvature: 510.98065344524554\n",
      "distance from center [0.40720847]\n",
      "left line curvature: 5516.983413373297\n",
      "right line curvature: 456.9163661299842\n",
      "distance from center [0.41658909]\n"
     ]
    },
    {
     "name": "stderr",
     "output_type": "stream",
     "text": [
      " 78%|███████▊  | 981/1261 [02:19<00:39,  7.03it/s]"
     ]
    },
    {
     "name": "stdout",
     "output_type": "stream",
     "text": [
      "left line curvature: 769.4224210296975\n",
      "right line curvature: 405.0331368146651\n",
      "distance from center [0.43486353]\n",
      "left line curvature: 925.7085255133322\n",
      "right line curvature: 366.36474401473157\n",
      "distance from center [0.44185161]\n"
     ]
    },
    {
     "name": "stderr",
     "output_type": "stream",
     "text": [
      " 78%|███████▊  | 983/1261 [02:19<00:39,  7.03it/s]"
     ]
    },
    {
     "name": "stdout",
     "output_type": "stream",
     "text": [
      "left line curvature: 629.9294620506033\n",
      "right line curvature: 429.6068930726582\n",
      "distance from center [0.43333699]\n",
      "left line curvature: 487.3948265719237\n",
      "right line curvature: 406.26218004428813\n",
      "distance from center [0.43864806]\n"
     ]
    },
    {
     "name": "stderr",
     "output_type": "stream",
     "text": [
      " 78%|███████▊  | 985/1261 [02:20<00:39,  7.03it/s]"
     ]
    },
    {
     "name": "stdout",
     "output_type": "stream",
     "text": [
      "left line curvature: 524.8510572809402\n",
      "right line curvature: 397.99669928226956\n",
      "distance from center [0.43928192]\n",
      "left line curvature: 629.1770110023995\n",
      "right line curvature: 412.52683610613434\n",
      "distance from center [0.42187145]\n"
     ]
    },
    {
     "name": "stderr",
     "output_type": "stream",
     "text": [
      " 78%|███████▊  | 987/1261 [02:20<00:38,  7.03it/s]"
     ]
    },
    {
     "name": "stdout",
     "output_type": "stream",
     "text": [
      "left line curvature: 1354.4726480121055\n",
      "right line curvature: 404.4264504222182\n",
      "distance from center [0.41057443]\n",
      "left line curvature: 1243.1496273200662\n",
      "right line curvature: 392.1921222123119\n",
      "distance from center [0.41567761]\n"
     ]
    },
    {
     "name": "stderr",
     "output_type": "stream",
     "text": [
      " 78%|███████▊  | 989/1261 [02:20<00:38,  7.03it/s]"
     ]
    },
    {
     "name": "stdout",
     "output_type": "stream",
     "text": [
      "left line curvature: 942.7122863939007\n",
      "right line curvature: 319.05752120453343\n",
      "distance from center [0.44242918]\n",
      "left line curvature: 61873.19131697096\n",
      "right line curvature: 262.99642349201065\n",
      "distance from center [0.43975649]\n"
     ]
    },
    {
     "name": "stderr",
     "output_type": "stream",
     "text": [
      " 79%|███████▊  | 991/1261 [02:20<00:38,  7.03it/s]"
     ]
    },
    {
     "name": "stdout",
     "output_type": "stream",
     "text": [
      "left line curvature: 377.1000713372704\n",
      "right line curvature: 557.3495493347616\n",
      "distance from center [0.28234775]\n",
      "left line curvature: 1311.6705017933211\n",
      "right line curvature: 450.8428655238284\n",
      "distance from center [0.31921539]\n"
     ]
    },
    {
     "name": "stderr",
     "output_type": "stream",
     "text": [
      " 79%|███████▊  | 993/1261 [02:21<00:38,  7.03it/s]"
     ]
    },
    {
     "name": "stdout",
     "output_type": "stream",
     "text": [
      "left line curvature: 1169.5478412227094\n",
      "right line curvature: 515.4126313885877\n",
      "distance from center [0.35112849]\n",
      "left line curvature: 1954.5212538683834\n",
      "right line curvature: 463.59160565551383\n",
      "distance from center [0.3523624]\n"
     ]
    },
    {
     "name": "stderr",
     "output_type": "stream",
     "text": [
      " 79%|███████▉  | 995/1261 [02:21<00:37,  7.04it/s]"
     ]
    },
    {
     "name": "stdout",
     "output_type": "stream",
     "text": [
      "left line curvature: 1410.4953779538916\n",
      "right line curvature: 417.48759536093183\n",
      "distance from center [0.35248141]\n",
      "left line curvature: 462.1268728331087\n",
      "right line curvature: 395.61702398368953\n",
      "distance from center [0.35518426]\n"
     ]
    },
    {
     "name": "stderr",
     "output_type": "stream",
     "text": [
      " 79%|███████▉  | 997/1261 [02:21<00:37,  7.04it/s]"
     ]
    },
    {
     "name": "stdout",
     "output_type": "stream",
     "text": [
      "left line curvature: 295.21788350958\n",
      "right line curvature: 372.86597272822803\n",
      "distance from center [0.3542575]\n",
      "left line curvature: 192.57390860189386\n",
      "right line curvature: 393.45716038659833\n",
      "distance from center [0.36975321]\n"
     ]
    },
    {
     "name": "stderr",
     "output_type": "stream",
     "text": [
      " 79%|███████▉  | 999/1261 [02:21<00:37,  7.04it/s]"
     ]
    },
    {
     "name": "stdout",
     "output_type": "stream",
     "text": [
      "left line curvature: 198.74559370215002\n",
      "right line curvature: 421.09753390715326\n",
      "distance from center [0.33517495]\n",
      "left line curvature: 234.09962235519825\n",
      "right line curvature: 496.17269726259616\n",
      "distance from center [0.2892597]\n"
     ]
    },
    {
     "name": "stderr",
     "output_type": "stream",
     "text": [
      " 79%|███████▉  | 1001/1261 [02:22<00:36,  7.04it/s]"
     ]
    },
    {
     "name": "stdout",
     "output_type": "stream",
     "text": [
      "left line curvature: 305.57397718276803\n",
      "right line curvature: 553.3541246986233\n",
      "distance from center [0.24288351]\n",
      "left line curvature: 337.82796714833717\n",
      "right line curvature: 1351.4727821409292\n",
      "distance from center [0.14599044]\n"
     ]
    },
    {
     "name": "stderr",
     "output_type": "stream",
     "text": [
      " 80%|███████▉  | 1003/1261 [02:22<00:36,  7.04it/s]"
     ]
    },
    {
     "name": "stdout",
     "output_type": "stream",
     "text": [
      "left line curvature: 432.804901189767\n",
      "right line curvature: 937.6577431036623\n",
      "distance from center [0.16400813]\n",
      "left line curvature: 746.2877956343784\n",
      "right line curvature: 716.5110735579741\n",
      "distance from center [0.17402215]\n"
     ]
    },
    {
     "name": "stderr",
     "output_type": "stream",
     "text": [
      " 80%|███████▉  | 1005/1261 [02:22<00:36,  7.04it/s]"
     ]
    },
    {
     "name": "stdout",
     "output_type": "stream",
     "text": [
      "left line curvature: 697.7779801812264\n",
      "right line curvature: 740.1462245016482\n",
      "distance from center [0.18435376]\n",
      "left line curvature: 668.8154592688387\n",
      "right line curvature: 377.0436185110511\n",
      "distance from center [0.25315597]\n"
     ]
    },
    {
     "name": "stderr",
     "output_type": "stream",
     "text": [
      " 80%|███████▉  | 1007/1261 [02:22<00:36,  7.04it/s]"
     ]
    },
    {
     "name": "stdout",
     "output_type": "stream",
     "text": [
      "left line curvature: 705.7485290130847\n",
      "right line curvature: 462.6785144521788\n",
      "distance from center [0.2367159]\n",
      "left line curvature: 615.6839568337381\n",
      "right line curvature: 617.6976571549161\n",
      "distance from center [0.21289702]\n"
     ]
    },
    {
     "name": "stderr",
     "output_type": "stream",
     "text": [
      " 80%|████████  | 1009/1261 [02:23<00:35,  7.04it/s]"
     ]
    },
    {
     "name": "stdout",
     "output_type": "stream",
     "text": [
      "left line curvature: 795.0409233183192\n",
      "right line curvature: 405.66221268507724\n",
      "distance from center [0.22357233]\n",
      "left line curvature: 941.1214881944419\n",
      "right line curvature: 425.7943978140941\n",
      "distance from center [0.21252014]\n"
     ]
    },
    {
     "name": "stderr",
     "output_type": "stream",
     "text": [
      " 80%|████████  | 1011/1261 [02:23<00:35,  7.04it/s]"
     ]
    },
    {
     "name": "stdout",
     "output_type": "stream",
     "text": [
      "left line curvature: 943.6155756099217\n",
      "right line curvature: 430.36051749838435\n",
      "distance from center [0.19274996]\n",
      "left line curvature: 866.5730905803257\n",
      "right line curvature: 411.08433820393844\n",
      "distance from center [0.17834182]\n"
     ]
    },
    {
     "name": "stderr",
     "output_type": "stream",
     "text": [
      " 80%|████████  | 1013/1261 [02:23<00:35,  7.04it/s]"
     ]
    },
    {
     "name": "stdout",
     "output_type": "stream",
     "text": [
      "left line curvature: 851.6244772519663\n",
      "right line curvature: 482.6193635423307\n",
      "distance from center [0.16223748]\n",
      "left line curvature: 902.7823090868031\n",
      "right line curvature: 453.0855669464367\n",
      "distance from center [0.14949509]\n"
     ]
    },
    {
     "name": "stderr",
     "output_type": "stream",
     "text": [
      " 80%|████████  | 1015/1261 [02:24<00:34,  7.05it/s]"
     ]
    },
    {
     "name": "stdout",
     "output_type": "stream",
     "text": [
      "left line curvature: 1158.5358272151059\n",
      "right line curvature: 486.6532084204196\n",
      "distance from center [0.15026529]\n",
      "left line curvature: 1329.952777064875\n",
      "right line curvature: 443.3773083687084\n",
      "distance from center [0.14525102]\n"
     ]
    },
    {
     "name": "stderr",
     "output_type": "stream",
     "text": [
      " 81%|████████  | 1017/1261 [02:24<00:34,  7.05it/s]"
     ]
    },
    {
     "name": "stdout",
     "output_type": "stream",
     "text": [
      "left line curvature: 542.8464463233037\n",
      "right line curvature: 523.8250499934938\n",
      "distance from center [0.15739328]\n",
      "left line curvature: 569.0143208925491\n",
      "right line curvature: 531.6226572549707\n",
      "distance from center [0.13984184]\n"
     ]
    },
    {
     "name": "stderr",
     "output_type": "stream",
     "text": [
      " 81%|████████  | 1019/1261 [02:24<00:34,  7.05it/s]"
     ]
    },
    {
     "name": "stdout",
     "output_type": "stream",
     "text": [
      "left line curvature: 847.105702851241\n",
      "right line curvature: 810.3421787376434\n",
      "distance from center [0.09071029]\n",
      "left line curvature: 653.4667774217661\n",
      "right line curvature: 825.6044237749207\n",
      "distance from center [0.10194113]\n"
     ]
    },
    {
     "name": "stderr",
     "output_type": "stream",
     "text": [
      " 81%|████████  | 1021/1261 [02:24<00:34,  7.05it/s]"
     ]
    },
    {
     "name": "stdout",
     "output_type": "stream",
     "text": [
      "left line curvature: 558.7110153886384\n",
      "right line curvature: 813.3562214031366\n",
      "distance from center [0.11827789]\n",
      "left line curvature: 1265.8775809695082\n",
      "right line curvature: 685.9382766968627\n",
      "distance from center [0.10524456]\n"
     ]
    },
    {
     "name": "stderr",
     "output_type": "stream",
     "text": [
      " 81%|████████  | 1023/1261 [02:25<00:33,  7.05it/s]"
     ]
    },
    {
     "name": "stdout",
     "output_type": "stream",
     "text": [
      "left line curvature: 408.7505067712913\n",
      "right line curvature: 717.4837707695993\n",
      "distance from center [0.13705497]\n",
      "left line curvature: 359.29009992679306\n",
      "right line curvature: 740.019789749692\n",
      "distance from center [0.13140568]\n"
     ]
    },
    {
     "name": "stderr",
     "output_type": "stream",
     "text": [
      " 81%|████████▏ | 1025/1261 [02:25<00:33,  7.05it/s]"
     ]
    },
    {
     "name": "stdout",
     "output_type": "stream",
     "text": [
      "left line curvature: 297.6606968497283\n",
      "right line curvature: 750.5362106794385\n",
      "distance from center [0.13983738]\n",
      "left line curvature: 305.561053520074\n",
      "right line curvature: 738.216611968105\n",
      "distance from center [0.13306949]\n"
     ]
    },
    {
     "name": "stderr",
     "output_type": "stream",
     "text": [
      " 81%|████████▏ | 1027/1261 [02:25<00:33,  7.05it/s]"
     ]
    },
    {
     "name": "stdout",
     "output_type": "stream",
     "text": [
      "left line curvature: 413.7697783728062\n",
      "right line curvature: 736.6856580861229\n",
      "distance from center [0.10918392]\n",
      "left line curvature: 546.9426270802386\n",
      "right line curvature: 450.63616664200356\n",
      "distance from center [0.1120592]\n"
     ]
    },
    {
     "name": "stderr",
     "output_type": "stream",
     "text": [
      " 82%|████████▏ | 1029/1261 [02:26<00:32,  7.05it/s]"
     ]
    },
    {
     "name": "stdout",
     "output_type": "stream",
     "text": [
      "left line curvature: 1074.7517028104905\n",
      "right line curvature: 400.0346371470353\n",
      "distance from center [0.08989571]\n",
      "left line curvature: 1058.8609850003959\n",
      "right line curvature: 376.7215689669699\n",
      "distance from center [0.08789159]\n"
     ]
    },
    {
     "name": "stderr",
     "output_type": "stream",
     "text": [
      " 82%|████████▏ | 1031/1261 [02:26<00:32,  7.05it/s]"
     ]
    },
    {
     "name": "stdout",
     "output_type": "stream",
     "text": [
      "left line curvature: 1777.0672022012475\n",
      "right line curvature: 349.2410078988901\n",
      "distance from center [0.07886554]\n",
      "left line curvature: 1785.5536834572754\n",
      "right line curvature: 341.0469904914428\n",
      "distance from center [0.07103263]\n"
     ]
    },
    {
     "name": "stderr",
     "output_type": "stream",
     "text": [
      " 82%|████████▏ | 1033/1261 [02:26<00:32,  7.05it/s]"
     ]
    },
    {
     "name": "stdout",
     "output_type": "stream",
     "text": [
      "left line curvature: 1321.5398640225717\n",
      "right line curvature: 310.4013244557128\n",
      "distance from center [0.08792163]\n",
      "left line curvature: 1509.2165450485315\n",
      "right line curvature: 292.22080096900595\n",
      "distance from center [0.08274001]\n"
     ]
    },
    {
     "name": "stderr",
     "output_type": "stream",
     "text": [
      " 82%|████████▏ | 1035/1261 [02:26<00:32,  7.05it/s]"
     ]
    },
    {
     "name": "stdout",
     "output_type": "stream",
     "text": [
      "left line curvature: 880.8746265030347\n",
      "right line curvature: 328.7726179977578\n",
      "distance from center [0.08350148]\n",
      "left line curvature: 531.354696585502\n",
      "right line curvature: 291.69718555546035\n",
      "distance from center [0.10622962]\n"
     ]
    },
    {
     "name": "stderr",
     "output_type": "stream",
     "text": [
      " 82%|████████▏ | 1037/1261 [02:27<00:31,  7.05it/s]"
     ]
    },
    {
     "name": "stdout",
     "output_type": "stream",
     "text": [
      "left line curvature: 343.05441666735186\n",
      "right line curvature: 233.82531343549837\n",
      "distance from center [0.11380643]\n",
      "left line curvature: 360.2867061747269\n",
      "right line curvature: 184.81459492126783\n",
      "distance from center [0.07504247]\n"
     ]
    },
    {
     "name": "stderr",
     "output_type": "stream",
     "text": [
      " 82%|████████▏ | 1039/1261 [02:27<00:31,  7.05it/s]"
     ]
    },
    {
     "name": "stdout",
     "output_type": "stream",
     "text": [
      "left line curvature: 325.0371517532596\n",
      "right line curvature: 224.14328992548235\n",
      "distance from center [0.07470244]\n",
      "left line curvature: 288.2690901636866\n",
      "right line curvature: 284.59663939500757\n",
      "distance from center [0.25518562]\n"
     ]
    },
    {
     "name": "stderr",
     "output_type": "stream",
     "text": [
      " 83%|████████▎ | 1041/1261 [02:27<00:31,  7.05it/s]"
     ]
    },
    {
     "name": "stdout",
     "output_type": "stream",
     "text": [
      "left line curvature: 252.47108652221397\n",
      "right line curvature: 593.1786437399212\n",
      "distance from center [0.40590905]\n",
      "left line curvature: 263.1585788164272\n",
      "right line curvature: 1064.9282156962545\n",
      "distance from center [0.66122153]\n"
     ]
    },
    {
     "name": "stderr",
     "output_type": "stream",
     "text": [
      " 83%|████████▎ | 1043/1261 [02:28<00:30,  7.05it/s]"
     ]
    },
    {
     "name": "stdout",
     "output_type": "stream",
     "text": [
      "left line curvature: 349.5459846598854\n",
      "right line curvature: 510.7896151641086\n",
      "distance from center [0.81384661]\n",
      "left line curvature: 434.82987823613854\n",
      "right line curvature: 171.56845000737184\n",
      "distance from center [1.1568993]\n"
     ]
    },
    {
     "name": "stderr",
     "output_type": "stream",
     "text": [
      " 83%|████████▎ | 1045/1261 [02:28<00:30,  7.05it/s]"
     ]
    },
    {
     "name": "stdout",
     "output_type": "stream",
     "text": [
      "left line curvature: 409.2566384160592\n",
      "right line curvature: 151.21821090694434\n",
      "distance from center [1.19409947]\n",
      "left line curvature: 433.73767158350313\n",
      "right line curvature: 144.8777976032189\n",
      "distance from center [1.19242816]\n"
     ]
    },
    {
     "name": "stderr",
     "output_type": "stream",
     "text": [
      " 83%|████████▎ | 1047/1261 [02:28<00:30,  7.04it/s]"
     ]
    },
    {
     "name": "stdout",
     "output_type": "stream",
     "text": [
      "left line curvature: 448.11305034232834\n",
      "right line curvature: 140.73726385836903\n",
      "distance from center [1.15888738]\n",
      "left line curvature: 635.4281632852912\n",
      "right line curvature: 137.69916826453664\n",
      "distance from center [1.11499169]\n"
     ]
    },
    {
     "name": "stderr",
     "output_type": "stream",
     "text": [
      " 83%|████████▎ | 1049/1261 [02:28<00:30,  7.05it/s]"
     ]
    },
    {
     "name": "stdout",
     "output_type": "stream",
     "text": [
      "left line curvature: 564.6852127350802\n",
      "right line curvature: 120.34905699595394\n",
      "distance from center [1.08724135]\n",
      "left line curvature: 617.4569837660212\n",
      "right line curvature: 121.95478196431883\n",
      "distance from center [1.03776608]\n"
     ]
    },
    {
     "name": "stderr",
     "output_type": "stream",
     "text": [
      " 83%|████████▎ | 1051/1261 [02:29<00:29,  7.05it/s]"
     ]
    },
    {
     "name": "stdout",
     "output_type": "stream",
     "text": [
      "left line curvature: 489.5089516559753\n",
      "right line curvature: 117.31118614244996\n",
      "distance from center [0.99416837]\n",
      "left line curvature: 685.3490020484966\n",
      "right line curvature: 128.85213419372673\n",
      "distance from center [0.91992337]\n"
     ]
    },
    {
     "name": "stderr",
     "output_type": "stream",
     "text": [
      " 84%|████████▎ | 1053/1261 [02:29<00:29,  7.05it/s]"
     ]
    },
    {
     "name": "stdout",
     "output_type": "stream",
     "text": [
      "left line curvature: 1026.5164797176242\n",
      "right line curvature: 168.91154345222233\n",
      "distance from center [0.75448408]\n",
      "left line curvature: 627.818240891966\n",
      "right line curvature: 397.55730178254714\n",
      "distance from center [0.29895569]\n"
     ]
    },
    {
     "name": "stderr",
     "output_type": "stream",
     "text": [
      " 84%|████████▎ | 1055/1261 [02:29<00:29,  7.05it/s]"
     ]
    },
    {
     "name": "stdout",
     "output_type": "stream",
     "text": [
      "left line curvature: 700.4828514735428\n",
      "right line curvature: 50012.014478565645\n",
      "distance from center [0.10654763]\n",
      "left line curvature: 784.1573354020778\n",
      "right line curvature: 525.7569905601541\n",
      "distance from center [0.04552824]\n"
     ]
    },
    {
     "name": "stderr",
     "output_type": "stream",
     "text": [
      " 84%|████████▍ | 1057/1261 [02:30<00:28,  7.05it/s]"
     ]
    },
    {
     "name": "stdout",
     "output_type": "stream",
     "text": [
      "left line curvature: 713.3493166961103\n",
      "right line curvature: 504.9300171085141\n",
      "distance from center [0.05684663]\n",
      "left line curvature: 770.632717712402\n",
      "right line curvature: 476.13475316130604\n",
      "distance from center [0.06437526]\n"
     ]
    },
    {
     "name": "stderr",
     "output_type": "stream",
     "text": [
      " 84%|████████▍ | 1059/1261 [02:30<00:28,  7.05it/s]"
     ]
    },
    {
     "name": "stdout",
     "output_type": "stream",
     "text": [
      "left line curvature: 723.1493362833421\n",
      "right line curvature: 474.79030810841823\n",
      "distance from center [0.08256497]\n",
      "left line curvature: 672.6301780912135\n",
      "right line curvature: 401.93378881465475\n",
      "distance from center [0.1074068]\n"
     ]
    },
    {
     "name": "stderr",
     "output_type": "stream",
     "text": [
      " 84%|████████▍ | 1061/1261 [02:30<00:28,  7.05it/s]"
     ]
    },
    {
     "name": "stdout",
     "output_type": "stream",
     "text": [
      "left line curvature: 580.9596714938494\n",
      "right line curvature: 381.5204244167247\n",
      "distance from center [0.13172195]\n",
      "left line curvature: 526.7218887595963\n",
      "right line curvature: 327.5024730847067\n",
      "distance from center [0.16111223]\n"
     ]
    },
    {
     "name": "stderr",
     "output_type": "stream",
     "text": [
      " 84%|████████▍ | 1063/1261 [02:30<00:28,  7.05it/s]"
     ]
    },
    {
     "name": "stdout",
     "output_type": "stream",
     "text": [
      "left line curvature: 517.9877730025605\n",
      "right line curvature: 352.8947370137515\n",
      "distance from center [0.17062012]\n",
      "left line curvature: 630.4996219288522\n",
      "right line curvature: 397.4976143565515\n",
      "distance from center [0.18278372]\n"
     ]
    },
    {
     "name": "stderr",
     "output_type": "stream",
     "text": [
      " 84%|████████▍ | 1065/1261 [02:31<00:27,  7.05it/s]"
     ]
    },
    {
     "name": "stdout",
     "output_type": "stream",
     "text": [
      "left line curvature: 747.8652194437118\n",
      "right line curvature: 467.1212470874361\n",
      "distance from center [0.18074243]\n",
      "left line curvature: 938.3435578844211\n",
      "right line curvature: 606.1381676983781\n",
      "distance from center [0.17270569]\n"
     ]
    },
    {
     "name": "stderr",
     "output_type": "stream",
     "text": [
      " 85%|████████▍ | 1067/1261 [02:31<00:27,  7.05it/s]"
     ]
    },
    {
     "name": "stdout",
     "output_type": "stream",
     "text": [
      "left line curvature: 985.4739402633525\n",
      "right line curvature: 783.5304495517793\n",
      "distance from center [0.17286109]\n",
      "left line curvature: 1003.7502522288204\n",
      "right line curvature: 564.6728992056923\n",
      "distance from center [0.18878398]\n"
     ]
    },
    {
     "name": "stderr",
     "output_type": "stream",
     "text": [
      " 85%|████████▍ | 1069/1261 [02:31<00:27,  7.05it/s]"
     ]
    },
    {
     "name": "stdout",
     "output_type": "stream",
     "text": [
      "left line curvature: 989.9676278065778\n",
      "right line curvature: 565.9173416953114\n",
      "distance from center [0.19512078]\n",
      "left line curvature: 938.8198829123356\n",
      "right line curvature: 518.2417246574681\n",
      "distance from center [0.19962062]\n"
     ]
    },
    {
     "name": "stderr",
     "output_type": "stream",
     "text": [
      " 85%|████████▍ | 1071/1261 [02:31<00:26,  7.05it/s]"
     ]
    },
    {
     "name": "stdout",
     "output_type": "stream",
     "text": [
      "left line curvature: 833.852892912265\n",
      "right line curvature: 578.9727454773376\n",
      "distance from center [0.20437798]\n",
      "left line curvature: 900.4099200839046\n",
      "right line curvature: 652.6956357732917\n",
      "distance from center [0.19022378]\n"
     ]
    },
    {
     "name": "stderr",
     "output_type": "stream",
     "text": [
      " 85%|████████▌ | 1073/1261 [02:32<00:26,  7.05it/s]"
     ]
    },
    {
     "name": "stdout",
     "output_type": "stream",
     "text": [
      "left line curvature: 776.8729754759454\n",
      "right line curvature: 706.6459110558046\n",
      "distance from center [0.18998647]\n",
      "left line curvature: 774.4219206041065\n",
      "right line curvature: 1153.9394272039767\n",
      "distance from center [0.17769467]\n"
     ]
    },
    {
     "name": "stderr",
     "output_type": "stream",
     "text": [
      " 85%|████████▌ | 1075/1261 [02:32<00:26,  7.05it/s]"
     ]
    },
    {
     "name": "stdout",
     "output_type": "stream",
     "text": [
      "left line curvature: 851.66293882271\n",
      "right line curvature: 1109.9501708361515\n",
      "distance from center [0.18565696]\n",
      "left line curvature: 803.0562196446386\n",
      "right line curvature: 979.937266334923\n",
      "distance from center [0.20520271]\n"
     ]
    },
    {
     "name": "stderr",
     "output_type": "stream",
     "text": [
      " 85%|████████▌ | 1077/1261 [02:32<00:26,  7.05it/s]"
     ]
    },
    {
     "name": "stdout",
     "output_type": "stream",
     "text": [
      "left line curvature: 785.3197376597061\n",
      "right line curvature: 1034.4750127848147\n",
      "distance from center [0.21404286]\n",
      "left line curvature: 629.4912276265846\n",
      "right line curvature: 546.4803356860346\n",
      "distance from center [0.25282475]\n"
     ]
    },
    {
     "name": "stderr",
     "output_type": "stream",
     "text": [
      " 86%|████████▌ | 1079/1261 [02:33<00:25,  7.05it/s]"
     ]
    },
    {
     "name": "stdout",
     "output_type": "stream",
     "text": [
      "left line curvature: 613.6014624051371\n",
      "right line curvature: 496.6386599858796\n",
      "distance from center [0.26843983]\n",
      "left line curvature: 652.1836863687141\n",
      "right line curvature: 557.7934836792149\n",
      "distance from center [0.27150157]\n"
     ]
    },
    {
     "name": "stderr",
     "output_type": "stream",
     "text": [
      " 86%|████████▌ | 1081/1261 [02:33<00:25,  7.05it/s]"
     ]
    },
    {
     "name": "stdout",
     "output_type": "stream",
     "text": [
      "left line curvature: 602.9667693855409\n",
      "right line curvature: 596.1140226696223\n",
      "distance from center [0.28278177]\n",
      "left line curvature: 726.2676037048848\n",
      "right line curvature: 702.0393409954892\n",
      "distance from center [0.28593179]\n"
     ]
    },
    {
     "name": "stderr",
     "output_type": "stream",
     "text": [
      " 86%|████████▌ | 1083/1261 [02:33<00:25,  7.05it/s]"
     ]
    },
    {
     "name": "stdout",
     "output_type": "stream",
     "text": [
      "left line curvature: 676.8517172358314\n",
      "right line curvature: 735.0390837071545\n",
      "distance from center [0.28947486]\n",
      "left line curvature: 656.7401015619831\n",
      "right line curvature: 619.9956218860291\n",
      "distance from center [0.29728247]\n"
     ]
    },
    {
     "name": "stderr",
     "output_type": "stream",
     "text": [
      " 86%|████████▌ | 1085/1261 [02:33<00:24,  7.05it/s]"
     ]
    },
    {
     "name": "stdout",
     "output_type": "stream",
     "text": [
      "left line curvature: 685.1967974406606\n",
      "right line curvature: 707.5536428477044\n",
      "distance from center [0.2938608]\n",
      "left line curvature: 701.3506050975467\n",
      "right line curvature: 615.8850238948244\n",
      "distance from center [0.30175117]\n"
     ]
    },
    {
     "name": "stderr",
     "output_type": "stream",
     "text": [
      " 86%|████████▌ | 1087/1261 [02:34<00:24,  7.05it/s]"
     ]
    },
    {
     "name": "stdout",
     "output_type": "stream",
     "text": [
      "left line curvature: 779.113100295803\n",
      "right line curvature: 848.7459849336881\n",
      "distance from center [0.28717995]\n",
      "left line curvature: 823.145883400581\n",
      "right line curvature: 761.1444952308026\n",
      "distance from center [0.28502462]\n"
     ]
    },
    {
     "name": "stderr",
     "output_type": "stream",
     "text": [
      " 86%|████████▋ | 1089/1261 [02:34<00:24,  7.05it/s]"
     ]
    },
    {
     "name": "stdout",
     "output_type": "stream",
     "text": [
      "left line curvature: 807.4782378407461\n",
      "right line curvature: 898.18932568135\n",
      "distance from center [0.28256691]\n",
      "left line curvature: 855.8089550918812\n",
      "right line curvature: 714.5818292419682\n",
      "distance from center [0.29396424]\n"
     ]
    },
    {
     "name": "stderr",
     "output_type": "stream",
     "text": [
      " 87%|████████▋ | 1091/1261 [02:34<00:24,  7.05it/s]"
     ]
    },
    {
     "name": "stdout",
     "output_type": "stream",
     "text": [
      "left line curvature: 1030.1424535124722\n",
      "right line curvature: 551.4278890806853\n",
      "distance from center [0.29449219]\n",
      "left line curvature: 1072.014352077985\n",
      "right line curvature: 554.7317127672661\n",
      "distance from center [0.29689261]\n"
     ]
    },
    {
     "name": "stderr",
     "output_type": "stream",
     "text": [
      " 87%|████████▋ | 1093/1261 [02:35<00:23,  7.05it/s]"
     ]
    },
    {
     "name": "stdout",
     "output_type": "stream",
     "text": [
      "left line curvature: 1245.7344034656974\n",
      "right line curvature: 541.0593346258967\n",
      "distance from center [0.29550129]\n",
      "left line curvature: 1234.035553242203\n",
      "right line curvature: 604.9360732694165\n",
      "distance from center [0.3004095]\n"
     ]
    },
    {
     "name": "stderr",
     "output_type": "stream",
     "text": [
      " 87%|████████▋ | 1095/1261 [02:35<00:23,  7.05it/s]"
     ]
    },
    {
     "name": "stdout",
     "output_type": "stream",
     "text": [
      "left line curvature: 1453.5037208160418\n",
      "right line curvature: 784.8429310756444\n",
      "distance from center [0.28456437]\n",
      "left line curvature: 1173.7651567732391\n",
      "right line curvature: 853.4051152751864\n",
      "distance from center [0.27552991]\n"
     ]
    },
    {
     "name": "stderr",
     "output_type": "stream",
     "text": [
      " 87%|████████▋ | 1097/1261 [02:35<00:23,  7.05it/s]"
     ]
    },
    {
     "name": "stdout",
     "output_type": "stream",
     "text": [
      "left line curvature: 1146.1321473756345\n",
      "right line curvature: 1659.8082698480703\n",
      "distance from center [0.25775022]\n",
      "left line curvature: 1088.4729520104693\n",
      "right line curvature: 1154.6374356470153\n",
      "distance from center [0.27905929]\n"
     ]
    },
    {
     "name": "stderr",
     "output_type": "stream",
     "text": [
      " 87%|████████▋ | 1099/1261 [02:35<00:22,  7.05it/s]"
     ]
    },
    {
     "name": "stdout",
     "output_type": "stream",
     "text": [
      "left line curvature: 989.8592833803351\n",
      "right line curvature: 1098.5839223838984\n",
      "distance from center [0.29332019]\n",
      "left line curvature: 934.6027669183792\n",
      "right line curvature: 879.1360601204043\n",
      "distance from center [0.31128318]\n"
     ]
    },
    {
     "name": "stderr",
     "output_type": "stream",
     "text": [
      " 87%|████████▋ | 1101/1261 [02:36<00:22,  7.05it/s]"
     ]
    },
    {
     "name": "stdout",
     "output_type": "stream",
     "text": [
      "left line curvature: 891.1649813637213\n",
      "right line curvature: 657.4704468851542\n",
      "distance from center [0.33454833]\n",
      "left line curvature: 859.3270874962208\n",
      "right line curvature: 583.2724009990783\n",
      "distance from center [0.35079982]\n"
     ]
    },
    {
     "name": "stderr",
     "output_type": "stream",
     "text": [
      " 87%|████████▋ | 1103/1261 [02:36<00:22,  7.05it/s]"
     ]
    },
    {
     "name": "stdout",
     "output_type": "stream",
     "text": [
      "left line curvature: 1011.8514615215382\n",
      "right line curvature: 1104.0162322137244\n",
      "distance from center [0.34535746]\n",
      "left line curvature: 895.9264643642657\n",
      "right line curvature: 746.6924699632705\n",
      "distance from center [0.36811627]\n"
     ]
    },
    {
     "name": "stderr",
     "output_type": "stream",
     "text": [
      " 88%|████████▊ | 1105/1261 [02:36<00:22,  7.05it/s]"
     ]
    },
    {
     "name": "stdout",
     "output_type": "stream",
     "text": [
      "left line curvature: 941.2686624254203\n",
      "right line curvature: 696.9027194147457\n",
      "distance from center [0.37744934]\n",
      "left line curvature: 850.9225774312312\n",
      "right line curvature: 669.7699458391205\n",
      "distance from center [0.39215027]\n"
     ]
    },
    {
     "name": "stderr",
     "output_type": "stream",
     "text": [
      " 88%|████████▊ | 1107/1261 [02:37<00:21,  7.05it/s]"
     ]
    },
    {
     "name": "stdout",
     "output_type": "stream",
     "text": [
      "left line curvature: 827.3243787990499\n",
      "right line curvature: 458.020483454634\n",
      "distance from center [0.4192897]\n",
      "left line curvature: 813.4267439962829\n",
      "right line curvature: 606.047436204929\n",
      "distance from center [0.41248344]\n"
     ]
    },
    {
     "name": "stderr",
     "output_type": "stream",
     "text": [
      " 88%|████████▊ | 1109/1261 [02:37<00:21,  7.05it/s]"
     ]
    },
    {
     "name": "stdout",
     "output_type": "stream",
     "text": [
      "left line curvature: 846.0503989636051\n",
      "right line curvature: 470.1223281315525\n",
      "distance from center [0.42093077]\n",
      "left line curvature: 871.4800698132709\n",
      "right line curvature: 502.36260874579045\n",
      "distance from center [0.41870017]\n"
     ]
    },
    {
     "name": "stderr",
     "output_type": "stream",
     "text": [
      " 88%|████████▊ | 1111/1261 [02:37<00:21,  7.05it/s]"
     ]
    },
    {
     "name": "stdout",
     "output_type": "stream",
     "text": [
      "left line curvature: 1008.0328803318672\n",
      "right line curvature: 540.7557218242944\n",
      "distance from center [0.40089742]\n",
      "left line curvature: 931.2958151912696\n",
      "right line curvature: 415.13360332645226\n",
      "distance from center [0.40508922]\n"
     ]
    },
    {
     "name": "stderr",
     "output_type": "stream",
     "text": [
      " 88%|████████▊ | 1113/1261 [02:37<00:20,  7.05it/s]"
     ]
    },
    {
     "name": "stdout",
     "output_type": "stream",
     "text": [
      "left line curvature: 1002.2259969582531\n",
      "right line curvature: 430.1190109863513\n",
      "distance from center [0.39089484]\n",
      "left line curvature: 1089.695652587875\n",
      "right line curvature: 361.8346442332801\n",
      "distance from center [0.38651415]\n"
     ]
    },
    {
     "name": "stderr",
     "output_type": "stream",
     "text": [
      " 88%|████████▊ | 1115/1261 [02:38<00:20,  7.05it/s]"
     ]
    },
    {
     "name": "stdout",
     "output_type": "stream",
     "text": [
      "left line curvature: 1150.6622771560476\n",
      "right line curvature: 345.2932009131751\n",
      "distance from center [0.37729497]\n",
      "left line curvature: 1185.553990520816\n",
      "right line curvature: 369.18925316016214\n",
      "distance from center [0.36989043]\n"
     ]
    },
    {
     "name": "stderr",
     "output_type": "stream",
     "text": [
      " 89%|████████▊ | 1117/1261 [02:38<00:20,  7.05it/s]"
     ]
    },
    {
     "name": "stdout",
     "output_type": "stream",
     "text": [
      "left line curvature: 983.2388583631248\n",
      "right line curvature: 382.59306165787797\n",
      "distance from center [0.36774542]\n",
      "left line curvature: 904.698968222068\n",
      "right line curvature: 423.77099639885375\n",
      "distance from center [0.34972549]\n"
     ]
    },
    {
     "name": "stderr",
     "output_type": "stream",
     "text": [
      " 89%|████████▊ | 1119/1261 [02:38<00:20,  7.05it/s]"
     ]
    },
    {
     "name": "stdout",
     "output_type": "stream",
     "text": [
      "left line curvature: 803.7600831050706\n",
      "right line curvature: 611.3278266494386\n",
      "distance from center [0.30792462]\n",
      "left line curvature: 797.6058850769896\n",
      "right line curvature: 630.0220876410298\n",
      "distance from center [0.30930318]\n"
     ]
    },
    {
     "name": "stderr",
     "output_type": "stream",
     "text": [
      " 89%|████████▉ | 1121/1261 [02:38<00:19,  7.05it/s]"
     ]
    },
    {
     "name": "stdout",
     "output_type": "stream",
     "text": [
      "left line curvature: 814.9344516272861\n",
      "right line curvature: 616.9688716437537\n",
      "distance from center [0.32113356]\n",
      "left line curvature: 844.4327663837172\n",
      "right line curvature: 747.0327340312436\n",
      "distance from center [0.31829276]\n"
     ]
    },
    {
     "name": "stderr",
     "output_type": "stream",
     "text": [
      " 89%|████████▉ | 1123/1261 [02:39<00:19,  7.05it/s]"
     ]
    },
    {
     "name": "stdout",
     "output_type": "stream",
     "text": [
      "left line curvature: 920.624881963394\n",
      "right line curvature: 915.0211368876841\n",
      "distance from center [0.31188009]\n",
      "left line curvature: 888.4074112147921\n",
      "right line curvature: 1203.9700895474718\n",
      "distance from center [0.31421392]\n"
     ]
    },
    {
     "name": "stderr",
     "output_type": "stream",
     "text": [
      " 89%|████████▉ | 1125/1261 [02:39<00:19,  7.05it/s]"
     ]
    },
    {
     "name": "stdout",
     "output_type": "stream",
     "text": [
      "left line curvature: 711.4249349947889\n",
      "right line curvature: 802.9931857386019\n",
      "distance from center [0.33543568]\n",
      "left line curvature: 636.8999712096933\n",
      "right line curvature: 884.4972831800886\n",
      "distance from center [0.34695887]\n"
     ]
    },
    {
     "name": "stderr",
     "output_type": "stream",
     "text": [
      " 89%|████████▉ | 1127/1261 [02:39<00:18,  7.05it/s]"
     ]
    },
    {
     "name": "stdout",
     "output_type": "stream",
     "text": [
      "left line curvature: 639.1445381614672\n",
      "right line curvature: 690.6118198243596\n",
      "distance from center [0.34909623]\n",
      "left line curvature: 577.8691567679492\n",
      "right line curvature: 572.7651644036623\n",
      "distance from center [0.35269724]\n"
     ]
    },
    {
     "name": "stderr",
     "output_type": "stream",
     "text": [
      " 90%|████████▉ | 1129/1261 [02:40<00:18,  7.05it/s]"
     ]
    },
    {
     "name": "stdout",
     "output_type": "stream",
     "text": [
      "left line curvature: 620.067836077209\n",
      "right line curvature: 581.2888718787227\n",
      "distance from center [0.3439343]\n",
      "left line curvature: 600.5370436351651\n",
      "right line curvature: 773.5435732310781\n",
      "distance from center [0.31889868]\n"
     ]
    },
    {
     "name": "stderr",
     "output_type": "stream",
     "text": [
      " 90%|████████▉ | 1131/1261 [02:40<00:18,  7.05it/s]"
     ]
    },
    {
     "name": "stdout",
     "output_type": "stream",
     "text": [
      "left line curvature: 674.8445356004863\n",
      "right line curvature: 557.7769457795085\n",
      "distance from center [0.32446409]\n",
      "left line curvature: 743.4737351508179\n",
      "right line curvature: 791.6851813083806\n",
      "distance from center [0.29856704]\n"
     ]
    },
    {
     "name": "stderr",
     "output_type": "stream",
     "text": [
      " 90%|████████▉ | 1133/1261 [02:40<00:18,  7.06it/s]"
     ]
    },
    {
     "name": "stdout",
     "output_type": "stream",
     "text": [
      "left line curvature: 685.597430876902\n",
      "right line curvature: 653.708986523602\n",
      "distance from center [0.30522524]\n",
      "left line curvature: 855.1435986287358\n",
      "right line curvature: 923.0510194872909\n",
      "distance from center [0.28646518]\n"
     ]
    },
    {
     "name": "stderr",
     "output_type": "stream",
     "text": [
      " 90%|█████████ | 1135/1261 [02:40<00:17,  7.06it/s]"
     ]
    },
    {
     "name": "stdout",
     "output_type": "stream",
     "text": [
      "left line curvature: 858.2918334728097\n",
      "right line curvature: 701.1117476553733\n",
      "distance from center [0.28987799]\n",
      "left line curvature: 905.5505598194628\n",
      "right line curvature: 585.8951969223316\n",
      "distance from center [0.29472454]\n"
     ]
    },
    {
     "name": "stderr",
     "output_type": "stream",
     "text": [
      " 90%|█████████ | 1137/1261 [02:41<00:17,  7.06it/s]"
     ]
    },
    {
     "name": "stdout",
     "output_type": "stream",
     "text": [
      "left line curvature: 1031.8435569295816\n",
      "right line curvature: 527.3916683819277\n",
      "distance from center [0.2916453]\n",
      "left line curvature: 997.8190536763211\n",
      "right line curvature: 535.8695108773877\n",
      "distance from center [0.29495551]\n"
     ]
    },
    {
     "name": "stderr",
     "output_type": "stream",
     "text": [
      " 90%|█████████ | 1139/1261 [02:41<00:17,  7.06it/s]"
     ]
    },
    {
     "name": "stdout",
     "output_type": "stream",
     "text": [
      "left line curvature: 1017.8764781198843\n",
      "right line curvature: 535.8415006633863\n",
      "distance from center [0.29911194]\n",
      "left line curvature: 1008.1519044201307\n",
      "right line curvature: 542.7149380483229\n",
      "distance from center [0.29814368]\n"
     ]
    },
    {
     "name": "stderr",
     "output_type": "stream",
     "text": [
      " 90%|█████████ | 1141/1261 [02:41<00:16,  7.06it/s]"
     ]
    },
    {
     "name": "stdout",
     "output_type": "stream",
     "text": [
      "left line curvature: 975.4789244696435\n",
      "right line curvature: 601.9510522198324\n",
      "distance from center [0.29170305]\n",
      "left line curvature: 1152.4269481600502\n",
      "right line curvature: 570.8529477877883\n",
      "distance from center [0.29992767]\n"
     ]
    },
    {
     "name": "stderr",
     "output_type": "stream",
     "text": [
      " 91%|█████████ | 1143/1261 [02:41<00:16,  7.06it/s]"
     ]
    },
    {
     "name": "stdout",
     "output_type": "stream",
     "text": [
      "left line curvature: 1100.84966791066\n",
      "right line curvature: 646.4825806825313\n",
      "distance from center [0.29590963]\n",
      "left line curvature: 1098.0369147791823\n",
      "right line curvature: 652.2704315064161\n",
      "distance from center [0.29329265]\n"
     ]
    },
    {
     "name": "stderr",
     "output_type": "stream",
     "text": [
      " 91%|█████████ | 1145/1261 [02:42<00:16,  7.06it/s]"
     ]
    },
    {
     "name": "stdout",
     "output_type": "stream",
     "text": [
      "left line curvature: 1005.9234213240528\n",
      "right line curvature: 580.0032472437605\n",
      "distance from center [0.30511377]\n",
      "left line curvature: 937.7491031159474\n",
      "right line curvature: 474.47654596804387\n",
      "distance from center [0.31776296]\n"
     ]
    },
    {
     "name": "stderr",
     "output_type": "stream",
     "text": [
      " 91%|█████████ | 1147/1261 [02:42<00:16,  7.06it/s]"
     ]
    },
    {
     "name": "stdout",
     "output_type": "stream",
     "text": [
      "left line curvature: 952.581716462896\n",
      "right line curvature: 500.301385278982\n",
      "distance from center [0.32158677]\n",
      "left line curvature: 891.6294171989887\n",
      "right line curvature: 436.6794898752088\n",
      "distance from center [0.32713917]\n"
     ]
    },
    {
     "name": "stderr",
     "output_type": "stream",
     "text": [
      " 91%|█████████ | 1149/1261 [02:42<00:15,  7.06it/s]"
     ]
    },
    {
     "name": "stdout",
     "output_type": "stream",
     "text": [
      "left line curvature: 768.4535231495254\n",
      "right line curvature: 433.19263073138256\n",
      "distance from center [0.32852935]\n",
      "left line curvature: 836.8926722717822\n",
      "right line curvature: 480.6401483048861\n",
      "distance from center [0.32774068]\n"
     ]
    },
    {
     "name": "stderr",
     "output_type": "stream",
     "text": [
      " 91%|█████████▏| 1151/1261 [02:42<00:15,  7.06it/s]"
     ]
    },
    {
     "name": "stdout",
     "output_type": "stream",
     "text": [
      "left line curvature: 623.2399050744395\n",
      "right line curvature: 479.0742299646402\n",
      "distance from center [0.33518838]\n",
      "left line curvature: 613.2823918228024\n",
      "right line curvature: 442.275690529028\n",
      "distance from center [0.33262641]\n"
     ]
    },
    {
     "name": "stderr",
     "output_type": "stream",
     "text": [
      " 91%|█████████▏| 1153/1261 [02:43<00:15,  7.06it/s]"
     ]
    },
    {
     "name": "stdout",
     "output_type": "stream",
     "text": [
      "left line curvature: 557.01041671304\n",
      "right line curvature: 449.3142994514643\n",
      "distance from center [0.32954622]\n",
      "left line curvature: 540.8832480464044\n",
      "right line curvature: 537.8878135003581\n",
      "distance from center [0.3130341]\n"
     ]
    },
    {
     "name": "stderr",
     "output_type": "stream",
     "text": [
      " 92%|█████████▏| 1155/1261 [02:43<00:15,  7.06it/s]"
     ]
    },
    {
     "name": "stdout",
     "output_type": "stream",
     "text": [
      "left line curvature: 578.5646079371334\n",
      "right line curvature: 543.2096361366779\n",
      "distance from center [0.31299802]\n",
      "left line curvature: 571.5309999608044\n",
      "right line curvature: 545.2743746025054\n",
      "distance from center [0.30871411]\n"
     ]
    },
    {
     "name": "stderr",
     "output_type": "stream",
     "text": [
      " 92%|█████████▏| 1157/1261 [02:43<00:14,  7.06it/s]"
     ]
    },
    {
     "name": "stdout",
     "output_type": "stream",
     "text": [
      "left line curvature: 539.860736154937\n",
      "right line curvature: 571.9994068117355\n",
      "distance from center [0.30584482]\n",
      "left line curvature: 549.7536331600388\n",
      "right line curvature: 663.0672700388446\n",
      "distance from center [0.30158814]\n"
     ]
    },
    {
     "name": "stderr",
     "output_type": "stream",
     "text": [
      " 92%|█████████▏| 1159/1261 [02:44<00:14,  7.07it/s]"
     ]
    },
    {
     "name": "stdout",
     "output_type": "stream",
     "text": [
      "left line curvature: 510.8012436658594\n",
      "right line curvature: 565.2909076684629\n",
      "distance from center [0.30826451]\n",
      "left line curvature: 498.9310024044663\n",
      "right line curvature: 590.1850092367555\n",
      "distance from center [0.30270488]\n"
     ]
    },
    {
     "name": "stderr",
     "output_type": "stream",
     "text": [
      " 92%|█████████▏| 1161/1261 [02:44<00:14,  7.07it/s]"
     ]
    },
    {
     "name": "stdout",
     "output_type": "stream",
     "text": [
      "left line curvature: 508.76518148583085\n",
      "right line curvature: 440.58559520266397\n",
      "distance from center [0.30227346]\n",
      "left line curvature: 513.4678271020894\n",
      "right line curvature: 450.7509536318171\n",
      "distance from center [0.29043856]\n"
     ]
    },
    {
     "name": "stderr",
     "output_type": "stream",
     "text": [
      " 92%|█████████▏| 1163/1261 [02:44<00:13,  7.07it/s]"
     ]
    },
    {
     "name": "stdout",
     "output_type": "stream",
     "text": [
      "left line curvature: 538.9321389481131\n",
      "right line curvature: 496.11929978430646\n",
      "distance from center [0.27895687]\n",
      "left line curvature: 543.0442057080865\n",
      "right line curvature: 451.7699773164043\n",
      "distance from center [0.26994658]\n"
     ]
    },
    {
     "name": "stderr",
     "output_type": "stream",
     "text": [
      " 92%|█████████▏| 1165/1261 [02:44<00:13,  7.07it/s]"
     ]
    },
    {
     "name": "stdout",
     "output_type": "stream",
     "text": [
      "left line curvature: 571.6407233836409\n",
      "right line curvature: 496.68581008103564\n",
      "distance from center [0.25006288]\n",
      "left line curvature: 657.804446904433\n",
      "right line curvature: 519.0361412048231\n",
      "distance from center [0.24679102]\n"
     ]
    },
    {
     "name": "stderr",
     "output_type": "stream",
     "text": [
      " 93%|█████████▎| 1167/1261 [02:45<00:13,  7.07it/s]"
     ]
    },
    {
     "name": "stdout",
     "output_type": "stream",
     "text": [
      "left line curvature: 681.7753087241446\n",
      "right line curvature: 648.4373721329034\n",
      "distance from center [0.22809684]\n",
      "left line curvature: 823.3560624496073\n",
      "right line curvature: 721.9725715750644\n",
      "distance from center [0.22102278]\n"
     ]
    },
    {
     "name": "stderr",
     "output_type": "stream",
     "text": [
      " 93%|█████████▎| 1169/1261 [02:45<00:13,  7.07it/s]"
     ]
    },
    {
     "name": "stdout",
     "output_type": "stream",
     "text": [
      "left line curvature: 861.9810021686395\n",
      "right line curvature: 708.5858533120991\n",
      "distance from center [0.22158931]\n",
      "left line curvature: 828.4720455545248\n",
      "right line curvature: 532.9789289370301\n",
      "distance from center [0.2316271]\n"
     ]
    },
    {
     "name": "stderr",
     "output_type": "stream",
     "text": [
      " 93%|█████████▎| 1171/1261 [02:45<00:12,  7.07it/s]"
     ]
    },
    {
     "name": "stdout",
     "output_type": "stream",
     "text": [
      "left line curvature: 918.8518806913729\n",
      "right line curvature: 533.3955603226898\n",
      "distance from center [0.23559775]\n",
      "left line curvature: 964.6547940559641\n",
      "right line curvature: 490.52028007503225\n",
      "distance from center [0.23543753]\n"
     ]
    },
    {
     "name": "stderr",
     "output_type": "stream",
     "text": [
      " 93%|█████████▎| 1173/1261 [02:45<00:12,  7.07it/s]"
     ]
    },
    {
     "name": "stdout",
     "output_type": "stream",
     "text": [
      "left line curvature: 1011.6047075324813\n",
      "right line curvature: 508.94450560571056\n",
      "distance from center [0.23736767]\n",
      "left line curvature: 1176.4597616703047\n",
      "right line curvature: 560.7569846266409\n",
      "distance from center [0.23491173]\n"
     ]
    },
    {
     "name": "stderr",
     "output_type": "stream",
     "text": [
      " 93%|█████████▎| 1175/1261 [02:46<00:12,  7.07it/s]"
     ]
    },
    {
     "name": "stdout",
     "output_type": "stream",
     "text": [
      "left line curvature: 1109.6451708828513\n",
      "right line curvature: 617.1072692315323\n",
      "distance from center [0.22137808]\n",
      "left line curvature: 1168.760877011437\n",
      "right line curvature: 730.8029794974851\n",
      "distance from center [0.22232774]\n"
     ]
    },
    {
     "name": "stderr",
     "output_type": "stream",
     "text": [
      " 93%|█████████▎| 1177/1261 [02:46<00:11,  7.07it/s]"
     ]
    },
    {
     "name": "stdout",
     "output_type": "stream",
     "text": [
      "left line curvature: 1213.2597956840573\n",
      "right line curvature: 1035.2401569772487\n",
      "distance from center [0.21809699]\n",
      "left line curvature: 1061.3943371379376\n",
      "right line curvature: 804.9981434849157\n",
      "distance from center [0.2494993]\n"
     ]
    },
    {
     "name": "stderr",
     "output_type": "stream",
     "text": [
      " 93%|█████████▎| 1179/1261 [02:46<00:11,  7.07it/s]"
     ]
    },
    {
     "name": "stdout",
     "output_type": "stream",
     "text": [
      "left line curvature: 1284.6160011634738\n",
      "right line curvature: 923.4395385115789\n",
      "distance from center [0.25645969]\n",
      "left line curvature: 1173.2984696238673\n",
      "right line curvature: 827.561787376383\n",
      "distance from center [0.2682551]\n"
     ]
    },
    {
     "name": "stderr",
     "output_type": "stream",
     "text": [
      " 94%|█████████▎| 1181/1261 [02:46<00:11,  7.07it/s]"
     ]
    },
    {
     "name": "stdout",
     "output_type": "stream",
     "text": [
      "left line curvature: 941.9102979554704\n",
      "right line curvature: 697.0777332683208\n",
      "distance from center [0.29232281]\n",
      "left line curvature: 1223.1794444918567\n",
      "right line curvature: 598.8454486727989\n",
      "distance from center [0.30211838]\n"
     ]
    },
    {
     "name": "stderr",
     "output_type": "stream",
     "text": [
      " 94%|█████████▍| 1183/1261 [02:47<00:11,  7.07it/s]"
     ]
    },
    {
     "name": "stdout",
     "output_type": "stream",
     "text": [
      "left line curvature: 925.8543481160333\n",
      "right line curvature: 582.6959824128616\n",
      "distance from center [0.32190517]\n",
      "left line curvature: 859.6770337295152\n",
      "right line curvature: 560.3859262120831\n",
      "distance from center [0.33544522]\n"
     ]
    },
    {
     "name": "stderr",
     "output_type": "stream",
     "text": [
      " 94%|█████████▍| 1185/1261 [02:47<00:10,  7.07it/s]"
     ]
    },
    {
     "name": "stdout",
     "output_type": "stream",
     "text": [
      "left line curvature: 754.2712972798834\n",
      "right line curvature: 518.8700820123446\n",
      "distance from center [0.35390605]\n",
      "left line curvature: 667.7330505616452\n",
      "right line curvature: 589.0931876221227\n",
      "distance from center [0.35533479]\n"
     ]
    },
    {
     "name": "stderr",
     "output_type": "stream",
     "text": [
      " 94%|█████████▍| 1187/1261 [02:47<00:10,  7.08it/s]"
     ]
    },
    {
     "name": "stdout",
     "output_type": "stream",
     "text": [
      "left line curvature: 670.1357530436345\n",
      "right line curvature: 952.6512355078427\n",
      "distance from center [0.33613347]\n",
      "left line curvature: 602.4547688483453\n",
      "right line curvature: 987.788658899194\n",
      "distance from center [0.34850747]\n"
     ]
    },
    {
     "name": "stderr",
     "output_type": "stream",
     "text": [
      " 94%|█████████▍| 1189/1261 [02:48<00:10,  7.08it/s]"
     ]
    },
    {
     "name": "stdout",
     "output_type": "stream",
     "text": [
      "left line curvature: 635.1095158254717\n",
      "right line curvature: 1132.4405984907478\n",
      "distance from center [0.3453427]\n",
      "left line curvature: 644.1029504439858\n",
      "right line curvature: 988.228470808747\n",
      "distance from center [0.35596145]\n"
     ]
    },
    {
     "name": "stderr",
     "output_type": "stream",
     "text": [
      " 94%|█████████▍| 1191/1261 [02:48<00:09,  7.08it/s]"
     ]
    },
    {
     "name": "stdout",
     "output_type": "stream",
     "text": [
      "left line curvature: 566.6718036498238\n",
      "right line curvature: 840.2690272465778\n",
      "distance from center [0.37059648]\n",
      "left line curvature: 592.1771114903611\n",
      "right line curvature: 719.1557027653913\n",
      "distance from center [0.37285319]\n"
     ]
    },
    {
     "name": "stderr",
     "output_type": "stream",
     "text": [
      " 95%|█████████▍| 1193/1261 [02:48<00:09,  7.08it/s]"
     ]
    },
    {
     "name": "stdout",
     "output_type": "stream",
     "text": [
      "left line curvature: 590.661781560787\n",
      "right line curvature: 508.29935833737244\n",
      "distance from center [0.38254048]\n",
      "left line curvature: 560.9776115540383\n",
      "right line curvature: 469.66345710006965\n",
      "distance from center [0.38798789]\n"
     ]
    },
    {
     "name": "stderr",
     "output_type": "stream",
     "text": [
      " 95%|█████████▍| 1195/1261 [02:48<00:09,  7.08it/s]"
     ]
    },
    {
     "name": "stdout",
     "output_type": "stream",
     "text": [
      "left line curvature: 576.4197599115059\n",
      "right line curvature: 503.7533327529499\n",
      "distance from center [0.39040043]\n",
      "left line curvature: 534.1112674784792\n",
      "right line curvature: 459.6313321214426\n",
      "distance from center [0.3883932]\n"
     ]
    },
    {
     "name": "stderr",
     "output_type": "stream",
     "text": [
      " 95%|█████████▍| 1197/1261 [02:49<00:09,  7.08it/s]"
     ]
    },
    {
     "name": "stdout",
     "output_type": "stream",
     "text": [
      "left line curvature: 496.7865491332447\n",
      "right line curvature: 463.30709673920603\n",
      "distance from center [0.38872556]\n",
      "left line curvature: 519.9725420744912\n",
      "right line curvature: 512.4399020481007\n",
      "distance from center [0.37883765]\n"
     ]
    },
    {
     "name": "stderr",
     "output_type": "stream",
     "text": [
      " 95%|█████████▌| 1199/1261 [02:49<00:08,  7.08it/s]"
     ]
    },
    {
     "name": "stdout",
     "output_type": "stream",
     "text": [
      "left line curvature: 569.1899597516683\n",
      "right line curvature: 533.1994218952982\n",
      "distance from center [0.38132586]\n",
      "left line curvature: 609.5010714787762\n",
      "right line curvature: 630.2174382745465\n",
      "distance from center [0.38398145]\n"
     ]
    },
    {
     "name": "stderr",
     "output_type": "stream",
     "text": [
      " 95%|█████████▌| 1201/1261 [02:49<00:08,  7.08it/s]"
     ]
    },
    {
     "name": "stdout",
     "output_type": "stream",
     "text": [
      "left line curvature: 649.4435307448148\n",
      "right line curvature: 1039.9593225597127\n",
      "distance from center [0.37706292]\n",
      "left line curvature: 661.6959815907285\n",
      "right line curvature: 493.4355084312799\n",
      "distance from center [0.4019263]\n"
     ]
    },
    {
     "name": "stderr",
     "output_type": "stream",
     "text": [
      " 95%|█████████▌| 1203/1261 [02:49<00:08,  7.08it/s]"
     ]
    },
    {
     "name": "stdout",
     "output_type": "stream",
     "text": [
      "left line curvature: 620.2707094830282\n",
      "right line curvature: 676.9162014922251\n",
      "distance from center [0.39864172]\n",
      "left line curvature: 547.7830319146908\n",
      "right line curvature: 601.8313471662524\n",
      "distance from center [0.41317434]\n"
     ]
    },
    {
     "name": "stderr",
     "output_type": "stream",
     "text": [
      " 96%|█████████▌| 1205/1261 [02:50<00:07,  7.08it/s]"
     ]
    },
    {
     "name": "stdout",
     "output_type": "stream",
     "text": [
      "left line curvature: 556.4508371761929\n",
      "right line curvature: 482.9347302997545\n",
      "distance from center [0.41604785]\n",
      "left line curvature: 585.5372010926548\n",
      "right line curvature: 432.6648828534383\n",
      "distance from center [0.42177751]\n"
     ]
    },
    {
     "name": "stderr",
     "output_type": "stream",
     "text": [
      " 96%|█████████▌| 1207/1261 [02:50<00:07,  7.08it/s]"
     ]
    },
    {
     "name": "stdout",
     "output_type": "stream",
     "text": [
      "left line curvature: 549.8254044180677\n",
      "right line curvature: 320.93555814687585\n",
      "distance from center [0.43497733]\n",
      "left line curvature: 538.8887506854285\n",
      "right line curvature: 375.4055659889799\n",
      "distance from center [0.42505868]\n"
     ]
    },
    {
     "name": "stderr",
     "output_type": "stream",
     "text": [
      " 96%|█████████▌| 1209/1261 [02:50<00:07,  7.08it/s]"
     ]
    },
    {
     "name": "stdout",
     "output_type": "stream",
     "text": [
      "left line curvature: 531.7041536886022\n",
      "right line curvature: 510.7698715047323\n",
      "distance from center [0.39444885]\n",
      "left line curvature: 480.0855493792258\n",
      "right line curvature: 688.8013454117697\n",
      "distance from center [0.37710885]\n"
     ]
    },
    {
     "name": "stderr",
     "output_type": "stream",
     "text": [
      " 96%|█████████▌| 1211/1261 [02:50<00:07,  7.08it/s]"
     ]
    },
    {
     "name": "stdout",
     "output_type": "stream",
     "text": [
      "left line curvature: 567.1935052158082\n",
      "right line curvature: 722.774653741708\n",
      "distance from center [0.37645744]\n",
      "left line curvature: 558.3899124874354\n",
      "right line curvature: 650.2414694663589\n",
      "distance from center [0.39374453]\n"
     ]
    },
    {
     "name": "stderr",
     "output_type": "stream",
     "text": [
      " 96%|█████████▌| 1213/1261 [02:51<00:06,  7.09it/s]"
     ]
    },
    {
     "name": "stdout",
     "output_type": "stream",
     "text": [
      "left line curvature: 555.3496833221767\n",
      "right line curvature: 867.3186382457836\n",
      "distance from center [0.3872557]\n",
      "left line curvature: 639.5681893883285\n",
      "right line curvature: 1041.8812640744766\n",
      "distance from center [0.3936565]\n"
     ]
    },
    {
     "name": "stderr",
     "output_type": "stream",
     "text": [
      " 96%|█████████▋| 1215/1261 [02:51<00:06,  7.09it/s]"
     ]
    },
    {
     "name": "stdout",
     "output_type": "stream",
     "text": [
      "left line curvature: 692.8210046430539\n",
      "right line curvature: 812.8736269186103\n",
      "distance from center [0.40563807]\n",
      "left line curvature: 751.4321214140537\n",
      "right line curvature: 675.84468061031\n",
      "distance from center [0.40859299]\n"
     ]
    },
    {
     "name": "stderr",
     "output_type": "stream",
     "text": [
      " 97%|█████████▋| 1217/1261 [02:51<00:06,  7.09it/s]"
     ]
    },
    {
     "name": "stdout",
     "output_type": "stream",
     "text": [
      "left line curvature: 785.9693369627995\n",
      "right line curvature: 640.4590474759563\n",
      "distance from center [0.41777148]\n",
      "left line curvature: 858.1857390493254\n",
      "right line curvature: 557.3960608759949\n",
      "distance from center [0.42215894]\n"
     ]
    },
    {
     "name": "stderr",
     "output_type": "stream",
     "text": [
      " 97%|█████████▋| 1219/1261 [02:51<00:05,  7.09it/s]"
     ]
    },
    {
     "name": "stdout",
     "output_type": "stream",
     "text": [
      "left line curvature: 942.5434365955899\n",
      "right line curvature: 560.3091581855846\n",
      "distance from center [0.42038069]\n",
      "left line curvature: 936.0246234243671\n",
      "right line curvature: 600.4455034155935\n",
      "distance from center [0.42047103]\n"
     ]
    },
    {
     "name": "stderr",
     "output_type": "stream",
     "text": [
      " 97%|█████████▋| 1221/1261 [02:52<00:05,  7.09it/s]"
     ]
    },
    {
     "name": "stdout",
     "output_type": "stream",
     "text": [
      "left line curvature: 858.3410880481925\n",
      "right line curvature: 758.6042923261979\n",
      "distance from center [0.41137634]\n",
      "left line curvature: 907.7254108870064\n",
      "right line curvature: 661.8531314682027\n",
      "distance from center [0.42931874]\n"
     ]
    },
    {
     "name": "stderr",
     "output_type": "stream",
     "text": [
      " 97%|█████████▋| 1223/1261 [02:52<00:05,  7.09it/s]"
     ]
    },
    {
     "name": "stdout",
     "output_type": "stream",
     "text": [
      "left line curvature: 785.5271175645382\n",
      "right line curvature: 576.9760331801472\n",
      "distance from center [0.4513935]\n",
      "left line curvature: 749.2919486383358\n",
      "right line curvature: 658.3873536102717\n",
      "distance from center [0.4472977]\n"
     ]
    },
    {
     "name": "stderr",
     "output_type": "stream",
     "text": [
      " 97%|█████████▋| 1225/1261 [02:52<00:05,  7.09it/s]"
     ]
    },
    {
     "name": "stdout",
     "output_type": "stream",
     "text": [
      "left line curvature: 761.6875023886126\n",
      "right line curvature: 802.6649793771787\n",
      "distance from center [0.45360241]\n",
      "left line curvature: 862.1632642596605\n",
      "right line curvature: 680.2649453992349\n",
      "distance from center [0.4624387]\n"
     ]
    },
    {
     "name": "stderr",
     "output_type": "stream",
     "text": [
      " 97%|█████████▋| 1227/1261 [02:53<00:04,  7.09it/s]"
     ]
    },
    {
     "name": "stdout",
     "output_type": "stream",
     "text": [
      "left line curvature: 937.8761151760891\n",
      "right line curvature: 713.5584462651393\n",
      "distance from center [0.46858536]\n",
      "left line curvature: 1099.098993152244\n",
      "right line curvature: 758.5567560143269\n",
      "distance from center [0.47028539]\n"
     ]
    },
    {
     "name": "stderr",
     "output_type": "stream",
     "text": [
      " 97%|█████████▋| 1229/1261 [02:53<00:04,  7.09it/s]"
     ]
    },
    {
     "name": "stdout",
     "output_type": "stream",
     "text": [
      "left line curvature: 1114.2287423072535\n",
      "right line curvature: 744.7719136497016\n",
      "distance from center [0.47173875]\n",
      "left line curvature: 1242.1738448759834\n",
      "right line curvature: 890.5027646948411\n",
      "distance from center [0.46932978]\n"
     ]
    },
    {
     "name": "stderr",
     "output_type": "stream",
     "text": [
      " 98%|█████████▊| 1231/1261 [02:53<00:04,  7.09it/s]"
     ]
    },
    {
     "name": "stdout",
     "output_type": "stream",
     "text": [
      "left line curvature: 1447.9526434792347\n",
      "right line curvature: 890.7646642034229\n",
      "distance from center [0.45581113]\n",
      "left line curvature: 1572.4762961387578\n",
      "right line curvature: 3271.9374948582667\n",
      "distance from center [0.41152977]\n"
     ]
    },
    {
     "name": "stderr",
     "output_type": "stream",
     "text": [
      " 98%|█████████▊| 1233/1261 [02:53<00:03,  7.09it/s]"
     ]
    },
    {
     "name": "stdout",
     "output_type": "stream",
     "text": [
      "left line curvature: 1765.485946837421\n",
      "right line curvature: 8442.968014241309\n",
      "distance from center [0.42289855]\n",
      "left line curvature: 1581.7261966782203\n",
      "right line curvature: 11598.555615098621\n",
      "distance from center [0.4372472]\n"
     ]
    },
    {
     "name": "stderr",
     "output_type": "stream",
     "text": [
      " 98%|█████████▊| 1235/1261 [02:54<00:03,  7.09it/s]"
     ]
    },
    {
     "name": "stdout",
     "output_type": "stream",
     "text": [
      "left line curvature: 1733.0851907387964\n",
      "right line curvature: 25576.610453391364\n",
      "distance from center [0.44939452]\n",
      "left line curvature: 1605.3626705987751\n",
      "right line curvature: 10670.640155416015\n",
      "distance from center [0.46607854]\n"
     ]
    },
    {
     "name": "stderr",
     "output_type": "stream",
     "text": [
      " 98%|█████████▊| 1237/1261 [02:54<00:03,  7.10it/s]"
     ]
    },
    {
     "name": "stdout",
     "output_type": "stream",
     "text": [
      "left line curvature: 1992.520284813494\n",
      "right line curvature: 5967.125229806645\n",
      "distance from center [0.47955107]\n",
      "left line curvature: 2601.867191596913\n",
      "right line curvature: 48458.9813887785\n",
      "distance from center [0.4864104]\n"
     ]
    },
    {
     "name": "stderr",
     "output_type": "stream",
     "text": [
      " 98%|█████████▊| 1239/1261 [02:54<00:03,  7.10it/s]"
     ]
    },
    {
     "name": "stdout",
     "output_type": "stream",
     "text": [
      "left line curvature: 2473.3935998062057\n",
      "right line curvature: 2722.543869749405\n",
      "distance from center [0.50366208]\n",
      "left line curvature: 2496.232957700434\n",
      "right line curvature: 1323.6456359542876\n",
      "distance from center [0.51148679]\n"
     ]
    },
    {
     "name": "stderr",
     "output_type": "stream",
     "text": [
      " 98%|█████████▊| 1241/1261 [02:54<00:02,  7.10it/s]"
     ]
    },
    {
     "name": "stdout",
     "output_type": "stream",
     "text": [
      "left line curvature: 2653.900953775928\n",
      "right line curvature: 2113.896398737482\n",
      "distance from center [0.51666009]\n",
      "left line curvature: 2469.2604932184645\n",
      "right line curvature: 1510.1826579776396\n",
      "distance from center [0.52732133]\n"
     ]
    },
    {
     "name": "stderr",
     "output_type": "stream",
     "text": [
      " 99%|█████████▊| 1243/1261 [02:55<00:02,  7.10it/s]"
     ]
    },
    {
     "name": "stdout",
     "output_type": "stream",
     "text": [
      "left line curvature: 2382.070092515916\n",
      "right line curvature: 7294.917227008346\n",
      "distance from center [0.50423313]\n",
      "left line curvature: 2898.439929514858\n",
      "right line curvature: 56959.83219251848\n",
      "distance from center [0.51433197]\n"
     ]
    },
    {
     "name": "stderr",
     "output_type": "stream",
     "text": [
      " 99%|█████████▊| 1245/1261 [02:55<00:02,  7.10it/s]"
     ]
    },
    {
     "name": "stdout",
     "output_type": "stream",
     "text": [
      "left line curvature: 3302.5994498147325\n",
      "right line curvature: 4197.324282318078\n",
      "distance from center [0.5223319]\n",
      "left line curvature: 2746.5673246096167\n",
      "right line curvature: 4495.424350842271\n",
      "distance from center [0.53137919]\n"
     ]
    },
    {
     "name": "stderr",
     "output_type": "stream",
     "text": [
      " 99%|█████████▉| 1247/1261 [02:55<00:01,  7.10it/s]"
     ]
    },
    {
     "name": "stdout",
     "output_type": "stream",
     "text": [
      "left line curvature: 2363.8607322245102\n",
      "right line curvature: 4048.6579362102825\n",
      "distance from center [0.5551663]\n",
      "left line curvature: 2658.6501168058476\n",
      "right line curvature: 1731.09037366226\n",
      "distance from center [0.56473495]\n"
     ]
    },
    {
     "name": "stderr",
     "output_type": "stream",
     "text": [
      " 99%|█████████▉| 1249/1261 [02:55<00:01,  7.10it/s]"
     ]
    },
    {
     "name": "stdout",
     "output_type": "stream",
     "text": [
      "left line curvature: 2468.6582303101986\n",
      "right line curvature: 1353.378929329573\n",
      "distance from center [0.57578348]\n",
      "left line curvature: 3975.06668033264\n",
      "right line curvature: 2251.647538487726\n",
      "distance from center [0.56800212]\n"
     ]
    },
    {
     "name": "stderr",
     "output_type": "stream",
     "text": [
      " 99%|█████████▉| 1251/1261 [02:56<00:01,  7.10it/s]"
     ]
    },
    {
     "name": "stdout",
     "output_type": "stream",
     "text": [
      "left line curvature: 4468.3904135913135\n",
      "right line curvature: 1824.768441733395\n",
      "distance from center [0.56561316]\n",
      "left line curvature: 4830.854003034236\n",
      "right line curvature: 1830.5917716895106\n",
      "distance from center [0.56663307]\n"
     ]
    },
    {
     "name": "stderr",
     "output_type": "stream",
     "text": [
      " 99%|█████████▉| 1253/1261 [02:56<00:01,  7.10it/s]"
     ]
    },
    {
     "name": "stdout",
     "output_type": "stream",
     "text": [
      "left line curvature: 5278.554333406408\n",
      "right line curvature: 2005.8998863004053\n",
      "distance from center [0.56576855]\n",
      "left line curvature: 48269.27394322496\n",
      "right line curvature: 2466.8684235064434\n",
      "distance from center [0.5239897]\n"
     ]
    },
    {
     "name": "stderr",
     "output_type": "stream",
     "text": [
      "100%|█████████▉| 1255/1261 [02:56<00:00,  7.10it/s]"
     ]
    },
    {
     "name": "stdout",
     "output_type": "stream",
     "text": [
      "left line curvature: 24709.88998149264\n",
      "right line curvature: 2053.3912035027847\n",
      "distance from center [0.52198755]\n",
      "left line curvature: 5960.271264135399\n",
      "right line curvature: 3550.957969656871\n",
      "distance from center [0.5363902]\n"
     ]
    },
    {
     "name": "stderr",
     "output_type": "stream",
     "text": [
      "100%|█████████▉| 1257/1261 [02:57<00:00,  7.10it/s]"
     ]
    },
    {
     "name": "stdout",
     "output_type": "stream",
     "text": [
      "left line curvature: 9945.807907004886\n",
      "right line curvature: 19395.214646456992\n",
      "distance from center [0.53747889]\n",
      "left line curvature: 15800.207754684207\n",
      "right line curvature: 2981.0193665560246\n",
      "distance from center [0.53771422]\n"
     ]
    },
    {
     "name": "stderr",
     "output_type": "stream",
     "text": [
      "100%|█████████▉| 1259/1261 [02:57<00:00,  7.10it/s]"
     ]
    },
    {
     "name": "stdout",
     "output_type": "stream",
     "text": [
      "left line curvature: 38639.67405383579\n",
      "right line curvature: 1289.2738305268374\n",
      "distance from center [0.5387256]\n",
      "left line curvature: 14475.587374632078\n",
      "right line curvature: 1400.9101629374402\n",
      "distance from center [0.52835918]\n"
     ]
    },
    {
     "name": "stderr",
     "output_type": "stream",
     "text": [
      "100%|█████████▉| 1260/1261 [02:57<00:00,  7.10it/s]\n"
     ]
    },
    {
     "name": "stdout",
     "output_type": "stream",
     "text": [
      "left line curvature: 17028.77245710956\n",
      "right line curvature: 1102.4709788700277\n",
      "distance from center [0.52781376]\n",
      "[MoviePy] Done.\n",
      "[MoviePy] >>>> Video ready: output_videos/project_video.mp4 \n",
      "\n",
      "CPU times: user 3min 12s, sys: 27 s, total: 3min 39s\n",
      "Wall time: 2min 58s\n"
     ]
    }
   ],
   "source": [
    "video = 'project_video.mp4'\n",
    "output_video_dir = 'output_videos'\n",
    "output_video = output_video_dir + '/' + video\n",
    "\n",
    "clip1 = VideoFileClip(video)\n",
    "# clip1 = VideoFileClip(video).subclip(0,1)\n",
    "white_clip = clip1.fl_image(process_image) #NOTE: this function expects color images!!\n",
    "%time white_clip.write_videofile(output_video, audio=False)\n"
   ]
  },
  {
   "cell_type": "code",
   "execution_count": null,
   "metadata": {},
   "outputs": [],
   "source": []
  },
  {
   "cell_type": "code",
   "execution_count": null,
   "metadata": {},
   "outputs": [],
   "source": []
  },
  {
   "cell_type": "code",
   "execution_count": null,
   "metadata": {},
   "outputs": [],
   "source": []
  }
 ],
 "metadata": {
  "kernelspec": {
   "display_name": "Python 3",
   "language": "python",
   "name": "python3"
  },
  "language_info": {
   "codemirror_mode": {
    "name": "ipython",
    "version": 3
   },
   "file_extension": ".py",
   "mimetype": "text/x-python",
   "name": "python",
   "nbconvert_exporter": "python",
   "pygments_lexer": "ipython3",
   "version": "3.5.2"
  },
  "widgets": {
   "state": {},
   "version": "1.1.2"
  }
 },
 "nbformat": 4,
 "nbformat_minor": 1
}
